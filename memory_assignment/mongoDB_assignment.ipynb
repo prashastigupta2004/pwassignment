{
 "cells": [
  {
   "cell_type": "markdown",
   "id": "df8095b2-8161-48d1-9953-0b736cc9636d",
   "metadata": {},
   "source": [
    "## Q1. What is MongoDB? Explain non-relational databases in short. In which scenarios it is preferred to use MongoDB over SQL databases?"
   ]
  },
  {
   "cell_type": "markdown",
   "id": "89c05053-b3b0-4989-953e-6aa284f87c41",
   "metadata": {},
   "source": [
    "Ans= MongoDB is a popular open-source NoSQL database management system (DBMS) that stores data in a flexible, JSON-like document format. It is designed for scalability, high availability, and performance, making it suitable for a wide range of applications, from small startups to large enterprises.\n",
    "\n",
    "Non-relational databases, also known as NoSQL databases, are a category of databases that do not adhere to the traditional relational database model used by SQL databases. Instead, they use flexible data models that can adapt to various types of data and are often optimized for specific use cases. Non-relational databases offer advantages such as horizontal scalability, flexible schema design, and support for semi-structured and unstructured data.\n",
    "\n",
    "In scenarios where the data structure is highly dynamic or schemaless, NoSQL databases like MongoDB are preferred over SQL databases. Some common scenarios where MongoDB is preferred include:\n",
    "\n",
    "- Big Data and Real-Time Analytics: MongoDB excels in handling large volumes of data and real-time analytics, making it suitable for applications that require processing and analyzing big data in real-time.\n",
    "\n",
    "- Highly Scalable Applications: MongoDB's horizontal scaling capabilities allow it to scale out across multiple servers or clusters, making it suitable for applications with rapidly growing data or high throughput requirements.\n",
    "\n",
    "- Flexible Schema Design: MongoDB's document-oriented data model allows for flexible schema design, making it easy to adapt to changing data requirements without the need for complex schema migrations.\n",
    "\n",
    "- Content Management Systems (CMS): MongoDB is well-suited for content management systems and applications that handle a wide variety of content types, such as articles, images, videos, and user-generated content.\n",
    "\n",
    "- Caching and Session Management: MongoDB can be used as a caching layer or session store to improve the performance of web applications by storing frequently accessed data in memory."
   ]
  },
  {
   "cell_type": "markdown",
   "id": "baf2b0d2-49f2-44d6-aa26-1badb2993102",
   "metadata": {},
   "source": [
    "## Q2. State and Explain the features of MongoDB."
   ]
  },
  {
   "cell_type": "markdown",
   "id": "47b3429c-f97e-4530-90f2-dfb63830076a",
   "metadata": {},
   "source": [
    "Ans= MongoDB is a popular NoSQL database management system known for its flexibility, scalability, and performance. Below are some of the key features of MongoDB:\n",
    "\n",
    "- Document-Oriented: MongoDB stores data in flexible, JSON-like documents called BSON (Binary JSON). Each document can have a different structure, allowing for hierarchical data representation and support for semi-structured and unstructured data.\n",
    "\n",
    "- Flexible Schema Design: MongoDB's schema-less design allows for dynamic and flexible schema development. Documents within a collection can have different fields and data types, making it easy to evolve the data model over time without requiring a predefined schema.\n",
    "\n",
    "- High Availability: MongoDB provides built-in support for high availability through replica sets. A replica set is a group of MongoDB servers that maintain multiple copies of data, ensuring automatic failover and data redundancy in case of server failures.\n",
    "\n",
    "- Horizontal Scalability: MongoDB scales horizontally by sharding data across multiple servers or clusters. Sharding distributes data across shards based on a shard key, allowing MongoDB to handle large volumes of data and high throughput requirements.\n",
    "\n",
    "- Indexing: MongoDB supports various types of indexes, including single-field, compound, multi-key, and geospatial indexes. Indexes improve query performance by allowing for efficient data retrieval and sorting.\n",
    "\n",
    "- Aggregation Framework: MongoDB provides a powerful aggregation framework for performing data aggregation and analysis operations, such as grouping, filtering, sorting, and projecting data across multiple documents in a collection.\n",
    "\n",
    "- Replication and Fault Tolerance: MongoDB's replica sets provide automatic failover and data redundancy, ensuring high availability and fault tolerance. In the event of a server failure, MongoDB automatically promotes a secondary node to primary to ensure uninterrupted service.\n",
    "\n",
    "- Security: MongoDB provides various security features, including authentication, authorization, encryption, and auditing. Users can configure access control and authentication mechanisms to restrict access to databases and collections based on user roles and permissions."
   ]
  },
  {
   "cell_type": "markdown",
   "id": "cd6835b8-bb35-4d78-a0df-6a368e228ee6",
   "metadata": {},
   "source": [
    "## Q3. Write a code to connect MongoDB to Python. Also, create a database and a collection in MongoDB."
   ]
  },
  {
   "cell_type": "code",
   "execution_count": null,
   "id": "112e7d2a-c5bd-4178-98f0-be0a15c8f154",
   "metadata": {},
   "outputs": [],
   "source": [
    "import pymongo\n",
    "\n",
    "# MongoDB connection string (replace 'localhost' and '27017' with your MongoDB host and port)\n",
    "mongo_uri = \"mongodb://localhost:27017/\"\n",
    "\n",
    "# Connect to MongoDB server\n",
    "client = pymongo.MongoClient(mongo_uri)\n",
    "\n",
    "# Access or create a database (replace 'mydatabase' with the name of your database)\n",
    "my_database = client[\"mydatabase\"]\n",
    "\n",
    "# Access or create a collection within the database (replace 'mycollection' with the name of your collection)\n",
    "my_collection = my_database[\"mycollection\"]\n",
    "\n",
    "# Print the list of databases in the MongoDB server\n",
    "print(\"List of databases:\", client.list_database_names())\n",
    "\n",
    "# Print the list of collections in the 'mydatabase' database\n",
    "print(\"List of collections in 'mydatabase':\", my_database.list_collection_names())\n",
    "\n",
    "# Print a success message\n",
    "print(\"Successfully connected to MongoDB.\")\n"
   ]
  },
  {
   "cell_type": "markdown",
   "id": "2b56c149-30c6-4f96-9fdb-6788cd7c7e6e",
   "metadata": {},
   "source": [
    "## Q4. Using the database and the collection created in question number 3, write a code to insert one record, and insert many records. Use the find() and find_one() methods to print the inserted record."
   ]
  },
  {
   "cell_type": "code",
   "execution_count": null,
   "id": "c78490d4-c7bf-4679-9f13-e06538c35245",
   "metadata": {},
   "outputs": [],
   "source": [
    "import pymongo\n",
    "\n",
    "# MongoDB connection string (replace 'localhost' and '27017' with your MongoDB host and port)\n",
    "mongo_uri = \"mongodb://localhost:27017/\"\n",
    "\n",
    "# Connect to MongoDB server\n",
    "client = pymongo.MongoClient(mongo_uri)\n",
    "\n",
    "# Access the database and collection\n",
    "my_database = client[\"mydatabase\"]\n",
    "my_collection = my_database[\"mycollection\"]\n",
    "\n",
    "# Insert one record\n",
    "record_one = {\"name\": \"John\", \"age\": 30, \"city\": \"New York\"}\n",
    "my_collection.insert_one(record_one)\n",
    "print(\"Inserted one record:\", record_one)\n",
    "\n",
    "# Insert multiple records\n",
    "records_many = [\n",
    "    {\"name\": \"Alice\", \"age\": 25, \"city\": \"London\"},\n",
    "    {\"name\": \"Bob\", \"age\": 35, \"city\": \"Paris\"},\n",
    "    {\"name\": \"Emily\", \"age\": 28, \"city\": \"Berlin\"}\n",
    "]\n",
    "my_collection.insert_many(records_many)\n",
    "print(\"Inserted multiple records:\", records_many)\n",
    "\n",
    "# Find and print the inserted record using find_one()\n",
    "print(\"\\nFind one record:\")\n",
    "print(my_collection.find_one({\"name\": \"John\"}))\n",
    "\n",
    "# Find and print all inserted records using find()\n",
    "print(\"\\nFind all records:\")\n",
    "for record in my_collection.find():\n",
    "    print(record)\n"
   ]
  },
  {
   "cell_type": "markdown",
   "id": "c5ed0afd-7a6d-4197-95f8-1b854fda3f8b",
   "metadata": {},
   "source": [
    "## Q5. Explain how you can use the find() method to query the MongoDB database. Write a simple code to demonstrate this."
   ]
  },
  {
   "cell_type": "markdown",
   "id": "834ccd94-0efa-4ca2-a8fc-3b3547903ad1",
   "metadata": {},
   "source": [
    "Ans= In MongoDB, the find() method is used to query documents in a collection based on specified criteria. The find() method returns a cursor object that allows you to iterate over the results and retrieve matching documents.\n",
    "\n",
    "You can use the find() method to perform various types of queries, including filtering documents based on field values, sorting the results, limiting the number of returned documents, and projecting specific fields."
   ]
  },
  {
   "cell_type": "code",
   "execution_count": null,
   "id": "8b10836c-53b5-4476-a1c5-d722de5833f7",
   "metadata": {},
   "outputs": [],
   "source": [
    "import pymongo\n",
    "\n",
    "# MongoDB connection string (replace 'localhost' and '27017' with your MongoDB host and port)\n",
    "mongo_uri = \"mongodb://localhost:27017/\"\n",
    "\n",
    "# Connect to MongoDB server\n",
    "client = pymongo.MongoClient(mongo_uri)\n",
    "\n",
    "# Access the database and collection\n",
    "my_database = client[\"mydatabase\"]\n",
    "my_collection = my_database[\"mycollection\"]\n",
    "\n",
    "# Insert some sample data into the collection\n",
    "data = [\n",
    "    {\"name\": \"John\", \"age\": 30, \"city\": \"New York\"},\n",
    "    {\"name\": \"Alice\", \"age\": 25, \"city\": \"London\"},\n",
    "    {\"name\": \"Bob\", \"age\": 35, \"city\": \"Paris\"},\n",
    "    {\"name\": \"Emily\", \"age\": 28, \"city\": \"Berlin\"}\n",
    "]\n",
    "my_collection.insert_many(data)\n",
    "\n",
    "# Perform a simple query using the find() method\n",
    "query = {\"city\": \"London\"}  # Find documents where the city is \"London\"\n",
    "results = my_collection.find(query)\n",
    "\n",
    "# Print the results\n",
    "print(\"Results of the query:\")\n",
    "for result in results:\n",
    "    print(result)\n"
   ]
  },
  {
   "cell_type": "markdown",
   "id": "38a9a76a-f390-4b49-9f1f-27f4353e8c7e",
   "metadata": {},
   "source": [
    "## Q6. Explain the sort() method. Give an example to demonstrate sorting in MongoDB."
   ]
  },
  {
   "cell_type": "markdown",
   "id": "f010771e-996f-4b94-9747-b0a41daee0b0",
   "metadata": {},
   "source": [
    "Ans= In MongoDB, the sort() method is used to sort the documents in a collection based on one or more fields. The sort() method takes one parameter, which is a document specifying the field(s) to sort by and the sort order.\n",
    "\n",
    "The sort order can be specified using 1 for ascending order and -1 for descending order. By default, the sort() method sorts documents in ascending order."
   ]
  },
  {
   "cell_type": "code",
   "execution_count": null,
   "id": "32d33320-5485-433d-bc3d-15df390fb3e1",
   "metadata": {},
   "outputs": [],
   "source": [
    "import pymongo\n",
    "\n",
    "# MongoDB connection string (replace 'localhost' and '27017' with your MongoDB host and port)\n",
    "mongo_uri = \"mongodb://localhost:27017/\"\n",
    "\n",
    "# Connect to MongoDB server\n",
    "client = pymongo.MongoClient(mongo_uri)\n",
    "\n",
    "# Access the database and collection\n",
    "my_database = client[\"mydatabase\"]\n",
    "students_collection = my_database[\"students\"]\n",
    "\n",
    "# Query and sort documents by the 'score' field in ascending order\n",
    "results = students_collection.find().sort(\"score\", 1)\n",
    "\n",
    "# Print the sorted results\n",
    "for result in results:\n",
    "    print(result)"
   ]
  },
  {
   "cell_type": "markdown",
   "id": "98dd112f-a7e4-4ba0-8382-b1ecb40829a1",
   "metadata": {},
   "source": [
    "## Q7. Explain why delete_one(), delete_many(), and drop() is used."
   ]
  },
  {
   "cell_type": "markdown",
   "id": "7b350813-0886-4ac2-92b8-fe63d330a08c",
   "metadata": {},
   "source": [
    "Ans= In MongoDB, delete_one(), delete_many(), and drop() are methods used to remove documents or collections from a MongoDB database.\n",
    "\n",
    "1) delete_one(filter):\n",
    "\n",
    "- delete_one() is used to delete a single document from a collection that matches the specified filter criteria.\n",
    "- It takes a filter document as an argument, which specifies the criteria for selecting the document(s) to delete.\n",
    "- If multiple documents match the filter criteria, only the first matching document is deleted.\n",
    "- If no documents match the filter criteria, no action is taken, and the method returns without any error.\n",
    "\n",
    "2) delete_many(filter):\n",
    "\n",
    "- delete_many() is used to delete multiple documents from a collection that match the specified filter criteria.\n",
    "- It takes a filter document as an argument, similar to delete_one().\n",
    "- It deletes all documents that match the filter criteria.\n",
    "- If no documents match the filter criteria, no action is taken, and the method returns without any error.\n",
    "\n",
    "3) drop():\n",
    "\n",
    "- drop() is used to remove an entire collection from a database.\n",
    "- It does not take any arguments.\n",
    "- It permanently deletes the collection and all its documents.\n",
    "- Once a collection is dropped, it cannot be recovered, and all data in the collection is lost."
   ]
  },
  {
   "cell_type": "code",
   "execution_count": null,
   "id": "5e788f0b-7d44-447b-93d1-44c875b5c166",
   "metadata": {},
   "outputs": [],
   "source": []
  }
 ],
 "metadata": {
  "kernelspec": {
   "display_name": "Python 3 (ipykernel)",
   "language": "python",
   "name": "python3"
  },
  "language_info": {
   "codemirror_mode": {
    "name": "ipython",
    "version": 3
   },
   "file_extension": ".py",
   "mimetype": "text/x-python",
   "name": "python",
   "nbconvert_exporter": "python",
   "pygments_lexer": "ipython3",
   "version": "3.10.8"
  }
 },
 "nbformat": 4,
 "nbformat_minor": 5
}
