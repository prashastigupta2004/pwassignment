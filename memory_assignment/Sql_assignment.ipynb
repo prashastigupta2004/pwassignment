{
 "cells": [
  {
   "cell_type": "markdown",
   "id": "26b5070b-04c7-4667-967e-cb2fa0585c3c",
   "metadata": {},
   "source": [
    "## Q1. What is a database? Differentiate between SQL and NoSQL databases."
   ]
  },
  {
   "cell_type": "markdown",
   "id": "c8c66e52-39e9-4533-a756-abeb95a9132a",
   "metadata": {},
   "source": [
    "Ans= A database is a structured collection of data organized and stored in a way that facilitates efficient retrieval, updating, and management of data. Databases are commonly used in software applications to store and manage large volumes of structured or unstructured data.\n",
    "\n",
    "SQL (Structured Query Language) and NoSQL (Not Only SQL) are two types of database management systems (DBMS) that differ in their data models, query languages, and scalability characteristics. Here's a brief differentiation between SQL and NoSQL databases:\n",
    "\n",
    "SQL Databases:\n",
    "\n",
    "1) Data Model: SQL databases are based on the relational data model, where data is organized into tables with rows and columns. Relationships between tables are established using keys (e.g., primary keys, foreign keys).\n",
    "2) Schema: SQL databases typically have a predefined schema that defines the structure of tables, including data types, constraints, and relationships.\n",
    "3) Query Language: SQL databases use SQL (Structured Query Language) as the standard query language for querying and manipulating data. SQL provides powerful capabilities for querying, filtering, aggregating, and updating data.\n",
    "4) Transactions: SQL databases support ACID (Atomicity, Consistency, Isolation, Durability) transactions, which ensure that database operations are executed reliably and consistently.\n",
    "5) Scalability: SQL databases are generally vertically scalable, meaning they can handle increased workload by adding more resources (e.g., CPU, memory) to a single server. They may have limitations in horizontal scalability.\n",
    "\n",
    "NoSQL Databases:\n",
    "\n",
    "1) Data Model: NoSQL databases support various data models, including document-based, key-value, column-family, and graph-based models. These models are optimized for specific types of data and use cases.\n",
    "2) Schema: NoSQL databases are schema-less or have a flexible schema, allowing for dynamic schema changes and the storage of heterogeneous data within the same collection.\n",
    "3) Query Language: NoSQL databases use query languages specific to their data model. These languages may be less expressive than SQL but are optimized for efficient data retrieval and manipulation.\n",
    "4) Transactions: NoSQL databases may have relaxed transactional guarantees compared to SQL databases. They may support eventual consistency or provide tunable consistency levels based on application requirements.\n",
    "5) Scalability: NoSQL databases are designed for horizontal scalability, allowing them to distribute data across multiple nodes and handle large volumes of traffic and data. They are well-suited for scaling out in distributed environments."
   ]
  },
  {
   "cell_type": "markdown",
   "id": "7ae309f2-17ba-4d51-8925-5c2c733c9e3a",
   "metadata": {},
   "source": [
    "## Q2. What is DDL? Explain why CREATE, DROP, ALTER, and TRUNCATE are used with an example."
   ]
  },
  {
   "cell_type": "markdown",
   "id": "88ab21e4-adad-4855-a671-6658ce509e08",
   "metadata": {},
   "source": [
    "Ans= DDL stands for Data Definition Language, which is a subset of SQL (Structured Query Language) used for defining, modifying, and managing database structures. DDL statements are used to create, modify, or delete database objects such as tables, indexes, views, and constraints. DDL statements are important for defining the structure and organization of data within a database.\n",
    "\n",
    "CREATE:\n",
    "The CREATE statement is used to create new database objects, such as tables, indexes, views, or constraints.\n",
    "\n",
    "Example: Creating a new table named employees with columns for id, name, and salary."
   ]
  },
  {
   "cell_type": "code",
   "execution_count": null,
   "id": "247591d3-b7ce-4181-aba2-9dbaac7ae258",
   "metadata": {},
   "outputs": [],
   "source": [
    "CREATE TABLE employees (\n",
    "    id INT PRIMARY KEY,\n",
    "    name VARCHAR(100),\n",
    "    salary DECIMAL(10, 2)\n",
    ");\n"
   ]
  },
  {
   "cell_type": "markdown",
   "id": "fa6df513-2435-4054-8484-47d567047e38",
   "metadata": {},
   "source": [
    "DROP:\n",
    "The DROP statement is used to delete existing database objects, such as tables, indexes, views, or constraints.\n",
    "\n",
    "Example: Dropping the employees table."
   ]
  },
  {
   "cell_type": "code",
   "execution_count": null,
   "id": "8e570d42-3e69-4708-8716-d9d2aeee5a12",
   "metadata": {},
   "outputs": [],
   "source": [
    "DROP TABLE employees;"
   ]
  },
  {
   "cell_type": "markdown",
   "id": "73c9f22e-c6af-4172-9410-7cbf462b9162",
   "metadata": {},
   "source": [
    "ALTER:\n",
    "The ALTER statement is used to modify existing database objects, such as tables, by adding, modifying, or dropping columns or constraints.\n",
    "\n",
    "Example: Adding a new column department to the employees table."
   ]
  },
  {
   "cell_type": "markdown",
   "id": "52e76b12-463c-460b-90c1-b8eaace3564e",
   "metadata": {},
   "source": [
    "ALTER TABLE employees ADD COLUMN department VARCHAR(100);"
   ]
  },
  {
   "cell_type": "markdown",
   "id": "6cc06374-b3dc-408d-8470-a223d3a249af",
   "metadata": {},
   "source": [
    "TRUNCATE:\n",
    "The TRUNCATE statement is used to remove all rows from a table, effectively resetting the table's data while keeping its structure intact.\n",
    "Unlike DROP, TRUNCATE does not delete the table itself, only its data.\n",
    "\n",
    "Example: Removing all rows from the employees table."
   ]
  },
  {
   "cell_type": "code",
   "execution_count": null,
   "id": "b094cedc-6555-4f36-b17d-c49a49201e5f",
   "metadata": {},
   "outputs": [],
   "source": [
    "TRUNCATE TABLE employees;"
   ]
  },
  {
   "cell_type": "markdown",
   "id": "97128f41-b889-4a21-9a8b-17d8647458ae",
   "metadata": {},
   "source": [
    "## Q3. What is DML? Explain INSERT, UPDATE, and DELETE with an example."
   ]
  },
  {
   "cell_type": "markdown",
   "id": "c875fb56-72e2-46df-8546-093c23a63bf6",
   "metadata": {},
   "source": [
    "Ans= DML stands for Data Manipulation Language, which is a subset of SQL (Structured Query Language) used for manipulating data stored in a database. DML statements are used to insert, update, delete, and retrieve data from database tables. These statements allow users to interact with the data stored in the database and modify it according to their requirements.\n",
    "\n",
    "INSERT:\n",
    "The INSERT statement is used to add new rows of data into a table.\n",
    "\n",
    "Example: Inserting a new employee record into the employees table."
   ]
  },
  {
   "cell_type": "code",
   "execution_count": null,
   "id": "6a62f1b1-1e04-4f81-a3e0-19e1a3b7015d",
   "metadata": {},
   "outputs": [],
   "source": [
    "INSERT INTO employees (id, name, salary) VALUES (1, 'John Doe', 50000);\n"
   ]
  },
  {
   "cell_type": "markdown",
   "id": "677526ab-7f44-4727-a349-c82e8c91b21f",
   "metadata": {},
   "source": [
    "UPDATE:\n",
    "The UPDATE statement is used to modify existing data in a table.\n",
    "\n",
    "Example: Updating the salary of an employee with ID 1 in the employees table."
   ]
  },
  {
   "cell_type": "code",
   "execution_count": null,
   "id": "4fd103c9-8459-4858-92bf-11ba26018e3a",
   "metadata": {},
   "outputs": [],
   "source": [
    "UPDATE employees SET salary = 60000 WHERE id = 1;\n"
   ]
  },
  {
   "cell_type": "markdown",
   "id": "fcaf3d0a-2bfd-46d6-b7f6-0dfe791f438f",
   "metadata": {},
   "source": [
    "DELETE:\n",
    "The DELETE statement is used to remove one or more rows from a table.\n",
    "\n",
    "Example: Deleting an employee record with ID 1 from the employees table."
   ]
  },
  {
   "cell_type": "code",
   "execution_count": null,
   "id": "b70f9ab0-b243-4b47-bfa9-a3625d9057c2",
   "metadata": {},
   "outputs": [],
   "source": [
    "DELETE FROM employees WHERE id = 1;\n"
   ]
  },
  {
   "cell_type": "markdown",
   "id": "60380694-ce8c-4087-8c0b-2ba720326ed4",
   "metadata": {},
   "source": [
    "## Q4. What is DQL? Explain SELECT with an example."
   ]
  },
  {
   "cell_type": "markdown",
   "id": "def1f737-2b85-48d6-8b77-390940096126",
   "metadata": {},
   "source": [
    "Ans= DQL stands for Data Query Language, which is a subset of SQL (Structured Query Language) used for querying data from a database. DQL statements are used to retrieve data stored in database tables based on specified criteria. The most commonly used DQL statement is SELECT, which is used to retrieve data from one or more tables.\n",
    "\n",
    "SELECT:\n",
    "- The SELECT statement is used to retrieve data from one or more tables in a database.\n",
    "- It allows users to specify the columns they want to retrieve, the table(s) from which to retrieve data, and optional criteria for filtering the results.\n",
    "- Example: Retrieving all columns from the employees table."
   ]
  },
  {
   "cell_type": "code",
   "execution_count": null,
   "id": "69407f9a-2883-4cdf-bbbd-20c87421c166",
   "metadata": {},
   "outputs": [],
   "source": [
    "SELECT * FROM employees;\n"
   ]
  },
  {
   "cell_type": "markdown",
   "id": "5ba52e8b-acfa-435e-b2b5-6d7da4fadd31",
   "metadata": {},
   "source": [
    "## Q5. Explain Primary Key and Foreign Key."
   ]
  },
  {
   "cell_type": "markdown",
   "id": "9c03c527-ece8-4337-94c4-27542864836d",
   "metadata": {},
   "source": [
    "Ans= Primary Key and Foreign Key are two important concepts in relational database management systems (RDBMS) that establish relationships between tables and ensure data integrity.\n",
    "\n",
    "1) Primary Key:\n",
    "- A Primary Key is a column or combination of columns that uniquely identifies each row in a table.\n",
    "- It must have a unique value for each row and cannot contain NULL values.\n",
    "- By defining a Primary Key, you ensure the integrity of the data and enforce uniqueness constraints.\n",
    "- Example: In a table named employees, the employee_id column can be designated as the Primary Key, ensuring that each employee has a unique identifier.\n",
    "\n",
    "2) Foreign Key:\n",
    "- A Foreign Key is a column or combination of columns in one table that refers to the Primary Key in another table.\n",
    "- It establishes a relationship between the tables by enforcing referential integrity, ensuring that the values in the Foreign Key column(s) match the values of the Primary Key column(s) in the referenced table.\n",
    "- Foreign Key constraints prevent actions that would violate the integrity of the data, such as inserting a value that does not exist in the referenced table.\n",
    "- Example: In a table named orders, the customer_id column can be designated as a Foreign Key, referencing the customer_id column in the customers table."
   ]
  },
  {
   "cell_type": "markdown",
   "id": "15791a5d-dea3-4c08-8187-5c0db3a66141",
   "metadata": {},
   "source": [
    "## Q6. Write a python code to connect MySQL to python. Explain the cursor() and execute() method."
   ]
  },
  {
   "cell_type": "code",
   "execution_count": null,
   "id": "046114b5-75a9-4ad6-b014-f9e9deb6089c",
   "metadata": {},
   "outputs": [],
   "source": [
    "import mysql.connector\n",
    "\n",
    "# Connect to the MySQL database\n",
    "connection = mysql.connector.connect(\n",
    "    host=\"your_host\",\n",
    "    user=\"your_username\",\n",
    "    password=\"your_password\",\n",
    "    database=\"your_database\"\n",
    ")\n",
    "\n",
    "# Create a cursor object\n",
    "cursor = connection.cursor()\n",
    "\n",
    "# Execute a SQL query\n",
    "cursor.execute(\"SELECT * FROM your_table\")\n",
    "\n",
    "# Fetch and print the result\n",
    "result = cursor.fetchall()\n",
    "for row in result:\n",
    "    print(row)\n",
    "\n",
    "# Close the cursor and connection\n",
    "cursor.close()\n",
    "connection.close()\n"
   ]
  },
  {
   "cell_type": "markdown",
   "id": "1c89f5d8-90b2-4fe6-9dcb-5463731369d1",
   "metadata": {},
   "source": [
    "cursor() method:\n",
    "\n",
    "The cursor() method is used to create a cursor object, which is used to execute SQL queries and fetch results from the database.\n",
    "It returns a cursor object that allows you to interact with the database.\n",
    "The cursor object acts as a pointer to a specific location within the result set, allowing you to iterate over the rows returned by a query.\n",
    "Example: cursor = connection.cursor()\n",
    "\n",
    "execute() method:\n",
    "\n",
    "The execute() method is used to execute SQL queries on the database using the cursor object.\n",
    "It takes an SQL query as an argument and executes it on the connected database.\n",
    "After executing a query, you can fetch the result using methods like fetchone(), fetchall(), or fetchmany().\n",
    "Example: cursor.execute(\"SELECT * FROM your_table\")"
   ]
  },
  {
   "cell_type": "markdown",
   "id": "224f080d-5ace-4210-b9c4-54f6ba9b131e",
   "metadata": {},
   "source": [
    "## Q7. Give the order of execution of SQL clauses in an SQL query."
   ]
  },
  {
   "cell_type": "markdown",
   "id": "a556afb6-0c28-4847-9c99-788b3ffe9eac",
   "metadata": {},
   "source": [
    "Ans= In SQL, the order of execution of clauses in a SQL query is generally as follows:\n",
    "\n",
    "1) FROM: The FROM clause specifies the tables from which data will be retrieved. It identifies the source tables involved in the query.\n",
    "\n",
    "2) JOIN: If there are any join operations specified in the query (e.g., INNER JOIN, LEFT JOIN), they are applied next. Join operations combine rows from two or more tables based on a related column between them.\n",
    "\n",
    "3) WHERE: The WHERE clause filters the rows returned by the query based on specified conditions. It restricts the rows that are included in the result set.\n",
    "\n",
    "4) GROUP BY: If a GROUP BY clause is present in the query, rows with the same values in specified columns are grouped together. Aggregate functions (e.g., SUM, AVG, COUNT) can be applied to each group.\n",
    "\n",
    "5) HAVING: The HAVING clause filters the groups produced by the GROUP BY clause based on specified conditions. It is similar to the WHERE clause but operates on grouped rows rather than individual rows.\n",
    "\n",
    "6) SELECT: The SELECT clause specifies the columns to be included in the result set. It retrieves data from the tables or expressions generated by previous clauses in the query.\n",
    "\n",
    "7) DISTINCT: If the DISTINCT keyword is used, duplicate rows in the result set are removed.\n",
    "\n",
    "8) ORDER BY: The ORDER BY clause sorts the rows in the result set based on specified columns and sort orders. It determines the order in which the rows are presented in the final output.\n",
    "\n",
    "9) LIMIT / OFFSET: If the query includes a LIMIT clause, it restricts the number of rows returned by the query. An optional OFFSET clause can be used to skip a specified number of rows before returning results."
   ]
  },
  {
   "cell_type": "code",
   "execution_count": null,
   "id": "80ebeabc-b3a2-4a3c-a7e5-8d881a52c611",
   "metadata": {},
   "outputs": [],
   "source": []
  }
 ],
 "metadata": {
  "kernelspec": {
   "display_name": "Python 3 (ipykernel)",
   "language": "python",
   "name": "python3"
  },
  "language_info": {
   "codemirror_mode": {
    "name": "ipython",
    "version": 3
   },
   "file_extension": ".py",
   "mimetype": "text/x-python",
   "name": "python",
   "nbconvert_exporter": "python",
   "pygments_lexer": "ipython3",
   "version": "3.10.8"
  }
 },
 "nbformat": 4,
 "nbformat_minor": 5
}
