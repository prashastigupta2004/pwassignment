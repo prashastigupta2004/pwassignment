{
 "cells": [
  {
   "cell_type": "markdown",
   "id": "d533175c-ca25-49d1-a7b1-3c2a6e77e21a",
   "metadata": {},
   "source": [
    "## Q1. What is Flask Framework? What are the advantages of Flask Framework?"
   ]
  },
  {
   "cell_type": "markdown",
   "id": "4d7527fd-ab9b-48ea-97be-bbd1c3472887",
   "metadata": {},
   "source": [
    "Ans= Flask is a lightweight and flexible micro-framework for building web applications in Python. It is designed to be simple, easy to use, and extensible, making it a popular choice for developers to quickly create web applications and APIs.\n",
    "\n",
    "Key features of Flask framework include:\n",
    "\n",
    "1. **Lightweight and Minimalistic**: Flask is minimalistic in nature, providing only the essentials for web development. It allows developers to start small and add functionality as needed, without imposing unnecessary dependencies or complexity.\n",
    "\n",
    "2. **Easy to Learn and Use**: Flask has a simple and intuitive API that is easy to understand and use, especially for developers familiar with Python. Its simplicity makes it an ideal choice for beginners and small projects.\n",
    "\n",
    "3. **Flexibility and Extensibility**: Flask allows developers to easily extend and customize its functionality through a wide range of extensions and plugins. These extensions provide additional features such as database integration, authentication, form validation, and more, allowing developers to tailor their applications to specific requirements.\n",
    "\n",
    "4. **RESTful Routing**: Flask supports RESTful routing, allowing developers to define routes for different HTTP methods (GET, POST, PUT, DELETE) and handle them appropriately. This makes it easy to create RESTful APIs for building web services.\n",
    "\n",
    "5. **Built-in Development Server**: Flask comes with a built-in development server that makes it easy to test and debug applications locally without the need for additional setup or configuration. This built-in server is convenient for rapid development and prototyping.\n",
    "\n",
    "Advantages of Flask Framework:\n",
    "- Lightweight and minimalistic, making it easy to learn and use.\n",
    "- Flexibility and extensibility through a wide range of extensions and plugins.\n",
    "- Built-in development server for rapid prototyping and testing.\n",
    "- Support for RESTful routing and creation of web APIs.\n",
    "- Integration with popular Python libraries and tools.\n",
    "- Active community and ecosystem with extensive documentation and resources.\n",
    "- Well-suited for small to medium-sized web applications and APIs."
   ]
  },
  {
   "cell_type": "markdown",
   "id": "8f8502ce-9154-4907-b08f-9b457e52148f",
   "metadata": {},
   "source": [
    "## Q2. Create a simple Flask application to display ‘Hello World!!’. Attach the screenshot of the output in Jupyter Notebook."
   ]
  },
  {
   "cell_type": "code",
   "execution_count": null,
   "id": "4c7e6285-b37e-4baf-99a8-b9df2bdf1d08",
   "metadata": {},
   "outputs": [],
   "source": [
    "pip install Flask\n"
   ]
  },
  {
   "cell_type": "code",
   "execution_count": null,
   "id": "5bc32896-25eb-4d82-9398-b8d9d28e947f",
   "metadata": {},
   "outputs": [],
   "source": [
    "from flask import Flask\n",
    "\n",
    "app = Flask(__name__)\n",
    "\n",
    "@app.route('/')\n",
    "def hello_world():\n",
    "    return 'Hello World!!'\n",
    "\n",
    "if __name__ == '__main__':\n",
    "    app.run(debug=True)\n"
   ]
  },
  {
   "cell_type": "markdown",
   "id": "b5ad822d-eb5b-4280-9bbb-93e12f396d66",
   "metadata": {},
   "source": [
    "## Q3. What is App routing in Flask? Why do we use app routes?"
   ]
  },
  {
   "cell_type": "markdown",
   "id": "320e1764-fe43-409b-b51e-59c2dcd48f32",
   "metadata": {},
   "source": [
    "Ans= n Flask, app routing refers to the process of mapping URL paths to specific view functions or endpoints within a Flask application. It allows you to define routes for different URLs and specify the corresponding logic or behavior that should be executed when those URLs are requested by clients.\n",
    "\n",
    "App routing is achieved using the @app.route() decorator provided by Flask. This decorator allows you to associate a URL pattern with a view function, which is responsible for generating the HTTP response for that URL.\n",
    "\n",
    "App routes are used for several reasons:\n",
    "\n",
    "URL Mapping: App routes allow you to map specific URLs to corresponding view functions or endpoints within your Flask application. This helps organize the code and define clear and predictable URL patterns for accessing different parts of your application.\n",
    "\n",
    "View Function Binding: App routes bind URL patterns to view functions, allowing you to define the logic or behavior that should be executed when a particular URL is requested by clients. This separation of concerns makes it easier to maintain and extend your application.\n",
    "\n",
    "RESTful Routing: Flask supports RESTful routing, allowing you to define routes for different HTTP methods (GET, POST, PUT, DELETE) and handle them appropriately. This makes it easy to create RESTful APIs for building web services.\n",
    "\n",
    "Dynamic URL Patterns: App routes support dynamic URL patterns using route parameters, allowing you to capture variable parts of a URL and pass them as arguments to view functions. This enables building dynamic and data-driven web applications."
   ]
  },
  {
   "cell_type": "markdown",
   "id": "df6d8953-d1a6-47ec-9171-f08e979af2e5",
   "metadata": {},
   "source": [
    "## Q4. Create a “/welcome” route to display the welcome message “Welcome to ABC Corporation” and a “/” route to show the following details:\n",
    "Company Name: ABC Corporation\n",
    "\n",
    "Location: India\n",
    "\n",
    "Contact Detail: 999-999-9999"
   ]
  },
  {
   "cell_type": "code",
   "execution_count": null,
   "id": "d6eaf567-279d-4c01-b0df-26cdb022eb26",
   "metadata": {},
   "outputs": [],
   "source": [
    "from flask import Flask\n",
    "\n",
    "app = Flask(__name__)\n",
    "\n",
    "@app.route('/')\n",
    "def home():\n",
    "    return \"\"\"<h1>Company Name: ABC Corporation</h1>\n",
    "               <h2>Location: India</h2>\n",
    "               <h2>Contact Detail: 999-999-9999</h2>\"\"\"\n",
    "\n",
    "@app.route('/welcome')\n",
    "def welcome():\n",
    "    return \"<h1>Welcome to ABC Corporation</h1>\"\n",
    "\n",
    "if __name__ == '__main__':\n",
    "    app.run(debug=True)\n"
   ]
  },
  {
   "cell_type": "markdown",
   "id": "f4a286ce-b15d-4537-b7af-4cf09e17ea11",
   "metadata": {},
   "source": [
    "## Q5. What function is used in Flask for URL Building? Write a Python code to demonstrate the working of the url_for() function."
   ]
  },
  {
   "cell_type": "markdown",
   "id": "377483d6-e3a5-4ea3-9093-08ff948c71c7",
   "metadata": {},
   "source": [
    "Ans= In Flask, the url_for() function is used for URL building. It generates a URL for the specified endpoint (view function) by dynamically creating a URL based on the route pattern defined in the application routes."
   ]
  },
  {
   "cell_type": "code",
   "execution_count": null,
   "id": "b53a9b56-c866-406b-9634-e2f956f8f699",
   "metadata": {},
   "outputs": [],
   "source": [
    "from flask import Flask, url_for\n",
    "\n",
    "app = Flask(__name__)\n",
    "\n",
    "@app.route('/')\n",
    "def home():\n",
    "    return 'Home Page'\n",
    "\n",
    "@app.route('/about')\n",
    "def about():\n",
    "    return 'About Page'\n",
    "\n",
    "@app.route('/contact')\n",
    "def contact():\n",
    "    return 'Contact Page'\n",
    "\n",
    "if __name__ == '__main__':\n",
    "    with app.test_request_context():\n",
    "        print(url_for('home'))    # Generates URL for the 'home' endpoint\n",
    "        print(url_for('about'))   # Generates URL for the 'about' endpoint\n",
    "        print(url_for('contact')) # Generates URL for the 'contact' endpoint\n"
   ]
  }
 ],
 "metadata": {
  "kernelspec": {
   "display_name": "Python 3 (ipykernel)",
   "language": "python",
   "name": "python3"
  },
  "language_info": {
   "codemirror_mode": {
    "name": "ipython",
    "version": 3
   },
   "file_extension": ".py",
   "mimetype": "text/x-python",
   "name": "python",
   "nbconvert_exporter": "python",
   "pygments_lexer": "ipython3",
   "version": "3.10.8"
  }
 },
 "nbformat": 4,
 "nbformat_minor": 5
}
