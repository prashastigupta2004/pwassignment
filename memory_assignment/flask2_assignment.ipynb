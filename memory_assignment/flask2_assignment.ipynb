{
 "cells": [
  {
   "cell_type": "markdown",
   "id": "1af2e5b4-d4e1-4934-aa16-02df36a64ba9",
   "metadata": {},
   "source": [
    "## Q1. Explain GET and POST methods."
   ]
  },
  {
   "cell_type": "markdown",
   "id": "3fd04a1a-e07b-4dcf-a3f3-b5ae7a36286f",
   "metadata": {},
   "source": [
    "Ans= GET and POST are two of the most commonly used HTTP methods for communication between a client and a server in web development.\n",
    "\n",
    "GET Method:\n",
    "\n",
    "- The GET method is used to request data from a specified resource.\n",
    "- When a client sends a GET request to a server, it requests data from the server without modifying or updating any existing data.\n",
    "- GET requests are typically used for retrieving data, such as fetching web pages, images, or other resources from a server.\n",
    "- In a GET request, the data is sent as part of the URL in the form of query parameters. These parameters are appended to the URL after a question mark (?) and separated by ampersands (&).\n",
    "- GET requests are idempotent, meaning multiple identical requests will produce the same result as a single request.\n",
    "- Since GET requests expose parameters in the URL, they are less secure for sending sensitive data, such as passwords or user credentials.\n",
    "\n",
    "POST Method:\n",
    "\n",
    "- The POST method is used to submit data to be processed to a specified resource.\n",
    "- When a client sends a POST request to a server, it submits data to the server for processing, typically as part of a form submission or API call.\n",
    "- POST requests are commonly used for creating, updating, or deleting resources on the server, as well as for submitting data to be processed or stored.\n",
    "- In a POST request, the data is sent in the request body, separate from the URL, which allows for sending larger amounts of data compared to GET requests.\n",
    "- POST requests are not idempotent, meaning multiple identical requests may produce different results if the server processes each request separately.\n",
    "- POST requests are more secure for sending sensitive data since the data is not exposed in the URL and is encrypted when sent over HTTPS.Ans= "
   ]
  },
  {
   "cell_type": "markdown",
   "id": "3c3a65ac-abcc-4c15-9c9c-82b785cd05ad",
   "metadata": {},
   "source": [
    "## Q2. Why is request used in Flask?"
   ]
  },
  {
   "cell_type": "markdown",
   "id": "70b08145-a87b-48c9-ae01-cf8daac00867",
   "metadata": {},
   "source": [
    "Ans= In Flask, the request object is used to access incoming request data in the context of a client's HTTP request to the server. It provides access to various properties and attributes of the HTTP request, such as form data, query parameters, headers, cookies, files uploaded in a form, and more. The request object is an instance of the Request class provided by Flask.\n",
    "\n",
    "The request object is commonly used in Flask applications for the following purposes:\n",
    "\n",
    "Accessing Form Data: When a client submits a form in a web application, the form data is sent as part of the HTTP request. The request object allows you to access this form data and process it within your Flask view functions. You can access form data using request.form.\n",
    "\n",
    "Accessing Query Parameters: Query parameters are key-value pairs appended to the URL of an HTTP request. The request object allows you to access these query parameters and extract information from the URL. You can access query parameters using request.args.\n",
    "\n",
    "Accessing Request Headers: HTTP headers contain additional information about the HTTP request, such as the user agent, content type, and authentication credentials. The request object provides access to request headers using request.headers.\n",
    "\n",
    "Accessing Cookies: Cookies are small pieces of data stored on the client-side and sent with each HTTP request. The request object allows you to access cookies sent by the client and set cookies to be sent in the response. You can access cookies using request.cookies.\n",
    "\n",
    "Accessing Files: When a client uploads files in a form submission, the files are sent as part of the HTTP request. The request object allows you to access these uploaded files and save them to the server. You can access files using request.files.\n",
    "\n",
    "Accessing Request Method and URL: The request object provides properties to access the HTTP method (GET, POST, PUT, DELETE, etc.) and the URL of the current request. You can access the request method using request.method and the request URL using request.url."
   ]
  },
  {
   "cell_type": "markdown",
   "id": "5c472e2d-95cb-453e-a29b-b23b4dbe632d",
   "metadata": {},
   "source": [
    "## Q3. Why is redirect() used in Flask?"
   ]
  },
  {
   "cell_type": "markdown",
   "id": "ec88ff3a-a334-4fce-a83d-2b4bbb103bcb",
   "metadata": {},
   "source": [
    "Ans= In Flask, the redirect() function is used to redirect the client to a different URL or route within the application. It is a built-in function provided by Flask's werkzeug library, which is commonly used for handling HTTP requests and responses.\n",
    "\n",
    "The redirect() function is typically used in Flask applications for the following purposes:\n",
    "\n",
    "- URL Redirection: Redirecting the client to a different URL or route within the application. This can be useful for implementing URL aliases, handling different versions of URLs, or redirecting users after performing certain actions (e.g., form submission, authentication).\n",
    "\n",
    "- Handling Form Submissions: After processing form data submitted by the client, the server may redirect the client to a different URL to display the result of the form submission (e.g., a success message or a confirmation page). This helps prevent the client from resubmitting the form data accidentally if they refresh the page.\n",
    "\n",
    "- Implementing Authentication and Authorization: Redirecting the client to a login page or an access denied page if they attempt to access a protected resource without proper authentication or authorization. This helps enforce security policies and control access to sensitive parts of the application.\n",
    "\n",
    "- Implementing Clean URLs: Redirecting clients from legacy URLs to cleaner, more descriptive URLs, or implementing URL rewriting to improve search engine optimization (SEO) and user experience."
   ]
  },
  {
   "cell_type": "markdown",
   "id": "aefb94c9-30e4-49df-8389-ae2124c04910",
   "metadata": {},
   "source": [
    "## Q4. What are templates in Flask? Why is the render_template() function used?"
   ]
  },
  {
   "cell_type": "markdown",
   "id": "73d5bfaf-b3b6-42c5-9e27-7bd935a95fd5",
   "metadata": {},
   "source": [
    "Ans= t that is sent as a response to client requests. Templates allow developers to separate the presentation (HTML markup) from the logic (Python code) in their web applications, following the principle of separation of concerns.\n",
    "\n",
    "Templates in Flask are typically written in HTML and may include placeholders or template variables that are replaced with dynamic content generated by the Flask application. These placeholders are usually enclosed in double curly braces ({{ }}) and can contain Python expressions, variables, or function calls.\n",
    "\n",
    "The render_template() function is used to render templates and generate HTML responses dynamically in Flask. It is a built-in function provided by Flask's render_template module. The render_template() function takes the name of the template file as an argument and any additional data (context) to be passed to the template for rendering."
   ]
  },
  {
   "cell_type": "markdown",
   "id": "d7d5be60-c86d-40b3-9b79-bfb5c3a3e695",
   "metadata": {},
   "source": [
    "## Q5. Create a simple API. Use Postman to test it. Attach the screenshot of the output in the Jupyter Notebook."
   ]
  },
  {
   "cell_type": "code",
   "execution_count": null,
   "id": "7741193e-2f6d-46b3-8ac7-29b5c3ed77cc",
   "metadata": {},
   "outputs": [],
   "source": [
    "from flask import Flask, jsonify\n",
    "\n",
    "app = Flask(__name__)\n",
    "\n",
    "@app.route('/api/hello', methods=['GET'])\n",
    "def hello():\n",
    "    return jsonify({'message': 'Hello from Flask API!'})\n",
    "\n",
    "if __name__ == '__main__':\n",
    "    app.run(debug=True)\n"
   ]
  },
  {
   "cell_type": "code",
   "execution_count": null,
   "id": "949aa1d5-7527-4ab7-bfe2-603581695c69",
   "metadata": {},
   "outputs": [],
   "source": []
  }
 ],
 "metadata": {
  "kernelspec": {
   "display_name": "Python 3 (ipykernel)",
   "language": "python",
   "name": "python3"
  },
  "language_info": {
   "codemirror_mode": {
    "name": "ipython",
    "version": 3
   },
   "file_extension": ".py",
   "mimetype": "text/x-python",
   "name": "python",
   "nbconvert_exporter": "python",
   "pygments_lexer": "ipython3",
   "version": "3.10.8"
  }
 },
 "nbformat": 4,
 "nbformat_minor": 5
}
