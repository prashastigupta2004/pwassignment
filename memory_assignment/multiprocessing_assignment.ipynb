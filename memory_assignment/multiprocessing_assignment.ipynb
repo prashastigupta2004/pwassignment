{
 "cells": [
  {
   "cell_type": "markdown",
   "id": "389ba336-bdff-479a-bd41-93461d6a1429",
   "metadata": {},
   "source": [
    "## Q1. What is multiprocessing in python? Why is it useful?"
   ]
  },
  {
   "cell_type": "markdown",
   "id": "6354fe40-5db8-4e94-9871-397af47b19c8",
   "metadata": {},
   "source": [
    "Ans= Multiprocessing in Python refers to the ability of a program to execute multiple processes concurrently, taking advantage of multiple CPU cores and enabling parallel execution of tasks. The multiprocessing module in Python provides support for creating and managing multiple processes, allowing developers to leverage the full potential of modern multicore processors.\n",
    "\n",
    "Multiprocessing is useful for several reasons:\n",
    "\n",
    "- Parallel Execution: Multiprocessing allows multiple tasks to be executed concurrently in separate processes, enabling parallelism and reducing overall execution time. This is particularly beneficial for CPU-bound tasks that can be divided into independent subtasks.\n",
    "\n",
    "- Utilization of Multiple CPU Cores: By distributing tasks across multiple processes, multiprocessing allows the utilization of multiple CPU cores, maximizing CPU usage and improving overall system performance.\n",
    "\n",
    "- Improved Responsiveness: Multiprocessing can enhance the responsiveness of applications by offloading time-consuming tasks to separate processes, ensuring that the main thread remains responsive to user interactions.\n",
    "\n",
    "- Isolation: Each process in multiprocessing operates in its own memory space, providing isolation and preventing interference between processes. This helps to ensure the stability and reliability of the application.\n",
    "\n",
    "- Scalability: Multiprocessing is scalable and can handle increasing workloads by adding more processes. This makes multiprocessing suitable for applications that need to scale with growing demand or handle large volumes of data."
   ]
  },
  {
   "cell_type": "markdown",
   "id": "2bf6b965-9a7e-4ab5-987c-7e4c70f03dec",
   "metadata": {},
   "source": [
    "## Q2. What are the differences between multiprocessing and multithreading?"
   ]
  },
  {
   "cell_type": "markdown",
   "id": "0cbb83b5-c900-4564-a4cf-8ae2aa61d813",
   "metadata": {},
   "source": [
    "Ans= \n",
    "1) Execution Model:\n",
    "\n",
    "- Multiprocessing: In multiprocessing, multiple processes are created, each with its own memory space and resources. These processes run independently and can execute concurrently on different CPU cores.\n",
    "- Multithreading: In multithreading, multiple threads are created within a single process. These threads share the same memory space and resources of the parent process and execute concurrently, typically within a single CPU core (although they may be scheduled across multiple cores by the operating system).\n",
    "2) Resource Utilization:\n",
    "\n",
    "- Multiprocessing: Multiprocessing allows for better utilization of multiple CPU cores, as each process can run independently on a separate core. This can lead to better performance in CPU-bound tasks.\n",
    "- Multithreading: Multithreading may not fully utilize multiple CPU cores, as threads within the same process share resources and may contend for CPU time. However, it can still be beneficial for I/O-bound tasks or tasks that involve waiting for external resources.\n",
    "3) Isolation:\n",
    "\n",
    "- Multiprocessing: Processes are isolated from each other and run in separate memory spaces. This provides better isolation and protection against interference between processes but requires communication mechanisms like inter-process communication (IPC) for data sharing.\n",
    "- Multithreading: Threads within the same process share memory space and resources, making them susceptible to interference and data race conditions. Synchronization mechanisms like locks and semaphores are required to coordinate access to shared resources and ensure thread safety.\n",
    "4) Scalability:\n",
    "\n",
    "- Multiprocessing: Multiprocessing is generally more scalable, as processes can be distributed across multiple CPU cores and can take advantage of multiprocessing environments with large numbers of cores.\n",
    "- Multithreading: Multithreading may have limitations in scalability due to contention for shared resources and potential bottlenecks in synchronization mechanisms. It may not scale well with increasing numbers of threads or CPU cores.\n",
    "5) Complexity:\n",
    "\n",
    "- Multiprocessing: Multiprocessing can be more complex to implement and manage, as it involves managing multiple independent processes and coordinating communication between them.\n",
    "- Multithreading: Multithreading is generally simpler to implement, as threads within the same process share memory and can communicate more easily. However, it requires careful attention to synchronization and thread safety to avoid concurrency issues."
   ]
  },
  {
   "cell_type": "markdown",
   "id": "3f00d879-410a-4923-b033-00747941033d",
   "metadata": {},
   "source": [
    "## Q3. Write a python code to create a process using the multiprocessing module."
   ]
  },
  {
   "cell_type": "code",
   "execution_count": null,
   "id": "2f78cb50-9bb1-4a75-b8bf-d9cea2ff92ff",
   "metadata": {},
   "outputs": [],
   "source": [
    "import multiprocessing\n",
    "import os\n",
    "\n",
    "# Define a function to be executed by the process\n",
    "def worker():\n",
    "    # Get the process ID (PID) of the current process\n",
    "    pid = os.getpid()\n",
    "    print(f\"Worker process ID: {pid}\")\n",
    "\n",
    "if __name__ == \"__main__\":\n",
    "    # Create a multiprocessing process\n",
    "    process = multiprocessing.Process(target=worker)\n",
    "\n",
    "    # Start the process\n",
    "    process.start()\n",
    "\n",
    "    # Wait for the process to finish\n",
    "    process.join()\n",
    "\n",
    "    print(\"Main process exiting\")\n"
   ]
  },
  {
   "cell_type": "markdown",
   "id": "453b05fb-8fd6-4a11-868d-deb67b7ed0bf",
   "metadata": {},
   "source": [
    "## Q4. What is a multiprocessing pool in python? Why is it used?"
   ]
  },
  {
   "cell_type": "markdown",
   "id": "856e192e-301f-46e1-b818-a5b6fe7f23b5",
   "metadata": {},
   "source": [
    "Ans= In Python's multiprocessing module, a multiprocessing pool is a mechanism for managing a pool of worker processes that can execute tasks concurrently. The multiprocessing.Pool class provides a convenient interface for distributing work among multiple processes in a pool, enabling parallel processing of tasks.\n",
    "\n",
    "Multiprocessing pool is useful for several reasons:\n",
    "\n",
    "- Parallel Execution: Multiprocessing allows multiple tasks to be executed concurrently in separate processes, enabling parallelism and reducing overall execution time. This is particularly beneficial for CPU-bound tasks that can be divided into independent subtasks.\n",
    "\n",
    "- Utilization of Multiple CPU Cores: By distributing tasks across multiple processes, multiprocessing allows the utilization of multiple CPU cores, maximizing CPU usage and improving overall system performance.\n",
    "\n",
    "- Improved Responsiveness: Multiprocessing can enhance the responsiveness of applications by offloading time-consuming tasks to separate processes, ensuring that the main thread remains responsive to user interactions.\n",
    "\n",
    "- Isolation: Each process in multiprocessing operates in its own memory space, providing isolation and preventing interference between processes. This helps to ensure the stability and reliability of the application.\n",
    "\n",
    "- Scalability: Multiprocessing is scalable and can handle increasing workloads by adding more processes. This makes multiprocessing suitable for applications that need to scale with growing demand or handle large volumes of data."
   ]
  },
  {
   "cell_type": "markdown",
   "id": "58e411a1-9741-41e4-a2a8-e0368c3c92e4",
   "metadata": {},
   "source": [
    "## Q5. How can we create a pool of worker processes in python using the multiprocessing module?"
   ]
  },
  {
   "cell_type": "code",
   "execution_count": null,
   "id": "c79825c7-8796-4cdb-8649-f4ea2a462b2a",
   "metadata": {},
   "outputs": [],
   "source": [
    "import multiprocessing\n",
    "\n",
    "# Define a function to be executed by the worker processes\n",
    "def worker_task(task):\n",
    "    # Perform some computation or task\n",
    "    result = task ** 2\n",
    "    return result\n",
    "\n",
    "if __name__ == \"__main__\":\n",
    "    # Create a Pool of worker processes with the desired number of processes (default is the number of CPU cores)\n",
    "    pool = multiprocessing.Pool()\n",
    "\n",
    "    # Define a list of tasks to be executed by the worker processes\n",
    "    tasks = [1, 2, 3, 4, 5]\n",
    "\n",
    "    # Apply the worker function to each task in parallel using the map method\n",
    "    results = pool.map(worker_task, tasks)\n",
    "\n",
    "    # Close the pool to prevent any more tasks from being submitted\n",
    "    pool.close()\n",
    "\n",
    "    # Wait for all worker processes to complete\n",
    "    pool.join()\n",
    "\n",
    "    # Print the results\n",
    "    print(\"Results:\", results)\n"
   ]
  },
  {
   "cell_type": "markdown",
   "id": "be080037-461e-4509-b819-07e0a58af1d1",
   "metadata": {},
   "source": [
    "## Q6. Write a python program to create 4 processes, each process should print a different number using the multiprocessing module in python."
   ]
  },
  {
   "cell_type": "code",
   "execution_count": null,
   "id": "6f4792a1-811e-4fc6-b3ff-079f60c91bf0",
   "metadata": {},
   "outputs": [],
   "source": [
    "import multiprocessing\n",
    "\n",
    "# Define a function to be executed by the processes\n",
    "def print_number(num):\n",
    "    print(\"Process\", num, \"prints:\", num)\n",
    "\n",
    "if __name__ == \"__main__\":\n",
    "    # Create a list of numbers to be printed by each process\n",
    "    numbers = [1, 2, 3, 4]\n",
    "\n",
    "    # Create a list to store process objects\n",
    "    processes = []\n",
    "\n",
    "    # Create and start a process for each number\n",
    "    for num in numbers:\n",
    "        process = multiprocessing.Process(target=print_number, args=(num,))\n",
    "        processes.append(process)\n",
    "        process.start()\n",
    "\n",
    "    # Wait for all processes to finish\n",
    "    for process in processes:\n",
    "        process.join()\n",
    "\n",
    "    print(\"All processes have finished.\")\n"
   ]
  }
 ],
 "metadata": {
  "kernelspec": {
   "display_name": "Python 3 (ipykernel)",
   "language": "python",
   "name": "python3"
  },
  "language_info": {
   "codemirror_mode": {
    "name": "ipython",
    "version": 3
   },
   "file_extension": ".py",
   "mimetype": "text/x-python",
   "name": "python",
   "nbconvert_exporter": "python",
   "pygments_lexer": "ipython3",
   "version": "3.10.8"
  }
 },
 "nbformat": 4,
 "nbformat_minor": 5
}
