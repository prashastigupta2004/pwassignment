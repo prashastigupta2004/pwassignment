{
 "cells": [
  {
   "cell_type": "markdown",
   "id": "a68c7e9d-a926-4add-a6e7-d28d35382089",
   "metadata": {},
   "source": [
    "## Q1 Explain the following with an example:\n",
    "1. Artificial Intelligence\n",
    "2. Machine Learning\n",
    "3. Deep Learning"
   ]
  },
  {
   "cell_type": "markdown",
   "id": "c47c77c6-cd45-4640-adae-906106ea98f5",
   "metadata": {},
   "source": [
    "Ans=\n",
    "1) Artificial Intelligence: \n",
    "\n",
    "The term \"Artificial Intelligence\" refers to the simulation of human intelligence processes by machines, especially computer systems.\n",
    "It also includes voice recognition, machine vision, and natural language processing (NLP).Artificial Intelligence is a method of making a computer, a computer-controlled robot, or a software think intelligently like the human mind.\n",
    "AI is accomplished by studying the patterns of the human brain and by analyzing the cognitive process. The outcome of these studies develops intelligent software and systems.\n",
    "\n",
    "The following are the examples of AI-Artificial Intelligence:\n",
    "\n",
    "1.Google Maps and Ride-Hailing Applications\n",
    "\n",
    "2.Face Detection and recognition\n",
    "\n",
    "3.Text Editors and Autocorrect\n",
    "\n",
    "4.Self driving car\n",
    "\n",
    "2) Machine Learning:\n",
    "\n",
    "Machine learning is a subfield of artificial intelligence in which systems have the ability to “learn” through data, statistics and trial and error in order to optimize processes and innovate at quicker rates. \n",
    "Machine learning gives computers the ability to develop human-like learning capabilities, which allows them to solve some of the world’s toughest problems, ranging from cancer research to climate change.\n",
    "\n",
    "The following are the examples of ML-Machine Learning:\n",
    "\n",
    "1.Image recognition\n",
    "\n",
    "2.Speech recognition\n",
    "\n",
    "3.Predictive analytics\n",
    "\n",
    "4.Medical diagnosis\n",
    "\n",
    "3) Deep Learning:\n",
    "\n",
    "Deep Learning is a subfield within machine learning, and it’s gaining traction for its ability to extract features from data. Deep learning uses Artificial Neural Networks (ANNs) to extract higher-level features from raw data. \n",
    "ANNs, though much different from human brains, were inspired by the way humans biologically process information. The learning a computer does is considered “deep” because the networks use layering to learn from, and interpret, raw information.\n",
    "\n",
    "The following are the examples of DL-Deep Learning:\n",
    "    \n",
    "1.Virtual Assistants\n",
    "\n",
    "2.Shopping and Entertainment\n",
    "\n",
    "3.Chatgpt\n",
    "\n",
    "4.Facial Recognition"
   ]
  },
  {
   "cell_type": "markdown",
   "id": "9ee6cb5b-e18c-4438-afc9-acefe7fd7b74",
   "metadata": {},
   "source": [
    "## Q2- What is supervised learning? List some examples of supervised learning."
   ]
  },
  {
   "cell_type": "markdown",
   "id": "01aee2a7-9a3e-480d-9613-d3eb06bde637",
   "metadata": {},
   "source": [
    "Ans=\n",
    "\n",
    "Supervised learning is the types of machine learning in which machines are trained using well \"labelled\" training data, and on basis of that data, machines predict the output. The labelled data means some input data is already tagged with the correct output.\n",
    "\n",
    "In supervised learning, the training data provided to the machines work as the supervisor that teaches the machines to predict the output correctly. It applies the same concept as a student learns in the supervision of the teacher.\n",
    "\n",
    "Supervised learning is a process of providing input data as well as correct output data to the machine learning model. The aim of a supervised learning algorithm is to find a mapping function to map the input variable(x) with the output variable(y).\n",
    "\n",
    "In the real-world, supervised learning can be used for Risk Assessment, Image classification, Fraud Detection, spam filtering, etc.\n",
    "\n",
    "Types of supervised learning are:\n",
    "\n",
    "Regression\n",
    "\n",
    "classification\n",
    "\n",
    "Examples:\n",
    "\n",
    "1.Voice recongnition\n",
    "\n",
    "2.Image classification\n",
    "\n",
    "3.Fraud detection"
   ]
  },
  {
   "cell_type": "markdown",
   "id": "560d5ea4-1f37-4b6a-b4fc-4601b8de9053",
   "metadata": {},
   "source": [
    "## Q3 What is unsupervised learning? List some examples of unsupervised learning."
   ]
  },
  {
   "cell_type": "markdown",
   "id": "d8fc9a50-423a-444c-a115-8778558260d6",
   "metadata": {},
   "source": [
    "Ans=\n",
    "\n",
    "As the name suggests, unsupervised learning is a machine learning technique in which models are not supervised using training dataset. Instead, models itself find the hidden patterns and insights from the given data.\n",
    "It can be compared to learning which takes place in the human brain while learning new things. It can be defined as:\n",
    "Unsupervised learning is a type of machine learning in which models are trained using unlabeled dataset and are allowed to act on that data without any supervision\n",
    "Unsupervised learning cannot be directly applied to a regression or classification problem because unlike supervised learning, we have the input data but no corresponding output data. \n",
    "The goal of unsupervised learning is to find the underlying structure of dataset, group that data according to similarities, and represent that dataset in a compressed format.\n",
    "\n",
    "Types of unsupervised learning are:\n",
    "\n",
    "Clustering\n",
    "\n",
    "Association\n",
    "\n",
    "Examples:\n",
    "\n",
    "1.Market segmentation \n",
    "\n",
    "2.Organize computing clusters"
   ]
  },
  {
   "cell_type": "markdown",
   "id": "80b1bbe5-796c-4ca1-9b10-737778f16f13",
   "metadata": {},
   "source": [
    "## Q4 What is the difference between AI, ML, DL, and DS?"
   ]
  },
  {
   "cell_type": "markdown",
   "id": "42a61e87-e07a-4f93-9f7b-bcc5f0ae8c0c",
   "metadata": {},
   "source": [
    "Ans=\n",
    "\n",
    "Artificial Intelligence:\n",
    "    \n",
    "Artificial Intelligence is basically the mechanism to incorporate human intelligence into machines through a set of rules(algorithm). AI is a combination of two words: “Artificial” meaning something made by humans or non-natural things and “Intelligence” meaning the ability to understand or think accordingly. \n",
    "Another definition could be that “AI is basically the study of training your machine(computers) to mimic a human brain and its thinking capabilities”. \n",
    "\n",
    "AI focuses on 3 major aspects(skills): learning, reasoning, and self-correction to obtain the maximum efficiency possible. \n",
    "\n",
    "Machine Learning:\n",
    "    \n",
    "Machine Learning is basically the study/process which provides the system(computer) to learn automatically on its own through experiences it had and improve accordingly without being explicitly programmed. ML is an application or subset of AI. ML focuses on the development of programs so that it can access data to use it for itself. \n",
    "The entire process makes observations on data to identify the possible patterns being formed and make better future decisions as per the examples provided to them. The major aim of ML is to allow the systems to learn by themselves through experience without any kind of human intervention or assistance.\n",
    "\n",
    "Deep Learning:\n",
    "\n",
    "Deep Learning is basically a sub-part of the broader family of Machine Learning which makes use of Neural Networks(similar to the neurons working in our brain) to mimic human brain-like behavior. DL algorithms focus on information processing patterns mechanism to possibly identify the patterns just like our human brain does and classifies the information accordingly. \n",
    "DL works on larger sets of data when compared to ML and the prediction mechanism is self-administered by machines. \n",
    "\n",
    "Data Science:\n",
    "    \n",
    "Data science is a discipline that uses various technologies and methods to analyze data. It is the conjunction of computational science, statistics, mathematics, and knowledge of the company or business.\n",
    "\n",
    "The main goal of data science is to find patterns in data. It uses various statistical techniques to analyze and extract information from the data. Through these valuable insights, data scientists can help companies make smarter business decisions."
   ]
  },
  {
   "cell_type": "markdown",
   "id": "981c5e2e-8f91-475d-91ef-aa7a1aa68f51",
   "metadata": {},
   "source": [
    "## Q5 What are the main differences between supervised, unsupervised, and semi-supervisedd learning?"
   ]
  },
  {
   "cell_type": "markdown",
   "id": "49066f4c-d545-4db9-932f-ff1a896bbb7c",
   "metadata": {},
   "source": [
    "Ans=\n",
    "\n",
    "Supervised Learning:\n",
    "\n",
    "Supervised learning is the types of machine learning in which machines are trained using well \"labelled\" training data, and on basis of that data, machines predict the output. The labelled data means some input data is already tagged with the correct output.\n",
    "\n",
    "In supervised learning, the training data provided to the machines work as the supervisor that teaches the machines to predict the output correctly. It applies the same concept as a student learns in the supervision of the teacher.\n",
    "\n",
    "Supervised learning is a process of providing input data as well as correct output data to the machine learning model. The aim of a supervised learning algorithm is to find a mapping function to map the input variable(x) with the output variable(y).\n",
    "\n",
    "In the real-world, supervised learning can be used for Risk Assessment, Image classification, Fraud Detection, spam filtering, etc.\n",
    "\n",
    "Types of supervised learning are:\n",
    "\n",
    "Regression\n",
    "\n",
    "classification\n",
    "\n",
    "Unsupervised Learning:\n",
    "\n",
    "As the name suggests, unsupervised learning is a machine learning technique in which models are not supervised using training dataset. Instead, models itself find the hidden patterns and insights from the given data.\n",
    "It can be compared to learning which takes place in the human brain while learning new things. It can be defined as:\n",
    "Unsupervised learning is a type of machine learning in which models are trained using unlabeled dataset and are allowed to act on that data without any supervision\n",
    "Unsupervised learning cannot be directly applied to a regression or classification problem because unlike supervised learning, we have the input data but no corresponding output data. \n",
    "The goal of unsupervised learning is to find the underlying structure of dataset, group that data according to similarities, and represent that dataset in a compressed format.\n",
    "\n",
    "Types of unsupervised learning are:\n",
    "\n",
    "Clustering\n",
    "\n",
    "Association\n",
    "\n",
    "Semi-Supervised Learning:\n",
    "    \n",
    "The biggest difference between supervised and unsupervised machine learning is Supervised machine learning algorithms are trained on datasets that include labels added by a machine learning engineer or data scientist that guide the algorithm to understand which features are important to the problem at hand. \n",
    "This is a very costly process, especially when dealing with large volumes of data.Unsupervised machine learning algorithms, on the other hand, are trained on unlabeled data and must determine feature importance on their own based on inherent patterns in the data, The most basic disadvantage of any Unsupervised Learning is that it’s application spectrum is limited.\n",
    "\n",
    "To counter these disadvantages, the concept of Semi-Supervised Learning was introduced. In this type of learning, the algorithm is trained upon a combination of labeled and unlabeled data. Typically, this combination will contain a very small amount of labeled data and a very large amount of unlabeled data.\n"
   ]
  },
  {
   "cell_type": "markdown",
   "id": "d015e14e-efd2-4295-9a9a-25dc8a4c5862",
   "metadata": {},
   "source": [
    "## Q6 What is train, test and validation split? Explain the importance of each term."
   ]
  },
  {
   "cell_type": "markdown",
   "id": "bd64b70e-e2ed-497a-b3c5-42d8bf4506c5",
   "metadata": {},
   "source": [
    "Ans=\n",
    "\n",
    "Training set:\n",
    "    \n",
    "The training set is the dataset that we employ to train our model. It is this dataset that our model uses to learn any underlying patterns or relationships that will enable making predictions later on.\n",
    "\n",
    "The training set should be as representative as possible of the population that we are trying to model. Additionally, \n",
    "we need to be careful and ensure that it is as unbiased as possible, as any bias at this stage may be propagated downstream during inference.\n",
    "\n",
    "Validation set:\n",
    "\n",
    "We could compare the accuracy of each model on the training set, but if we use the same exact dataset for both training and tuning, the model will overfit and won't generalize well.\n",
    "\n",
    "This is where the validation set comes in — it acts as an independent, unbiased dataset for comparing the performance of different algorithms trained on our training set.\n",
    "\n",
    "Testing set:\n",
    "    \n",
    "Once we have used the validation set to determine the algorithm and parameter choices that we would like to use in production, the test set is used to approximate the models's true performance in the wild. \n",
    "It is the final step in evaluating our model's performance on unseen data.\n",
    "\n",
    "We should never, under any circumstance, look at the test set's performance before selecting a model.\n"
   ]
  },
  {
   "cell_type": "markdown",
   "id": "fae269db-b277-4c1b-a9b9-407577c0eaad",
   "metadata": {},
   "source": [
    "## Q7 How can unsupervised learning be used in anomaly detection?"
   ]
  },
  {
   "cell_type": "markdown",
   "id": "91ec62e9-c73e-4969-a8e5-dc27701e0817",
   "metadata": {},
   "source": [
    "Ans=\n",
    "\n",
    "Unsupervised learning is a type of machine learning that does not rely on labeled data to find patterns or clusters in the data. One of the applications of unsupervised learning is anomaly detection, which is the task of identifying outliers or abnormal instances in the data. \n",
    "Anomaly detection can be useful for detecting fraud, network intrusion, or system failure, among other scenarios. The objective of Unsupervised Anomaly Detection is to detect previously unseen rare objects or events without any prior knowledge about these. The only information available is that the percentage of anomalies in the dataset is small, usually less than 1%. \n",
    "Since anomalies are rare and unknown to the user at training time, anomaly detection in most cases boils down to the problem of modelling the normal data distribution and defining a measurement in this space in order to classify samples as anomalous or normal."
   ]
  },
  {
   "cell_type": "markdown",
   "id": "8e0a2dbe-184e-4267-b7e3-73205d4a49bb",
   "metadata": {},
   "source": [
    "## Q8 List down some commonly used supervised learning algorithms and unsupervised learning algorithms."
   ]
  },
  {
   "cell_type": "markdown",
   "id": "adb671de-7712-4c02-9ee9-f01d4067886a",
   "metadata": {},
   "source": [
    "Ans=\n",
    "\n",
    "Supervised learning algorithms:\n",
    "    \n",
    "Neural networks: Primarily leveraged for deep learning algorithms, neural networks process training data by mimicking the interconnectivity of the human brain through layers of nodes. Each node is made up of inputs, weights, a bias (or threshold), and an output. \n",
    "If that output value exceeds a given threshold, it “fires” or activates the node, passing data to the next layer in the network. Neural networks learn this mapping function through supervised learning, adjusting based on the loss function through the process of gradient descent.\n",
    "When the cost function is at or near zero, we can be confident in the model’s accuracy to yield the correct answer.\n",
    "\n",
    "Naive bayes: Naive Bayes is classification approach that adopts the principle of class conditional independence from the Bayes Theorem. This means that the presence of one feature does not impact the presence of another in the probability of a given outcome, and each predictor has an equal effect on that result. \n",
    "There are three types of Naïve Bayes classifiers: Multinomial Naïve Bayes, Bernoulli Naïve Bayes, and Gaussian Naïve Bayes. This technique is primarily used in text classification, spam identification, and recommendation systems.\n",
    "\n",
    "Linear regression: Linear regression is used to identify the relationship between a dependent variable and one or more independent variables and is typically leveraged to make predictions about future outcomes. When there is only one independent variable and one dependent variable, it is known as simple linear regression. \n",
    "As the number of independent variables increases, it is referred to as multiple linear regression. For each type of linear regression, it seeks to plot a line of best fit, which is calculated through the method of least squares. However, unlike other regression models, this line is straight when plotted on a graph.\n",
    "\n",
    "Logistic regression: While linear regression is leveraged when dependent variables are continuous, logistic regression is selected when the dependent variable is categorical, meaning they have binary outputs, such as \"true\" and \"false\" or \"yes\" and \"no.\" While both regression models seek to understand relationships between data inputs,\n",
    "logistic regression is mainly used to solve binary classification problems, such as spam identification.\n",
    "\n",
    "Support vector machines (SVM): A support vector machine is a popular supervised learning model developed by Vladimir Vapnik, used for both data classification and regression. That said, it is typically leveraged for classification problems, constructing a hyperplane where the distance between two classes of data points is at its maximum.\n",
    "This hyperplane is known as the decision boundary, separating the classes of data points (e.g., oranges vs. apples) on either side of the plane.\n",
    "\n",
    "K-nearest neighbor: K-nearest neighbor, also known as the KNN algorithm, is a non-parametric algorithm that classifies data points based on their proximity and association to other available data. This algorithm assumes that similar data points can be found near each other. As a result, it seeks to calculate the distance between data points, usually through Euclidean distance, and then it assigns a category based on the most frequent category or average.\n",
    "Its ease of use and low calculation time make it a preferred algorithm by data scientists, but as the test dataset grows, the processing time lengthens, making it less appealing for classification tasks. KNN is typically used for recommendation engines and image recognition.\n",
    "\n",
    "Random forest: Random forest is another flexible supervised machine learning algorithm used for both classification and regression purposes. The \"forest\" references a collection of uncorrelated decision trees, which are then merged together to reduce variance and create more accurate data predictions.\n",
    "\n",
    "Unsupervised learning algorithms:\n",
    "\n",
    "K-means: K-means is an algorithm for exclusive clustering, also known as partitioning or segmentation. It puts the data points into the predefined number of clusters known as K. Basically, K in the K-means algorithm is the input since you tell the algorithm the number of clusters you want to identify in your data.\n",
    "Each data item then gets assigned to the nearest cluster center, called centroids (black dots in the picture).The latter act as data accumulation areas.The procedure of clustering may be repeated several times until the clusters are well-defined.\n",
    "\n",
    "Fuzzy K-means: Fuzzy K-means is an extension of the K-means algorithm used to perform overlapping clustering. Unlike the K-means algorithm, fuzzy K-means implies that data points can belong to more than one cluster with a certain level of closeness towards each.The closeness is measured by the distance from a data point to the centroid of the cluster. So, sometimes there may be an overlap between different clusters.\n",
    "\n",
    "Gaussian Mixture Models (GMMs): Gaussian Mixture Models (GMMs) is an algorithm used in probabilistic clustering. Since the mean or variance is unknown, the models assume that there is a certain number of Gaussian distributions, each representing a separate cluster. \n",
    "The algorithm is basically utilized to decide which cluster a particular data point belongs to.\n",
    "\n",
    "Apriori algorithms: Apriori algorithms have been popularized through market basket analyses, leading to different recommendation engines for music platforms and online retailers. They are used within transactional datasets to identify frequent itemsets, or collections of items, to identify the likelihood of consuming a product given the consumption of another product.\n",
    "For example, if I play Black Sabbath’s radio on Spotify, starting with their song “Orchid”, one of the other songs on this channel will likely be a Led Zeppelin song, such as “Over the Hills and Far Away.”  This is based on my prior listening habits as well as the ones of others. Apriori algorithms use a hash tree to count itemsets, navigating through the dataset in a breadth-first manner."
   ]
  },
  {
   "cell_type": "code",
   "execution_count": null,
   "id": "33677b98-319e-4c45-b64e-996d77977a8d",
   "metadata": {},
   "outputs": [],
   "source": []
  }
 ],
 "metadata": {
  "kernelspec": {
   "display_name": "Python 3 (ipykernel)",
   "language": "python",
   "name": "python3"
  },
  "language_info": {
   "codemirror_mode": {
    "name": "ipython",
    "version": 3
   },
   "file_extension": ".py",
   "mimetype": "text/x-python",
   "name": "python",
   "nbconvert_exporter": "python",
   "pygments_lexer": "ipython3",
   "version": "3.10.8"
  }
 },
 "nbformat": 4,
 "nbformat_minor": 5
}
