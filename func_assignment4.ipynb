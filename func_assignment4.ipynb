{
 "cells": [
  {
   "cell_type": "markdown",
   "id": "2cb6d123-035c-4379-8f78-6363e28c8762",
   "metadata": {},
   "source": [
    "## Q1. Create a python program to sort the given list of tuples based on integer value using a lambda function.\n",
    "[('Sachin Tendulkar', 34357), ('Ricky Ponting', 27483), ('Jack Kallis', 25534), ('Virat Kohli', 24936)]\n",
    "\n",
    "Ans="
   ]
  },
  {
   "cell_type": "code",
   "execution_count": 2,
   "id": "5e25c397-180f-4c81-bbf4-2096f73c996d",
   "metadata": {},
   "outputs": [
    {
     "name": "stdout",
     "output_type": "stream",
     "text": [
      "[('Virat Kohli', 24936), ('Jack Kallis', 25534), ('Ricky Ponting', 27483), ('Sachin Tendulkar', 34357)]\n"
     ]
    }
   ],
   "source": [
    "l=[('Sachin Tendulkar', 34357), ('Ricky Ponting', 27483), ('Jack Kallis', 25534), ('Virat Kohli', 24936)]\n",
    "l.sort(key=lambda x:x[1])\n",
    "print(l)"
   ]
  },
  {
   "cell_type": "markdown",
   "id": "d2e5bc7a-e265-479a-a2f1-fe2dab433946",
   "metadata": {},
   "source": [
    "## Q2. Write a Python Program to find the squares of all the numbers in the given list of integers using lambda and map functions.\n",
    "[1, 2, 3, 4, 5, 6, 7, 8, 9, 10]\n",
    "\n",
    "Ans= \n"
   ]
  },
  {
   "cell_type": "code",
   "execution_count": 1,
   "id": "2b366341-b5cf-4386-a89e-abadfdf8d489",
   "metadata": {},
   "outputs": [
    {
     "name": "stdout",
     "output_type": "stream",
     "text": [
      "[1, 4, 9, 16, 25, 36, 49, 64, 81, 100]\n"
     ]
    }
   ],
   "source": [
    "l=[1, 2, 3, 4, 5, 6, 7, 8, 9, 10]\n",
    "a=list(map(lambda x: x**2,l))\n",
    "print(a)"
   ]
  },
  {
   "cell_type": "markdown",
   "id": "1a4ab810-4fb9-45f8-b3f3-01e7469ba2fc",
   "metadata": {},
   "source": [
    "## Q3. Write a python program to convert the given list of integers into a tuple of strings. Use map and lambda functions\n",
    "Given String: [1, 2, 3, 4, 5, 6, 7, 8, 9, 10]\n",
    "\n",
    "Expected output: ('1', '2', '3', '4', '5', '6', '7', '8', '9', '10')\n",
    "\n",
    "Ans="
   ]
  },
  {
   "cell_type": "code",
   "execution_count": 3,
   "id": "f72c6c39-a14a-479b-977b-01d51f4d03d6",
   "metadata": {},
   "outputs": [
    {
     "name": "stdout",
     "output_type": "stream",
     "text": [
      "('1', '2', '3', '4', '5', '6', '7', '8', '9', '10')\n"
     ]
    }
   ],
   "source": [
    "l=[1, 2, 3, 4, 5, 6, 7, 8, 9, 10]\n",
    "a=tuple(map(lambda x: str(x),l))\n",
    "print(a)"
   ]
  },
  {
   "cell_type": "markdown",
   "id": "3b881134-b2b0-449c-8092-50274b000b1a",
   "metadata": {},
   "source": [
    "## Q4. Write a python program using reduce function to compute the product of a list containing numbers from 1 to 25.\n",
    "\n",
    "Ans="
   ]
  },
  {
   "cell_type": "code",
   "execution_count": 7,
   "id": "abb0bf8a-4aa9-4939-bc70-21d170d644cf",
   "metadata": {},
   "outputs": [
    {
     "name": "stdout",
     "output_type": "stream",
     "text": [
      "620448401733239439360000\n"
     ]
    }
   ],
   "source": [
    "from functools import reduce\n",
    "a=list(range(1,25))\n",
    "b=reduce((lambda x,y:x*y) ,a)\n",
    "print(b)"
   ]
  },
  {
   "cell_type": "markdown",
   "id": "0ef897ee-90b0-4bec-9c01-44502baf09cf",
   "metadata": {},
   "source": [
    "## Q5. Write a python program to filter the numbers in a given list that are divisible by 2 and 3 using the filter function.\n",
    "[2, 3, 6, 9, 27, 60, 90, 120, 55, 46]\n",
    "\n",
    "Ans="
   ]
  },
  {
   "cell_type": "code",
   "execution_count": 8,
   "id": "a0f36f3b-0bf5-49c9-a161-f70506e167ec",
   "metadata": {},
   "outputs": [
    {
     "name": "stdout",
     "output_type": "stream",
     "text": [
      "[6, 60, 90, 120]\n"
     ]
    }
   ],
   "source": [
    "l=[2, 3, 6, 9, 27, 60, 90, 120, 55, 46]\n",
    "a=list(filter(lambda x:x%2==0 and x%3==0,l))\n",
    "print(a)"
   ]
  },
  {
   "cell_type": "markdown",
   "id": "298f02ab-f49e-4f3d-ab1c-45d882109fc0",
   "metadata": {},
   "source": [
    "## Q6. Write a python program to find palindromes in the given list of strings using lambda and filter function.\n",
    "['python', 'php', 'aba', 'radar', 'level']\n",
    "\n",
    "Ans="
   ]
  },
  {
   "cell_type": "code",
   "execution_count": 9,
   "id": "7d892734-dbb8-44fb-aa2e-dba45fd0eba8",
   "metadata": {},
   "outputs": [
    {
     "name": "stdout",
     "output_type": "stream",
     "text": [
      "['php', 'aba', 'radar', 'level']\n"
     ]
    }
   ],
   "source": [
    "l=['python', 'php', 'aba', 'radar', 'level']\n",
    "a=list(filter(lambda x:x==x[::-1],l))\n",
    "print(a)"
   ]
  },
  {
   "cell_type": "code",
   "execution_count": null,
   "id": "38bd8342-8617-4654-bf92-43ca21ec1e25",
   "metadata": {},
   "outputs": [],
   "source": []
  }
 ],
 "metadata": {
  "kernelspec": {
   "display_name": "Python 3 (ipykernel)",
   "language": "python",
   "name": "python3"
  },
  "language_info": {
   "codemirror_mode": {
    "name": "ipython",
    "version": 3
   },
   "file_extension": ".py",
   "mimetype": "text/x-python",
   "name": "python",
   "nbconvert_exporter": "python",
   "pygments_lexer": "ipython3",
   "version": "3.10.8"
  }
 },
 "nbformat": 4,
 "nbformat_minor": 5
}
