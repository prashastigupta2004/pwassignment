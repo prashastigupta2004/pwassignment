{
 "cells": [
  {
   "cell_type": "markdown",
   "id": "039ef941-fe41-4c10-ba2f-3ece67626e8e",
   "metadata": {},
   "source": [
    "## Q1. Create a Pandas Series that contains the following data: 4, 8, 15, 16, 23, and 42. Then, print the series.\n",
    "\n",
    "Ans="
   ]
  },
  {
   "cell_type": "code",
   "execution_count": 2,
   "id": "0f543957-2308-415c-bacb-47a254c8cfe6",
   "metadata": {},
   "outputs": [
    {
     "name": "stdout",
     "output_type": "stream",
     "text": [
      "0     4\n",
      "1     8\n",
      "2    15\n",
      "3    16\n",
      "4    23\n",
      "5    42\n",
      "dtype: int64\n"
     ]
    }
   ],
   "source": [
    "import pandas as pd\n",
    "a=[4,8,15,16,23,42]\n",
    "df=pd.Series(a)\n",
    "print(df)"
   ]
  },
  {
   "cell_type": "markdown",
   "id": "3dc577a0-b92c-4532-86c5-c90060f2ba62",
   "metadata": {},
   "source": [
    "## Q2. Create a variable of list type containing 10 elements in it, and apply pandas.Series function on the variable print it.\n",
    "\n",
    "Ans="
   ]
  },
  {
   "cell_type": "code",
   "execution_count": 6,
   "id": "5871b2ce-aed7-484e-9c29-e0bdb02ab10a",
   "metadata": {},
   "outputs": [
    {
     "name": "stdout",
     "output_type": "stream",
     "text": [
      "0     10\n",
      "1     20\n",
      "2     30\n",
      "3     40\n",
      "4     50\n",
      "5     60\n",
      "6     70\n",
      "7     80\n",
      "8     90\n",
      "9    100\n",
      "dtype: int64\n"
     ]
    }
   ],
   "source": [
    "import pandas as pd\n",
    "a=[10,20,30,40,50,60,70,80,90,100]\n",
    "df=pd.Series(a)\n",
    "print(df)"
   ]
  },
  {
   "cell_type": "markdown",
   "id": "0e1c76b7-b478-4bef-a794-844560e18592",
   "metadata": {},
   "source": [
    "## Q3. Create a Pandas DataFrame that contains the following data: Then, print the DataFrame.\n",
    "\n",
    "Ans="
   ]
  },
  {
   "cell_type": "code",
   "execution_count": 5,
   "id": "dec0c3fd-108d-4462-8306-adf728d19868",
   "metadata": {},
   "outputs": [
    {
     "name": "stdout",
     "output_type": "stream",
     "text": [
      "     Name  Age  Gender\n",
      "0   Alice   25  Female\n",
      "1     Bob   30    Male\n",
      "2  Claire   27  Female\n"
     ]
    }
   ],
   "source": [
    "import pandas as pd\n",
    "mydata={'Name':['Alice','Bob','Claire'], 'Age':[25,30,27], 'Gender':['Female','Male','Female']}\n",
    "df=pd.DataFrame(mydata)\n",
    "print(df)"
   ]
  },
  {
   "cell_type": "markdown",
   "id": "6ddf4759-bbfa-4ac8-ad04-c4823a48cb49",
   "metadata": {},
   "source": [
    "## Q4. What is ‘DataFrame’ in pandas and how is it different from pandas.series? Explain with an example.\n",
    "\n",
    "An"
   ]
  },
  {
   "cell_type": "markdown",
   "id": "40047806-ee96-47b1-a0c0-afa4a118a5b5",
   "metadata": {},
   "source": [
    "Pandas DataFrame is two-dimensional size-mutable, potentially heterogeneous tabular data structure with labeled axes (rows and columns). A Data frame is a two-dimensional data structure, i.e., data is aligned in a tabular fashion in rows and columns. Pandas DataFrame consists of three principal components, the data, rows, and columns.Example:\n",
    "\n",
    "import pandas as pd\n",
    " \n",
    "data = {'Name':['Tom', 'nick', 'krish', 'jack'],\n",
    "        'Age':[20, 21, 19, 18]}\n",
    " \n",
    "df = pd.DataFrame(data)\n",
    " \n",
    "print(df)\n",
    "\n",
    "Pandas Series is a 1D array of data, but a single-column DataFrame is a 2D table with one column. The main distinction between the two is this. For a single-column DataFrame, an index can be optional, but a Series has to have an index defined.\n",
    "A single-column DataFrame comprises a single column with a label while a Series lacks any columns or column labels. Finally, a single-column DataFrame also provides an optional name for the column, whereas a Series can also include an optional name.\n",
    "\n",
    "A Python one-dimensional labelled array called a Pandas Series may hold any form of data (integer, float, string, etc.). It resembles a table in a database or a column in a spreadsheet. Each component of a series has a unique identification thanks to an index. It is possible to create new Series by using lists, arrays, dictionaries, and existing Series objects.Example:\n",
    "\n",
    "import pandas as pd\n",
    "\n",
    "data = [100, 200, 300, 400, 500]\n",
    "s = pd.Series(data)\n",
    "\n",
    "print(s)"
   ]
  },
  {
   "cell_type": "markdown",
   "id": "0a4da620-b967-4434-8278-3efeb7267ad0",
   "metadata": {},
   "source": [
    "## Q5. What are some common functions you can use to manipulate data in a Pandas DataFrame? Can you give an example of when you might use one of these functions?\n",
    "\n",
    "Ans="
   ]
  },
  {
   "cell_type": "markdown",
   "id": "8afc2d90-5f0b-493c-a9e3-ed56a5b4bf9e",
   "metadata": {},
   "source": [
    "Some common functions you can use to manipulate data in a Pandas DataFrame are:\n",
    "    \n",
    "1. read_csv(): This is one of the most crucial pandas methods in Python. read_csv() function helps read a comma-separated values (csv) file into a Pandas DataFrame. All you need to do is mention the path of the file you want it to read.\n",
    "\n",
    "2. head(): head(n) is used to return the first n rows of a dataset. By default, df.head() will return the first 5 rows of the DataFrame. If you want more/less number of rows, you can specify n as an integer.\n",
    "\n",
    "3. groupby(): groupby() is used to group a Pandas DataFrame by 1 or more columns, and perform some mathematical operation on it. groupby() can be used to summarize data in a simple manner.\n",
    "\n",
    "4. fillna(): Typically in a large dataset, you will find several entries labelled NaN by Python. NaN stands for “not a number”, and represents entries that were not populated in the original data source. While populating the values in the DataFrame, Pandas makes sure that these entries can be identified separately by the user.\n",
    "fillna() helps to replace all NaN values in a DataFrame or Series by imputing these missing values with more appropriate values.\n",
    "\n",
    "Example:\n",
    "\n",
    "import pandas as pd                                        \n",
    "\n",
    "data_nan = pd.DataFrame({\"x1\":[\"x\", \"x\", float('NaN'), \"y\", float('NaN'), \"y\"],\n",
    "                         \"x2\":range(24, 30),\n",
    "                         \"x3\":[\"a\", \"b\", \"c\", \"d\", \"e\", \"f\"],\n",
    "                         \"x4\":range(11, 5, - 1)})\n",
    "print(data_nan)\n",
    "\n",
    "data_blanks = data_nan.copy()     \n",
    "\n",
    "data_blanks = data_blanks.fillna(\"\")  # Fill NaN with blanks\n",
    "\n",
    "print(data_blanks)  "
   ]
  },
  {
   "cell_type": "markdown",
   "id": "1d5f1b02-9d1a-4290-bd76-3c65b7e4e7a5",
   "metadata": {},
   "source": [
    "## Q6. Which of the following is mutable in nature Series, DataFrame, Panel?\n",
    "\n",
    "Ans="
   ]
  },
  {
   "cell_type": "markdown",
   "id": "75b9cb31-d048-4400-b230-47a14d2c6e5c",
   "metadata": {},
   "source": [
    "All Pandas data structures are value mutable (can be changed) and except Series all are size mutable. Series is size immutable.\n",
    "\n",
    "A Series is a one dimensional array like structure with homogeneous data. The values of the series are mutable means we can change any value in series, but the size of the series is immutable so we can not change the size of the series.\n",
    "    \n",
    "DataFrame is a two-dimensional array with heterogeneous data. A DataFrame size is mutable and data is also mutable so we can change the data and size of DataFrame at any time\n",
    "\n",
    "The panel is a three-dimensional data structure with heterogeneous data. It is very hard to represent the Panel in a graphical representation. But a Panel can be illustrated as a container of a DataFrame. In Panel Data and size are mutable.\n"
   ]
  },
  {
   "cell_type": "markdown",
   "id": "4257c5c5-96ee-4c0d-b2fa-fa8343d7811d",
   "metadata": {},
   "source": [
    "## Q7. Create a DataFrame using multiple Series. Explain with an example.\n",
    "\n",
    "Ans="
   ]
  },
  {
   "cell_type": "markdown",
   "id": "a03af219-2ade-4294-bd08-fcf78ac1d529",
   "metadata": {},
   "source": [
    "By using concat() method you can merge multiple series together into DataFrame. This takes several params, for our scenario we use list that takes series to combine and axis=1 to specify merge series as columns instead of rows.\n"
   ]
  },
  {
   "cell_type": "code",
   "execution_count": 1,
   "id": "00a34d6e-57de-4afc-9c1e-3221ab59e0c7",
   "metadata": {},
   "outputs": [
    {
     "name": "stdout",
     "output_type": "stream",
     "text": [
      "             0      1     2\n",
      "0       Webdev  22000  1000\n",
      "1       Python  25000  2300\n",
      "2  DataScience  23000  1000\n"
     ]
    }
   ],
   "source": [
    "import pandas as pd\n",
    "\n",
    "courses = pd.Series([\"Webdev\",\"Python\",\"DataScience\"])\n",
    "fees = pd.Series([22000,25000,23000])\n",
    "discount  = pd.Series([1000,2300,1000])\n",
    "\n",
    "df=pd.concat([courses,fees],axis=1)\n",
    "\n",
    "df=pd.concat([courses,fees,discount],axis=1)\n",
    "print(df)\n"
   ]
  },
  {
   "cell_type": "code",
   "execution_count": null,
   "id": "aad9bf78-d5e3-42ec-964e-bfd57c8198bb",
   "metadata": {},
   "outputs": [],
   "source": []
  }
 ],
 "metadata": {
  "kernelspec": {
   "display_name": "Python 3 (ipykernel)",
   "language": "python",
   "name": "python3"
  },
  "language_info": {
   "codemirror_mode": {
    "name": "ipython",
    "version": 3
   },
   "file_extension": ".py",
   "mimetype": "text/x-python",
   "name": "python",
   "nbconvert_exporter": "python",
   "pygments_lexer": "ipython3",
   "version": "3.10.8"
  }
 },
 "nbformat": 4,
 "nbformat_minor": 5
}
