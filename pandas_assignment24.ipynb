{
 "cells": [
  {
   "cell_type": "markdown",
   "id": "a647fb88-33a3-4f11-b50d-cd2213e958ab",
   "metadata": {},
   "source": [
    "## Q1. List any five functions of the pandas library with execution."
   ]
  },
  {
   "cell_type": "markdown",
   "id": "c16fcc6c-6b04-4c29-ac2c-a03b3faf0287",
   "metadata": {},
   "source": [
    "Ans= Here are five common functions of the Pandas library along with their executions:\n",
    "\n",
    "1) read_csv(): This function is used to read data from a CSV file and create a DataFrame.\n",
    "\n",
    "import pandas as pd\n",
    "\n",
    "df = pd.read_csv('data.csv')\n",
    "\n",
    "print(df)\n",
    "\n",
    "2) head(): This function is used to display the first few rows of a DataFrame\n",
    "\n",
    "import pandas as pd\n",
    "\n",
    "data = {'Name': ['John', 'Alice', 'Bob', 'Emily', 'Jack'],\n",
    "        'Age': [25, 28, 32, 19, 45],\n",
    "        'City': ['New York', 'Paris', 'London', 'Tokyo', 'Sydney']}\n",
    "        \n",
    "df = pd.DataFrame(data)\n",
    "\n",
    "print(df.head(3))\n",
    "\n",
    "3) info(): This function provides a concise summary of a DataFrame, including the data types and memory usage.\n",
    "\n",
    "import pandas as pd\n",
    "\n",
    "data = {'Name': ['John', 'Alice', 'Bob'],\n",
    "        'Age': [25, 28, 32],\n",
    "        'City': ['New York', 'Paris', 'London']}\n",
    "        \n",
    "df = pd.DataFrame(data)\n",
    "\n",
    "print(df.info())\n",
    "\n",
    "4) describe(): This function generates descriptive statistics of a DataFrame, including count, mean, standard deviation, minimum, maximum, and quartile values.\n",
    "\n",
    "import pandas as pd\n",
    "\n",
    "data = {'Name': ['John', 'Alice', 'Bob', 'Emily', 'Jack'],\n",
    "        'Age': [25, 28, 32, 19, 45],\n",
    "        'City': ['New York', 'Paris', 'London', 'Tokyo', 'Sydney']}\n",
    "        \n",
    "df = pd.DataFrame(data)\n",
    "\n",
    "print(df.describe())\n",
    "\n",
    "5) groupby(): This function is used for grouping rows of a DataFrame based on a specific column or multiple columns.\n",
    "\n",
    "import pandas as pd\n",
    "\n",
    "data = {'Name': ['John', 'Alice', 'Bob', 'Emily', 'Jack'],\n",
    "        'Age': [25, 28, 32, 19, 45],\n",
    "        'City': ['New York', 'Paris', 'London', 'Tokyo', 'Sydney'],\n",
    "        'Salary': [5000, 6000, 4500, 5500, 7000]}\n",
    "        \n",
    "df = pd.DataFrame(data)\n",
    "\n",
    "grouped_df = df.groupby('City')['Salary'].mean()\n",
    "\n",
    "print(grouped_df)\n"
   ]
  },
  {
   "cell_type": "markdown",
   "id": "0ccb6de9-7f67-4d79-9fb7-6f8d368d7835",
   "metadata": {},
   "source": [
    "## Q2. Given a Pandas DataFrame df with columns 'A', 'B', and 'C', write a Python function to re-index the DataFrame with a new index that starts from 1 and increments by 2 for each row.\n",
    "\n",
    "Ans="
   ]
  },
  {
   "cell_type": "code",
   "execution_count": 3,
   "id": "db864767-8067-4a68-8686-3403e5c5c7a7",
   "metadata": {},
   "outputs": [
    {
     "name": "stdout",
     "output_type": "stream",
     "text": [
      "    A   B   C\n",
      "1  10  40  70\n",
      "3  20  50  80\n",
      "5  30  60  90\n"
     ]
    }
   ],
   "source": [
    "import pandas as pd\n",
    "\n",
    "def reindex_dataframe(df):\n",
    "    new_index = pd.Index(range(1, len(df) * 2, 2))\n",
    "    df_reindexed = df.set_index(new_index)\n",
    "    return df_reindexed\n",
    "\n",
    "data = {'A': [10, 20, 30],\n",
    "        'B': [40, 50, 60],\n",
    "        'C': [70, 80, 90]}\n",
    "df = pd.DataFrame(data)\n",
    "\n",
    "df_reindexed = reindex_dataframe(df)\n",
    "\n",
    "print(df_reindexed)\n",
    "\n"
   ]
  },
  {
   "cell_type": "markdown",
   "id": "ad2a839f-d07e-4868-8505-5a4f520e5e33",
   "metadata": {},
   "source": [
    "## Q3. You have a Pandas DataFrame df with a column named 'Values'. Write a Python function that iterates over the DataFrame and calculates the sum of the first three values in the 'Values' column. The function should print the sum to the console.\n",
    "\n",
    "Ans="
   ]
  },
  {
   "cell_type": "code",
   "execution_count": 4,
   "id": "4a10f74f-5b96-4d6a-91c6-4cc194e4e95c",
   "metadata": {},
   "outputs": [
    {
     "name": "stdout",
     "output_type": "stream",
     "text": [
      "Sum of the first three values: 60\n"
     ]
    }
   ],
   "source": [
    "import pandas as pd\n",
    "\n",
    "def calculate_sum(df):\n",
    "    values_column = df['Values']  \n",
    "    sum_first_three = sum(values_column[:3])  \n",
    "    print(\"Sum of the first three values:\", sum_first_three)\n",
    "\n",
    "data = {'Values': [10, 20, 30, 40, 50, 60]}\n",
    "df = pd.DataFrame(data)\n",
    "\n",
    "calculate_sum(df)\n"
   ]
  },
  {
   "cell_type": "markdown",
   "id": "d61cd228-40b9-42e0-b9c2-5896e70c7bab",
   "metadata": {},
   "source": [
    "## Q4. Given a Pandas DataFrame df with a column 'Text', write a Python function to create a new column 'Word_Count' that contains the number of words in each row of the 'Text' column.\n",
    "\n",
    "Ans="
   ]
  },
  {
   "cell_type": "code",
   "execution_count": 5,
   "id": "bb17a70f-9fad-4cf9-8bab-4e24f224941c",
   "metadata": {},
   "outputs": [
    {
     "name": "stdout",
     "output_type": "stream",
     "text": [
      "                        Text  Word_Count\n",
      "0      This is a sample text           5\n",
      "1                Hello world           2\n",
      "2  Python programming is fun           4\n"
     ]
    }
   ],
   "source": [
    "import pandas as pd\n",
    "\n",
    "def add_word_count(df):\n",
    "    df['Word_Count'] = df['Text'].apply(lambda x: len(str(x).split()))\n",
    "    return df\n",
    "\n",
    "data = {'Text': ['This is a sample text', 'Hello world', 'Python programming is fun']}\n",
    "df = pd.DataFrame(data)\n",
    "\n",
    "df_with_word_count = add_word_count(df)\n",
    "\n",
    "print(df_with_word_count)\n"
   ]
  },
  {
   "cell_type": "markdown",
   "id": "3bbfdce1-c7d9-49cb-9abb-074a9e95d205",
   "metadata": {},
   "source": [
    "## Q5. How are DataFrame.size() and DataFrame.shape() different?\n",
    "\n",
    "Ans="
   ]
  },
  {
   "cell_type": "markdown",
   "id": "d535d3b5-8c24-4c72-b4c1-7b61dd20e04e",
   "metadata": {},
   "source": [
    "The DataFrame.size and DataFrame.shape attributes in Pandas provide different information about the dimensions of a DataFrame:\n",
    "\n",
    "DataFrame.size: This attribute returns the total number of elements in the DataFrame, which is calculated by multiplying the number of rows (DataFrame.shape[0]) by the number of columns (DataFrame.shape[1]). In other words, it represents the total count of cells in the DataFrame.\n",
    "\n",
    "DataFrame.shape: This attribute returns a tuple representing the dimensions of the DataFrame. The tuple consists of two elements: the number of rows and the number of columns, respectively. So, DataFrame.shape[0] represents the number of rows, and DataFrame.shape[1] represents the number of columns.\n"
   ]
  },
  {
   "cell_type": "code",
   "execution_count": 6,
   "id": "f2dc1d70-9859-41fc-94a7-dc7972300a1d",
   "metadata": {},
   "outputs": [
    {
     "name": "stdout",
     "output_type": "stream",
     "text": [
      "DataFrame Size: 9\n",
      "DataFrame Shape: (3, 3)\n"
     ]
    }
   ],
   "source": [
    "import pandas as pd\n",
    "\n",
    "data = {'A': [1, 2, 3],\n",
    "        'B': [4, 5, 6],\n",
    "        'C': [7, 8, 9]}\n",
    "df = pd.DataFrame(data)\n",
    "\n",
    "# Calculating DataFrame size\n",
    "df_size = df.size\n",
    "\n",
    "# Retrieving DataFrame shape\n",
    "df_shape = df.shape\n",
    "\n",
    "print(\"DataFrame Size:\", df_size)\n",
    "print(\"DataFrame Shape:\", df_shape)"
   ]
  },
  {
   "cell_type": "markdown",
   "id": "64deb932-f19b-49cb-85be-2894787ae409",
   "metadata": {},
   "source": [
    "## Q6. Which function of pandas do we use to read an excel file?"
   ]
  },
  {
   "cell_type": "markdown",
   "id": "4f8a62db-37c6-4daa-a7f1-90a0c9aaeb17",
   "metadata": {},
   "source": [
    "Ans= In Pandas, the function used to read an Excel file is pd.read_excel(). It allows you to read data from an Excel file and create a DataFrame.\n",
    "\n",
    "import pandas as pd\n",
    "\n",
    "df = pd.read_excel('data.xlsx')\n",
    "\n",
    "print(df)\n"
   ]
  },
  {
   "cell_type": "markdown",
   "id": "c871e248-72fb-46fb-8706-fe726045c91e",
   "metadata": {},
   "source": [
    "### Q7. You have a Pandas DataFrame df that contains a column named 'Email' that contains email addresses in the format 'username@domain.com'. Write a Python function that creates a new column 'Username' in df that contains only the username part of each email address. The username is the part of the email address that appears before the '@' symbol. For example, if the email address is 'john.doe@example.com', the 'Username' column should contain 'john.doe'. Your function should extract the username from each email address and store it in the new 'Username' column.\n",
    "\n",
    "Ans="
   ]
  },
  {
   "cell_type": "code",
   "execution_count": 9,
   "id": "dad97e3b-277c-4e0d-8bd6-429266d9d6b7",
   "metadata": {},
   "outputs": [
    {
     "name": "stdout",
     "output_type": "stream",
     "text": [
      "               Email Username\n",
      "0   john@example.com     john\n",
      "1  alice@example.com    alice\n",
      "2    bob@example.com      bob\n"
     ]
    }
   ],
   "source": [
    "import pandas as pd\n",
    "\n",
    "def extract_username(df):\n",
    "    df['Username'] = df['Email'].str.split('@').str[0]\n",
    "    return df\n",
    "\n",
    "data = {'Email': ['john@example.com', 'alice@example.com', 'bob@example.com']}\n",
    "df = pd.DataFrame(data)\n",
    "\n",
    "df_with_username = extract_username(df)\n",
    "\n",
    "print(df_with_username)\n"
   ]
  },
  {
   "cell_type": "markdown",
   "id": "98b20f6e-3733-4599-bf65-63f38b461120",
   "metadata": {},
   "source": [
    "## Q8. You have a Pandas DataFrame df with columns 'A', 'B', and 'C'. Write a Python function that selects all rows where the value in column 'A' is greater than 5 and the value in column 'B' is less than 10. The function should return a new DataFrame that contains only the selected rows.\n",
    "\n",
    "Ans="
   ]
  },
  {
   "cell_type": "code",
   "execution_count": 10,
   "id": "16156eeb-43b6-4980-b033-ddd39a3cbc02",
   "metadata": {},
   "outputs": [
    {
     "name": "stdout",
     "output_type": "stream",
     "text": [
      "   A  B  C\n",
      "1  8  2  7\n",
      "2  6  9  4\n",
      "4  9  1  2\n"
     ]
    }
   ],
   "source": [
    "import pandas as pd\n",
    "\n",
    "def select_rows(df):\n",
    "    selected_rows = df[(df['A'] > 5) & (df['B'] < 10)]\n",
    "    return selected_rows\n",
    "\n",
    "data = {'A': [3,8,6,2,9],\n",
    "        'B': [5,2,9,3,1],\n",
    "        'C': [1,7,4,5,2]}\n",
    "df = pd.DataFrame(data)\n",
    "\n",
    "selected_df = select_rows(df)\n",
    "\n",
    "print(selected_df)\n"
   ]
  },
  {
   "cell_type": "markdown",
   "id": "e2cd4809-32b5-4d5b-8301-0a138abcf78e",
   "metadata": {},
   "source": [
    "## Q9. Given a Pandas DataFrame df with a column 'Values', write a Python function to calculate the mean, median, and standard deviation of the values in the 'Values' column.\n",
    "Ans="
   ]
  },
  {
   "cell_type": "code",
   "execution_count": 11,
   "id": "c2694bfe-2e15-4f80-8ddb-49269ce25eb1",
   "metadata": {},
   "outputs": [
    {
     "name": "stdout",
     "output_type": "stream",
     "text": [
      "Mean: 30.0\n",
      "Median: 30.0\n",
      "Standard Deviation: 15.811388300841896\n"
     ]
    }
   ],
   "source": [
    "import pandas as pd\n",
    "\n",
    "def calculate_stats(df):\n",
    "    mean_value = df['Values'].mean()\n",
    "    median_value = df['Values'].median()\n",
    "    std_value = df['Values'].std()\n",
    "    return mean_value, median_value, std_value\n",
    "\n",
    "data = {'Values': [10, 20, 30, 40, 50]}\n",
    "df = pd.DataFrame(data)\n",
    "\n",
    "mean, median, std = calculate_stats(df)\n",
    "\n",
    "print(\"Mean:\", mean)\n",
    "print(\"Median:\", median)\n",
    "print(\"Standard Deviation:\", std)\n"
   ]
  },
  {
   "cell_type": "markdown",
   "id": "f51cd36c-7d26-4aea-9b08-d3e2d667218e",
   "metadata": {},
   "source": [
    "## Q10. Given a Pandas DataFrame df with a column 'Sales' and a column 'Date', write a Python function to create a new column 'MovingAverage' that contains the moving average of the sales for the past 7 days for each row in the DataFrame. The moving average should be calculated using a window of size 7 and should include the current day.\n",
    "\n",
    "Ans="
   ]
  },
  {
   "cell_type": "code",
   "execution_count": 12,
   "id": "fc459c98-3e9b-4322-a6c2-fb56103d0c4f",
   "metadata": {},
   "outputs": [
    {
     "name": "stdout",
     "output_type": "stream",
     "text": [
      "        Date  Sales  MovingAverage\n",
      "0 2022-01-01     10      10.000000\n",
      "1 2022-01-02     15      12.500000\n",
      "2 2022-01-03     12      12.333333\n",
      "3 2022-01-04      8      11.250000\n",
      "4 2022-01-05     11      11.200000\n",
      "5 2022-01-06     14      11.666667\n",
      "6 2022-01-07     16      12.285714\n"
     ]
    }
   ],
   "source": [
    "import pandas as pd\n",
    "\n",
    "def calculate_moving_average(df):\n",
    "    df['MovingAverage'] = df['Sales'].rolling(window=7, min_periods=1).mean()\n",
    "    return df\n",
    "\n",
    "data = {'Date': ['2022-01-01', '2022-01-02', '2022-01-03', '2022-01-04', '2022-01-05', '2022-01-06', '2022-01-07'],\n",
    "        'Sales': [10, 15, 12, 8, 11, 14, 16]}\n",
    "df = pd.DataFrame(data)\n",
    "\n",
    "df['Date'] = pd.to_datetime(df['Date'])\n",
    "\n",
    "df.sort_values('Date', inplace=True)\n",
    "\n",
    "df_with_ma = calculate_moving_average(df)\n",
    "\n",
    "print(df_with_ma)\n"
   ]
  },
  {
   "cell_type": "markdown",
   "id": "39935f2a-f863-45ff-951e-2a0051ea342a",
   "metadata": {},
   "source": [
    "## Q11. You have a Pandas DataFrame df with a column 'Date'. Write a Python function that creates a new column 'Weekday' in the DataFrame. The 'Weekday' column should contain the weekday name (e.g. Monday, Tuesday) corresponding to each date in the 'Date' column.\n",
    "\n",
    "Ans="
   ]
  },
  {
   "cell_type": "code",
   "execution_count": 14,
   "id": "2c98e681-8b23-4b07-9355-85dd8a8f9978",
   "metadata": {},
   "outputs": [
    {
     "name": "stdout",
     "output_type": "stream",
     "text": [
      "        Date    Weekday\n",
      "0 2023-01-01     Sunday\n",
      "1 2023-01-02     Monday\n",
      "2 2023-01-03    Tuesday\n",
      "3 2023-01-04  Wednesday\n",
      "4 2023-01-05   Thursday\n"
     ]
    }
   ],
   "source": [
    "import pandas as pd\n",
    "\n",
    "def add_weekday_column(df):\n",
    "    df['Weekday'] = df['Date'].dt.strftime('%A')\n",
    "    return df\n",
    "\n",
    "data = {'Date': ['2023-01-01', '2023-01-02', '2023-01-03', '2023-01-04', '2023-01-05']}\n",
    "df = pd.DataFrame(data)\n",
    "\n",
    "df['Date'] = pd.to_datetime(df['Date'])\n",
    "\n",
    "df_with_weekday = add_weekday_column(df)\n",
    "\n",
    "print(df_with_weekday)\n"
   ]
  },
  {
   "cell_type": "markdown",
   "id": "d6f14243-0176-4e17-8228-5549eb6bbeb0",
   "metadata": {},
   "source": [
    "## Q12. Given a Pandas DataFrame df with a column 'Date' that contains timestamps, write a Python function to select all rows where the date is between '2023-01-01' and '2023-01-31'.\n",
    "\n",
    "Ans="
   ]
  },
  {
   "cell_type": "code",
   "execution_count": 15,
   "id": "29ca8996-d7b3-44b8-a586-288ccc370c6e",
   "metadata": {},
   "outputs": [
    {
     "name": "stdout",
     "output_type": "stream",
     "text": [
      "        Date\n",
      "1 2023-01-01\n",
      "2 2023-01-15\n",
      "3 2023-01-31\n"
     ]
    }
   ],
   "source": [
    "import pandas as pd\n",
    "\n",
    "def select_rows_by_date_range(df, start_date, end_date):\n",
    "    mask = (df['Date'] >= start_date) & (df['Date'] <= end_date)\n",
    "    selected_rows = df.loc[mask]\n",
    "    return selected_rows\n",
    "\n",
    "data = {'Date': ['2022-12-31', '2023-01-01', '2023-01-15', '2023-01-31', '2023-02-10']}\n",
    "df = pd.DataFrame(data)\n",
    "\n",
    "df['Date'] = pd.to_datetime(df['Date'])\n",
    "\n",
    "start_date = pd.to_datetime('2023-01-01')\n",
    "end_date = pd.to_datetime('2023-01-31')\n",
    "selected_df = select_rows_by_date_range(df, start_date, end_date)\n",
    "\n",
    "print(selected_df)\n"
   ]
  },
  {
   "cell_type": "markdown",
   "id": "b612ad6d-fb47-457a-912f-53ea2ddda1a9",
   "metadata": {},
   "source": [
    "## Q13. To use the basic functions of pandas, what is the first and foremost necessary library that needs to be imported?"
   ]
  },
  {
   "cell_type": "markdown",
   "id": "bbd0d283-288b-48a9-b96a-77e2d6d62a27",
   "metadata": {},
   "source": [
    "The first and foremost library that needs to be imported to use the basic functions of pandas is the pandas library itself. The pandas library provides the necessary data structures and functions to efficiently work with data in tabular form, such as the DataFrame object.\n",
    "\n",
    "To import the pandas library in Python, you can use the following import statement:\n",
    "    \n",
    "import pandas as pd\n"
   ]
  },
  {
   "cell_type": "code",
   "execution_count": null,
   "id": "8e60688c-1e0c-4351-8c29-5fc6d7b5f923",
   "metadata": {},
   "outputs": [],
   "source": []
  }
 ],
 "metadata": {
  "kernelspec": {
   "display_name": "Python 3 (ipykernel)",
   "language": "python",
   "name": "python3"
  },
  "language_info": {
   "codemirror_mode": {
    "name": "ipython",
    "version": 3
   },
   "file_extension": ".py",
   "mimetype": "text/x-python",
   "name": "python",
   "nbconvert_exporter": "python",
   "pygments_lexer": "ipython3",
   "version": "3.10.8"
  }
 },
 "nbformat": 4,
 "nbformat_minor": 5
}
