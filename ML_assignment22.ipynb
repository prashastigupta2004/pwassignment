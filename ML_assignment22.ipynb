{
 "cells": [
  {
   "cell_type": "markdown",
   "id": "b2b3be03-21fd-40d0-ab70-94df924098ea",
   "metadata": {},
   "source": [
    "## Q1. Pearson correlation coefficient is a measure of the linear relationship between two variables. Suppose you have collected data on the amount of time students spend studying for an exam and their final exam scores. Calculate the Pearson correlation coefficient between these two variables and interpret the result."
   ]
  },
  {
   "cell_type": "markdown",
   "id": "e62a605a-b755-4527-9b8d-fa3182a133fb",
   "metadata": {},
   "source": [
    "Ans= To calculate the Pearson correlation coefficient between the amount of time students spend studying for an exam and their final exam scores, you would need a dataset with pairs of observations for both variables. Let's assume you have such a dataset.\n",
    "\n",
    "Here are the steps to calculate the Pearson correlation coefficient:\n",
    "\n",
    "1) Compute the mean (average) of the studying time variable, denoted as \"X̄,\" and the mean of the exam scores variable, denoted as \"Ȳ.\"\n",
    "2) Calculate the difference between each studying time observation and the mean studying time (X - X̄).\n",
    "3) Calculate the difference between each exam score observation and the mean exam score (Y - Ȳ).\n",
    "4) Multiply each pair of differences obtained in steps 2 and 3 (X - X̄) * (Y - Ȳ).\n",
    "5) Square each difference obtained in step 2 [(X - X̄)^2].\n",
    "6) Square each difference obtained in step 3 [(Y - Ȳ)^2].\n",
    "7) Sum up all the values obtained in steps 4, 5, and 6.\n",
    "8) Divide the sum from step 7 by (n - 1), where \"n\" is the number of observations in the dataset. This step gives you the sample covariance.\n",
    "9) Calculate the square root of the sample covariance from step 8. This gives you the standard deviation of studying time (Sx) multiplied by the standard deviation of exam scores (Sy).\n",
    "10) Divide the sample covariance from step 8 by the product of the standard deviations calculated in step 9. This will give you the Pearson correlation coefficient (r).\n",
    "\n",
    "Interpreting the Pearson correlation coefficient (r):\n",
    "\n",
    "The Pearson correlation coefficient, denoted as \"r,\" ranges between -1 and 1. The sign of the coefficient indicates the direction of the relationship, while the magnitude represents the strength of the relationship.\n",
    "\n",
    ". If the coefficient is close to 1, it indicates a strong positive linear relationship. This means that as the amount of time spent studying increases, the final exam scores tend to increase as well.\n",
    "\n",
    ". If the coefficient is close to -1, it indicates a strong negative linear relationship. This means that as the amount of time spent studying increases, the final exam scores tend to decrease.\n",
    "\n",
    ". If the coefficient is close to 0, it indicates a weak or no linear relationship between the variables. In this case, the studying time and final exam scores do not show a strong linear pattern."
   ]
  },
  {
   "cell_type": "markdown",
   "id": "4c6ca2b0-96f6-440c-b22a-89703db126b9",
   "metadata": {},
   "source": [
    "## Q2. Spearman's rank correlation is a measure of the monotonic relationship between two variables. Suppose you have collected data on the amount of sleep individuals get each night and their overall job satisfaction level on a scale of 1 to 10. Calculate the Spearman's rank correlation between these two variables and interpret the result."
   ]
  },
  {
   "cell_type": "markdown",
   "id": "bf4812bc-7a75-455d-9b55-ed826a8624ec",
   "metadata": {},
   "source": [
    "Ans= Here are the steps to calculate Spearman's rank correlation coefficient:\n",
    "\n",
    "1) Assign ranks to the observations in each variable. If there are ties, assign the average rank to the tied observations.\n",
    "2) Calculate the difference between the ranks of each paired observation.\n",
    "3) Square each difference obtained in step 2.\n",
    "4) Sum up all the squared differences.\n",
    "5) Use the formula: rs = 1 - (6 * sum of squared differences) / (n * (n^2 - 1)), where \"n\" is the number of observations.\n",
    "\n",
    "Interpreting Spearman's rank correlation coefficient (rs):\n",
    "\n",
    "Spearman's rank correlation coefficient, denoted as \"rs,\" ranges between -1 and 1. It measures the strength and direction of the monotonic relationship between the variables.\n",
    "\n",
    ". If rs is close to 1, it indicates a strong positive monotonic relationship. This means that as the amount of sleep individuals get each night increases, their overall job satisfaction tends to increase as well, and vice versa. The ranks of sleep and job satisfaction move in the same direction.\n",
    "\n",
    ". If rs is close to -1, it indicates a strong negative monotonic relationship. This means that as the amount of sleep individuals get each night increases, their overall job satisfaction tends to decrease, and vice versa. The ranks of sleep and job satisfaction move in the opposite direction.\n",
    "\n",
    ". If rs is close to 0, it indicates a weak or no monotonic relationship between the variables. In this case, the amount of sleep individuals get each night does not show a clear monotonic pattern with their overall job satisfaction level.\n",
    "\n",
    "Spearman's rank correlation coefficient measures the monotonic relationship between variables, which means it captures both increasing and decreasing trends. It is suitable for variables that may not have a linear relationship but still exhibit a consistent monotonic pattern."
   ]
  },
  {
   "cell_type": "markdown",
   "id": "e0bf2f25-eec1-40c7-8479-4dee1ae52ab9",
   "metadata": {},
   "source": [
    "## Q3. Suppose you are conducting a study to examine the relationship between the number of hours of exercise per week and body mass index (BMI) in a sample of adults. You collected data on both variables for 50 participants. Calculate the Pearson correlation coefficient and the Spearman's rank correlation between these two variables and compare the results."
   ]
  },
  {
   "cell_type": "markdown",
   "id": "6bac0382-ad3b-45a3-9e11-75bce5698619",
   "metadata": {},
   "source": [
    "Ans= Calculate the Pearson correlation coefficient (r):\n",
    "\n",
    "1) Compute the mean (average) of the number of hours of exercise variable, denoted as \"X̄,\" and the mean of the BMI variable, denoted as \"Ȳ.\"\n",
    "2) Calculate the difference between each number of hours of exercise observation and the mean number of hours of exercise (X - X̄).\n",
    "3) Calculate the difference between each BMI observation and the mean BMI (Y - Ȳ).\n",
    "4) Multiply each pair of differences obtained in steps 2 and 3 (X - X̄) * (Y - Ȳ).\n",
    "5) Square each difference obtained in step 2 [(X - X̄)^2].\n",
    "6) Square each difference obtained in step 3 [(Y - Ȳ)^2].\n",
    "7) Sum up all the values obtained in steps 4, 5, and 6.\n",
    "8) Divide the sum from step 7 by (n - 1), where \"n\" is the number of observations in the dataset. This step gives you the sample covariance.\n",
    "9) Calculate the square root of the sample covariance from step 8. This gives you the standard deviation of the number of hours of exercise (Sx) multiplied by the standard deviation of BMI (Sy).\n",
    "10) Divide the sample covariance from step 8 by the product of the standard deviations calculated in step 9. This will give you the Pearson correlation coefficient (r).\n",
    "\n",
    "Calculate the Spearman's rank correlation coefficient (rs):\n",
    "\n",
    "1) Assign ranks to the observations in each variable. If there are ties, assign the average rank to the tied observations.\n",
    "2) Calculate the difference between the ranks of each paired observation.\n",
    "3) Square each difference obtained in step 2.\n",
    "4) Sum up all the squared differences.\n",
    "5) Use the formula: rs = 1 - (6 * sum of squared differences) / (n * (n^2 - 1)), where \"n\" is the number of observations.\n",
    "\n",
    "Comparing the results:\n",
    "\n",
    "The Pearson correlation coefficient (r) measures the strength and direction of the linear relationship between the number of hours of exercise per week and BMI. It assumes a linear relationship and is affected by outliers.\n",
    "\n",
    "The Spearman's rank correlation coefficient (rs) measures the strength and direction of the monotonic relationship between the variables. It captures both increasing and decreasing trends and is not as affected by outliers as the Pearson correlation coefficient.\n",
    "\n",
    "If the Pearson correlation coefficient (r) and the Spearman's rank correlation coefficient (rs) have similar values and the relationship between the variables is approximately linear, it suggests a strong linear relationship between the number of hours of exercise per week and BMI.\n",
    "\n",
    "However, if the Pearson correlation coefficient (r) is high and the Spearman's rank correlation coefficient (rs) is relatively low, it indicates a non-linear relationship between the variables.\n",
    "\n",
    "On the other hand, if the Spearman's rank correlation coefficient (rs) is high while the Pearson correlation coefficient (r) is relatively low, it suggests a monotonic relationship between the variables that may not be strictly linear."
   ]
  },
  {
   "cell_type": "markdown",
   "id": "d5c290f7-70f1-46a9-96c9-6afc080b6f04",
   "metadata": {},
   "source": [
    "## Q4. A researcher is interested in examining the relationship between the number of hours individuals spend watching television per day and their level of physical activity. The researcher collected data on both variables from a sample of 50 participants. Calculate the Pearson correlation coefficient between these two variables."
   ]
  },
  {
   "cell_type": "markdown",
   "id": "dceeb20f-b0d1-42c9-8af2-31e070acddc1",
   "metadata": {},
   "source": [
    "Ans= Here are the steps to calculate the Pearson correlation coefficient (r):\n",
    "\n",
    "1) Compute the mean (average) of the number of hours spent watching television variable, denoted as \"X̄,\" and the mean of the physical activity level variable, denoted as \"Ȳ.\"\n",
    "2) Calculate the difference between each number of hours spent watching television observation and the mean number of hours (X - X̄).\n",
    "3) Calculate the difference between each physical activity level observation and the mean physical activity level (Y - Ȳ).\n",
    "4) Multiply each pair of differences obtained in steps 2 and 3 (X - X̄) * (Y - Ȳ).\n",
    "5) Square each difference obtained in step 2 [(X - X̄)^2].\n",
    "6) Square each difference obtained in step 3 [(Y - Ȳ)^2].\n",
    "7) Sum up all the values obtained in steps 4, 5, and 6.\n",
    "8) Divide the sum from step 7 by (n - 1), where \"n\" is the number of observations in the dataset. This step gives you the sample covariance.\n",
    "9) Calculate the square root of the sample covariance from step 8. This gives you the standard deviation of the number of hours spent watching television (Sx) multiplied by the standard deviation of the physical activity level (Sy).\n",
    "10) Divide the sample covariance from step 8 by the product of the standard deviations calculated in step 9. This will give you the Pearson correlation coefficient (r)."
   ]
  },
  {
   "cell_type": "markdown",
   "id": "0bda09d5-d1f7-4a0c-adb8-44fdb825daa9",
   "metadata": {},
   "source": [
    "## Q5. A survey was conducted to examine the relationship between age and preference for a particular brand of soft drink. The survey results are shown below:"
   ]
  },
  {
   "cell_type": "markdown",
   "id": "02be47d2-b46d-4403-9c6b-87daf285de8d",
   "metadata": {},
   "source": [
    "Ans= To examine the relationship between age and soft drink preference, we can analyze the data and calculate the frequency or proportion of each soft drink preference for different age groups. However, it is important to note that with only six data points, it may not be possible to draw strong conclusions or make generalizations about the entire population.\n",
    "\n",
    "Nevertheless, we can still summarize the data and observe the preferences for each soft drink brand within the given sample:\n",
    "\n",
    "Coke: 25 years, 19 years, 28 years\n",
    "\n",
    "Pepsi: 42 years, 31 years\n",
    "\n",
    "Mountain Dew: 37 years\n",
    "\n",
    "It appears that within this small sample, Coke was preferred by individuals aged 25, 19, and 28 years, while Pepsi was preferred by individuals aged 42 and 31 years. Mountain Dew was preferred by an individual aged 37 years."
   ]
  },
  {
   "cell_type": "markdown",
   "id": "8d76adb0-31b9-46bb-a26a-9fbbbe9a842d",
   "metadata": {},
   "source": [
    "## Q6. A company is interested in examining the relationship between the number of sales calls made per day and the number of sales made per week. The company collected data on both variables from a sample of 30 sales representatives. Calculate the Pearson correlation coefficient between these two variables."
   ]
  },
  {
   "cell_type": "markdown",
   "id": "667f8904-7876-47cf-9293-8a35ed3d6ae0",
   "metadata": {},
   "source": [
    "Ans= Here are the steps to calculate the Pearson correlation coefficient (r):\n",
    "\n",
    "1) Compute the mean (average) of the number of sales calls made per day, denoted as \"X̄,\" and the mean of the number of sales made per week, denoted as \"Ȳ.\"\n",
    "2) Calculate the difference between each number of sales calls made per day observation and the mean number of sales calls (X - X̄).\n",
    "3) Calculate the difference between each number of sales made per week observation and the mean number of sales (Y - Ȳ).\n",
    "4) Multiply each pair of differences obtained in steps 2 and 3 (X - X̄) * (Y - Ȳ).\n",
    "5) Square each difference obtained in step 2 [(X - X̄)^2].\n",
    "6) Square each difference obtained in step 3 [(Y - Ȳ)^2].\n",
    "7) Sum up all the values obtained in steps 4, 5, and 6.\n",
    "8) Divide the sum from step 7 by (n - 1), where \"n\" is the number of observations in the dataset. This step gives you the sample covariance.\n",
    "9) Calculate the square root of the sample covariance from step 8. This gives you the standard deviation of the number of sales calls made per day (Sx) multiplied by the standard deviation of the number of sales made per week (Sy).\n",
    "10) Divide the sample covariance from step 8 by the product of the standard deviations calculated in step 9. This will give you the Pearson correlation coefficient (r)."
   ]
  },
  {
   "cell_type": "code",
   "execution_count": null,
   "id": "c97db176-c95d-4534-be7d-4a7d8e5a73f8",
   "metadata": {},
   "outputs": [],
   "source": []
  }
 ],
 "metadata": {
  "kernelspec": {
   "display_name": "Python 3 (ipykernel)",
   "language": "python",
   "name": "python3"
  },
  "language_info": {
   "codemirror_mode": {
    "name": "ipython",
    "version": 3
   },
   "file_extension": ".py",
   "mimetype": "text/x-python",
   "name": "python",
   "nbconvert_exporter": "python",
   "pygments_lexer": "ipython3",
   "version": "3.10.8"
  }
 },
 "nbformat": 4,
 "nbformat_minor": 5
}
