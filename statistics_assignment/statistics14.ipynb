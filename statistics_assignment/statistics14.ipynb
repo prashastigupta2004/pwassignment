{
 "cells": [
  {
   "cell_type": "markdown",
   "id": "2adcd87f-9ce6-41e0-8d14-097a8c14c51d",
   "metadata": {},
   "source": [
    "## Q1. Write a Python function that takes in two arrays of data and calculates the F-value for a variance ratio test. The function should return the F-value and the corresponding p-value for the test."
   ]
  },
  {
   "cell_type": "code",
   "execution_count": 2,
   "id": "9bec46c1-88f8-4fb9-80a5-e7b492387cb3",
   "metadata": {},
   "outputs": [
    {
     "name": "stdout",
     "output_type": "stream",
     "text": [
      "F-value: 0.6296296296296297\n",
      "p-value: 0.7492321661975316\n"
     ]
    }
   ],
   "source": [
    "import numpy as np\n",
    "import scipy.stats as stats\n",
    "\n",
    "def variance_ratio_test(data1, data2):\n",
    "    # Calculate the sample variances\n",
    "    var1 = np.var(data1, ddof=1)\n",
    "    var2 = np.var(data2, ddof=1)\n",
    "    \n",
    "    # Calculate the F-value\n",
    "    f_value = var1 / var2\n",
    "    \n",
    "    # Calculate the degrees of freedom\n",
    "    df1 = len(data1) - 1\n",
    "    df2 = len(data2) - 1\n",
    "    \n",
    "    # Calculate the p-value using the F-distribution\n",
    "    p_value = 1 - stats.f.cdf(f_value, df1, df2)\n",
    "    \n",
    "    return f_value, p_value\n",
    "\n",
    "data1 = [10, 12, 11, 14, 13, 12, 9, 10, 12, 11]\n",
    "data2 = [12, 15, 16, 14, 13, 11, 12, 11, 12, 10]\n",
    "\n",
    "f_value, p_value = variance_ratio_test(data1, data2)\n",
    "\n",
    "print(\"F-value:\", f_value)\n",
    "print(\"p-value:\", p_value)\n"
   ]
  },
  {
   "cell_type": "markdown",
   "id": "e2ecf2f6-fde8-40e3-8133-2991a784e222",
   "metadata": {},
   "source": [
    "## Q2. Given a significance level of 0.05 and the degrees of freedom for the numerator and denominator of an F-distribution, write a Python function that returns the critical F-value for a two-tailed test."
   ]
  },
  {
   "cell_type": "code",
   "execution_count": 3,
   "id": "98e65986-28ff-44ea-a1e5-e450c9562d44",
   "metadata": {},
   "outputs": [
    {
     "name": "stdout",
     "output_type": "stream",
     "text": [
      "Critical F-value: 3.8586986662732143\n"
     ]
    }
   ],
   "source": [
    "import scipy.stats as stats\n",
    "\n",
    "def get_critical_f_value(alpha, dfn, dfd):\n",
    "    # Calculate the critical F-value for a two-tailed test\n",
    "    f_critical = stats.f.ppf(1 - alpha / 2, dfn, dfd)\n",
    "    \n",
    "    return f_critical\n",
    "\n",
    "alpha = 0.05\n",
    "dfn = 3\n",
    "dfd = 20\n",
    "\n",
    "critical_f_value = get_critical_f_value(alpha, dfn, dfd)\n",
    "\n",
    "print(\"Critical F-value:\", critical_f_value)\n"
   ]
  },
  {
   "cell_type": "markdown",
   "id": "dc78cb0d-dd34-46fe-8769-1b1ffff7affb",
   "metadata": {},
   "source": [
    "## Q3. Write a Python program that generates random samples from two normal distributions with known variances and uses an F-test to determine if the variances are equal. The program should output the F- value, degrees of freedom, and p-value for the test."
   ]
  },
  {
   "cell_type": "code",
   "execution_count": 4,
   "id": "5d76e80b-29c3-4a81-b28f-c653d7dba7ca",
   "metadata": {},
   "outputs": [
    {
     "name": "stdout",
     "output_type": "stream",
     "text": [
      "F-value: 1.5359308120388548\n",
      "Degrees of Freedom (numerator, denominator): 49 , 49\n",
      "p-value: 0.13656912565918544\n"
     ]
    }
   ],
   "source": [
    "import numpy as np\n",
    "import scipy.stats as stats\n",
    "\n",
    "def f_test_equal_variances(sample1, sample2):\n",
    "    # Calculate the variances of the samples\n",
    "    var1 = np.var(sample1, ddof=1)\n",
    "    var2 = np.var(sample2, ddof=1)\n",
    "    \n",
    "    # Calculate the F-value\n",
    "    f_value = var1 / var2\n",
    "    \n",
    "    # Calculate the degrees of freedom\n",
    "    dfn = len(sample1) - 1\n",
    "    dfd = len(sample2) - 1\n",
    "    \n",
    "    # Calculate the p-value using the F-distribution\n",
    "    p_value = 2 * min(stats.f.cdf(f_value, dfn, dfd), 1 - stats.f.cdf(f_value, dfn, dfd))\n",
    "    \n",
    "    return f_value, dfn, dfd, p_value\n",
    "\n",
    "\n",
    "# Generate random samples from two normal distributions\n",
    "np.random.seed(1)\n",
    "sample1 = np.random.normal(loc=0, scale=1, size=50)\n",
    "sample2 = np.random.normal(loc=0, scale=1, size=50)\n",
    "\n",
    "# Perform the F-test for equal variances\n",
    "f_value, dfn, dfd, p_value = f_test_equal_variances(sample1, sample2)\n",
    "\n",
    "# Print the results\n",
    "print(\"F-value:\", f_value)\n",
    "print(\"Degrees of Freedom (numerator, denominator):\", dfn, \",\", dfd)\n",
    "print(\"p-value:\", p_value)\n"
   ]
  },
  {
   "cell_type": "markdown",
   "id": "7374eb6c-54dd-4ca9-92f2-bcfa50e66393",
   "metadata": {},
   "source": [
    " ## Q4.The variances of two populations are known to be 10 and 15. A sample of 12 observations is taken from each population. Conduct an F-test at the 5% significance level to determine if the variances are significantly different."
   ]
  },
  {
   "cell_type": "code",
   "execution_count": 5,
   "id": "26223e76-d43f-4642-8e64-0e3fe35cbad0",
   "metadata": {},
   "outputs": [
    {
     "name": "stdout",
     "output_type": "stream",
     "text": [
      "F-value: 0.6666666666666666\n",
      "Degrees of Freedom (numerator, denominator): 11 , 11\n",
      "Critical F-value: 3.473699051085809\n",
      "Fail to reject H0: The variances are not significantly different.\n"
     ]
    }
   ],
   "source": [
    "import scipy.stats as stats\n",
    "\n",
    "def f_test_known_variances(variance1, variance2, n1, n2):\n",
    "    # Calculate the F-value\n",
    "    f_value = variance1 / variance2\n",
    "\n",
    "    # Calculate the degrees of freedom\n",
    "    dfn = n1 - 1\n",
    "    dfd = n2 - 1\n",
    "\n",
    "    # Set the significance level\n",
    "    alpha = 0.05\n",
    "\n",
    "    # Calculate the critical F-value\n",
    "    critical_f_value = stats.f.ppf(1 - alpha/2, dfn, dfd)\n",
    "\n",
    "    # Perform the F-test\n",
    "    if f_value > critical_f_value:\n",
    "        result = \"Reject H0: The variances are significantly different.\"\n",
    "    else:\n",
    "        result = \"Fail to reject H0: The variances are not significantly different.\"\n",
    "\n",
    "    return f_value, dfn, dfd, critical_f_value, result\n",
    "\n",
    "# Given data\n",
    "variance1 = 10\n",
    "variance2 = 15\n",
    "n1 = 12\n",
    "n2 = 12\n",
    "\n",
    "# Perform the F-test\n",
    "f_value, dfn, dfd, critical_f_value, result = f_test_known_variances(variance1, variance2, n1, n2)\n",
    "\n",
    "# Print the results\n",
    "print(\"F-value:\", f_value)\n",
    "print(\"Degrees of Freedom (numerator, denominator):\", dfn, \",\", dfd)\n",
    "print(\"Critical F-value:\", critical_f_value)\n",
    "print(result)\n"
   ]
  },
  {
   "cell_type": "markdown",
   "id": "60141cfc-d238-497e-98ab-ef1ed8386d16",
   "metadata": {},
   "source": [
    "## Q5. A manufacturer claims that the variance of the diameter of a certain product is 0.005. A sample of 25 products is taken, and the sample variance is found to be 0.006. Conduct an F-test at the 1% significance level to determine if the claim is justified."
   ]
  },
  {
   "cell_type": "code",
   "execution_count": 7,
   "id": "13af30d0-0379-40f2-b346-24aede9d6765",
   "metadata": {},
   "outputs": [
    {
     "name": "stdout",
     "output_type": "stream",
     "text": [
      "F-value: 1.2\n",
      "Degrees of Freedom (numerator, denominator): 1 , 24\n",
      "Critical F-value: 9.551273994803273\n",
      "Fail to reject H0: The claim about the variance is justified.\n"
     ]
    }
   ],
   "source": [
    "import scipy.stats as stats\n",
    "\n",
    "def f_test_claimed_variance(sample_variance, claimed_variance, sample_size):\n",
    "    # Calculate the F-value\n",
    "    f_value = sample_variance / claimed_variance\n",
    "\n",
    "    # Calculate the degrees of freedom\n",
    "    dfn = 1\n",
    "    dfd = sample_size - 1\n",
    "\n",
    "    # Set the significance level\n",
    "    alpha = 0.01\n",
    "\n",
    "    # Calculate the critical F-value\n",
    "    critical_f_value = stats.f.ppf(1 - alpha/2, dfn, dfd)\n",
    "\n",
    "    # Perform the F-test\n",
    "    if f_value > critical_f_value or f_value < 1 / critical_f_value:\n",
    "        result = \"Reject H0: The claim about the variance is not justified.\"\n",
    "    else:\n",
    "        result = \"Fail to reject H0: The claim about the variance is justified.\"\n",
    "\n",
    "    return f_value, dfn, dfd, critical_f_value, result\n",
    "\n",
    "# Given data\n",
    "sample_variance = 0.006\n",
    "claimed_variance = 0.005\n",
    "sample_size = 25\n",
    "\n",
    "# Perform the F-test\n",
    "f_value, dfn, dfd, critical_f_value, result = f_test_claimed_variance(sample_variance, claimed_variance, sample_size)\n",
    "\n",
    "# Print the results\n",
    "print(\"F-value:\", f_value)\n",
    "print(\"Degrees of Freedom (numerator, denominator):\", dfn, \",\", dfd)\n",
    "print(\"Critical F-value:\", critical_f_value)\n",
    "print(result)\n"
   ]
  },
  {
   "cell_type": "markdown",
   "id": "a38c709e-75bd-49ef-a968-9d9743dfe061",
   "metadata": {},
   "source": [
    "## Q6. Write a Python function that takes in the degrees of freedom for the numerator and denominator of an F-distribution and calculates the mean and variance of the distribution. The function should return the mean and variance as a tuple."
   ]
  },
  {
   "cell_type": "code",
   "execution_count": 8,
   "id": "572207d1-2dd6-40b3-9f06-395ed9a82d97",
   "metadata": {},
   "outputs": [
    {
     "name": "stdout",
     "output_type": "stream",
     "text": [
      "Mean of F-distribution: 1.1111111111111112\n",
      "Variance of F-distribution: 1.0802469135802468\n"
     ]
    }
   ],
   "source": [
    "def f_distribution_mean_variance(dfn, dfd):\n",
    "    # Calculate the mean of the F-distribution\n",
    "    if dfd > 2:\n",
    "        mean = dfd / (dfd - 2)\n",
    "    else:\n",
    "        mean = float('inf')\n",
    "\n",
    "    # Calculate the variance of the F-distribution\n",
    "    if dfd > 4:\n",
    "        variance = (2 * (dfd ** 2) * (dfn + dfd - 2)) / (dfn * (dfd - 2) ** 2 * (dfd - 4))\n",
    "    else:\n",
    "        variance = float('inf')\n",
    "\n",
    "    return mean, variance\n",
    "\n",
    "mean = dfd / (dfd - 2)\n",
    "variance = (2 * (dfd^2) * (dfn + dfd - 2)) / (dfn * (dfd - 2)^2 * (dfd - 4))\n",
    "\n",
    "dfn = 3\n",
    "dfd = 20\n",
    "\n",
    "mean, variance = f_distribution_mean_variance(dfn, dfd)\n",
    "\n",
    "print(\"Mean of F-distribution:\", mean)\n",
    "print(\"Variance of F-distribution:\", variance)\n"
   ]
  },
  {
   "cell_type": "markdown",
   "id": "70cec715-a23b-4447-8f3d-f027d085928a",
   "metadata": {},
   "source": [
    "## Q7. A random sample of 10 measurements is taken from a normal population with unknown variance. The sample variance is found to be 25. Another random sample of 15 measurements is taken from another normal population with unknown variance, and the sample variance is found to be 20. Conduct an F-test at the 10% significance level to determine if the variances are significantly different."
   ]
  },
  {
   "cell_type": "code",
   "execution_count": 9,
   "id": "305a7dba-ddfe-4ff7-ad57-5d0afe10590b",
   "metadata": {},
   "outputs": [
    {
     "name": "stdout",
     "output_type": "stream",
     "text": [
      "F-value: 1.25\n",
      "Degrees of Freedom (numerator, denominator): 9 , 14\n",
      "Critical F-value: 2.6457907352338195\n",
      "Fail to reject H0: The variances are not significantly different.\n"
     ]
    }
   ],
   "source": [
    "import scipy.stats as stats\n",
    "\n",
    "def f_test_unknown_variances(sample_var1, sample_var2, sample_size1, sample_size2):\n",
    "    # Determine the larger and smaller sample variances\n",
    "    if sample_var1 >= sample_var2:\n",
    "        larger_sample_variance = sample_var1\n",
    "        smaller_sample_variance = sample_var2\n",
    "        larger_sample_size = sample_size1\n",
    "        smaller_sample_size = sample_size2\n",
    "    else:\n",
    "        larger_sample_variance = sample_var2\n",
    "        smaller_sample_variance = sample_var1\n",
    "        larger_sample_size = sample_size2\n",
    "        smaller_sample_size = sample_size1\n",
    "\n",
    "    # Calculate the F-value\n",
    "    f_value = larger_sample_variance / smaller_sample_variance\n",
    "\n",
    "    # Calculate the degrees of freedom\n",
    "    dfn = larger_sample_size - 1\n",
    "    dfd = smaller_sample_size - 1\n",
    "\n",
    "    # Set the significance level\n",
    "    alpha = 0.10\n",
    "\n",
    "    # Calculate the critical F-value\n",
    "    critical_f_value = stats.f.ppf(1 - alpha/2, dfn, dfd)\n",
    "\n",
    "    # Perform the F-test\n",
    "    if f_value > critical_f_value:\n",
    "        result = \"Reject H0: The variances are significantly different.\"\n",
    "    else:\n",
    "        result = \"Fail to reject H0: The variances are not significantly different.\"\n",
    "\n",
    "    return f_value, dfn, dfd, critical_f_value, result\n",
    "\n",
    "# Given data\n",
    "sample_var1 = 25\n",
    "sample_var2 = 20\n",
    "sample_size1 = 10\n",
    "sample_size2 = 15\n",
    "\n",
    "# Perform the F-test\n",
    "f_value, dfn, dfd, critical_f_value, result = f_test_unknown_variances(sample_var1, sample_var2, sample_size1, sample_size2)\n",
    "\n",
    "# Print the results\n",
    "print(\"F-value:\", f_value)\n",
    "print(\"Degrees of Freedom (numerator, denominator):\", dfn, \",\", dfd)\n",
    "print(\"Critical F-value:\", critical_f_value)\n",
    "print(result)\n"
   ]
  },
  {
   "cell_type": "markdown",
   "id": "6a4efcd0-14ca-4dcc-8b43-2c6dec774ece",
   "metadata": {},
   "source": [
    "## Q8. The following data represent the waiting times in minutes at two different restaurants on a Saturday night: Restaurant A: 24, 25, 28, 23, 22, 20, 27; Restaurant B: 31, 33, 35, 30, 32, 36. Conduct an F-test at the 5% significance level to determine if the variances are significantly different."
   ]
  },
  {
   "cell_type": "code",
   "execution_count": 11,
   "id": "e6dec580-dfb3-4947-a770-91121efe10c1",
   "metadata": {},
   "outputs": [
    {
     "name": "stdout",
     "output_type": "stream",
     "text": [
      "F-value: 1.4551907719609583\n",
      "Degrees of Freedom (numerator, denominator): 1 , 11\n",
      "Critical F-value: 6.724129660239184\n",
      "Fail to reject H0: The variances are not significantly different.\n"
     ]
    }
   ],
   "source": [
    "import scipy.stats as stats\n",
    "import numpy as np\n",
    "\n",
    "def f_test_waiting_times(waiting_times1, waiting_times2):\n",
    "    # Calculate the sample variances\n",
    "    var1 = np.var(waiting_times1, ddof=1)\n",
    "    var2 = np.var(waiting_times2, ddof=1)\n",
    "\n",
    "    # Determine the larger and smaller sample variances\n",
    "    if var1 >= var2:\n",
    "        larger_sample_variance = var1\n",
    "        smaller_sample_variance = var2\n",
    "        larger_sample_size = len(waiting_times1)\n",
    "        smaller_sample_size = len(waiting_times2)\n",
    "    else:\n",
    "        larger_sample_variance = var2\n",
    "        smaller_sample_variance = var1\n",
    "        larger_sample_size = len(waiting_times2)\n",
    "        smaller_sample_size = len(waiting_times1)\n",
    "\n",
    "    # Calculate the F-value\n",
    "    f_value = larger_sample_variance / smaller_sample_variance\n",
    "\n",
    "    # Calculate the degrees of freedom\n",
    "    dfn = 1\n",
    "    dfd = larger_sample_size + smaller_sample_size - 2\n",
    "\n",
    "    # Set the significance level\n",
    "    alpha = 0.05\n",
    "\n",
    "    # Calculate the critical F-value\n",
    "    critical_f_value = stats.f.ppf(1 - alpha/2, dfn, dfd)\n",
    "\n",
    "    # Perform the F-test\n",
    "    if f_value > critical_f_value:\n",
    "        result = \"Reject H0: The variances are significantly different.\"\n",
    "    else:\n",
    "        result = \"Fail to reject H0: The variances are not significantly different.\"\n",
    "\n",
    "    return f_value, dfn, dfd, critical_f_value, result\n",
    "\n",
    "# Given data\n",
    "waiting_times1 = [24, 25, 28, 23, 22, 20, 27]\n",
    "waiting_times2 = [31, 33, 35, 30, 32, 36]\n",
    "\n",
    "# Perform the F-test\n",
    "f_value, dfn, dfd, critical_f_value, result = f_test_waiting_times(waiting_times1, waiting_times2)\n",
    "\n",
    "# Print the results\n",
    "print(\"F-value:\", f_value)\n",
    "print(\"Degrees of Freedom (numerator, denominator):\", dfn, \",\", dfd)\n",
    "print(\"Critical F-value:\", critical_f_value)\n",
    "print(result)\n"
   ]
  },
  {
   "cell_type": "markdown",
   "id": "02a04187-4805-4040-ad25-1a36641efe70",
   "metadata": {},
   "source": [
    "## Q9. The following data represent the test scores of two groups of students: Group A: 80, 85, 90, 92, 87, 83; Group B: 75, 78, 82, 79, 81, 84. Conduct an F-test at the 1% significance level to determine if the variances are significantly different."
   ]
  },
  {
   "cell_type": "code",
   "execution_count": 12,
   "id": "f060c800-0cf4-43a5-b9c2-01c75286f07c",
   "metadata": {},
   "outputs": [
    {
     "name": "stdout",
     "output_type": "stream",
     "text": [
      "F-value: 1.9442622950819677\n",
      "Degrees of Freedom (numerator, denominator): 1 , 10\n",
      "Critical F-value: 12.826470384373417\n",
      "Fail to reject H0: The variances are not significantly different.\n"
     ]
    }
   ],
   "source": [
    "import scipy.stats as stats\n",
    "import numpy as np\n",
    "\n",
    "def f_test_test_scores(test_scores1, test_scores2):\n",
    "    # Calculate the sample variances\n",
    "    var1 = np.var(test_scores1, ddof=1)\n",
    "    var2 = np.var(test_scores2, ddof=1)\n",
    "\n",
    "    # Determine the larger and smaller sample variances\n",
    "    if var1 >= var2:\n",
    "        larger_sample_variance = var1\n",
    "        smaller_sample_variance = var2\n",
    "        larger_sample_size = len(test_scores1)\n",
    "        smaller_sample_size = len(test_scores2)\n",
    "    else:\n",
    "        larger_sample_variance = var2\n",
    "        smaller_sample_variance = var1\n",
    "        larger_sample_size = len(test_scores2)\n",
    "        smaller_sample_size = len(test_scores1)\n",
    "\n",
    "    # Calculate the F-value\n",
    "    f_value = larger_sample_variance / smaller_sample_variance\n",
    "\n",
    "    # Calculate the degrees of freedom\n",
    "    dfn = 1\n",
    "    dfd = larger_sample_size + smaller_sample_size - 2\n",
    "\n",
    "    # Set the significance level\n",
    "    alpha = 0.01\n",
    "\n",
    "    # Calculate the critical F-value\n",
    "    critical_f_value = stats.f.ppf(1 - alpha/2, dfn, dfd)\n",
    "\n",
    "    # Perform the F-test\n",
    "    if f_value > critical_f_value:\n",
    "        result = \"Reject H0: The variances are significantly different.\"\n",
    "    else:\n",
    "        result = \"Fail to reject H0: The variances are not significantly different.\"\n",
    "\n",
    "    return f_value, dfn, dfd, critical_f_value, result\n",
    "\n",
    "# Given data\n",
    "test_scores1 = [80, 85, 90, 92, 87, 83]\n",
    "test_scores2 = [75, 78, 82, 79, 81, 84]\n",
    "\n",
    "# Perform the F-test\n",
    "f_value, dfn, dfd, critical_f_value, result = f_test_test_scores(test_scores1, test_scores2)\n",
    "\n",
    "# Print the results\n",
    "print(\"F-value:\", f_value)\n",
    "print(\"Degrees of Freedom (numerator, denominator):\", dfn, \",\", dfd)\n",
    "print(\"Critical F-value:\", critical_f_value)\n",
    "print(result)\n"
   ]
  },
  {
   "cell_type": "code",
   "execution_count": null,
   "id": "59e19e1b-7a3e-4973-9142-43fefeff0c7e",
   "metadata": {},
   "outputs": [],
   "source": []
  }
 ],
 "metadata": {
  "kernelspec": {
   "display_name": "Python 3 (ipykernel)",
   "language": "python",
   "name": "python3"
  },
  "language_info": {
   "codemirror_mode": {
    "name": "ipython",
    "version": 3
   },
   "file_extension": ".py",
   "mimetype": "text/x-python",
   "name": "python",
   "nbconvert_exporter": "python",
   "pygments_lexer": "ipython3",
   "version": "3.10.8"
  }
 },
 "nbformat": 4,
 "nbformat_minor": 5
}
