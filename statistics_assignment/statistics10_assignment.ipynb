{
 "cells": [
  {
   "cell_type": "markdown",
   "id": "d787ec06-45c3-430a-bf4c-59e2e9269ad2",
   "metadata": {},
   "source": [
    "## Q1: What is Estimation Statistics? Explain point estimate and interval estimate."
   ]
  },
  {
   "cell_type": "markdown",
   "id": "95069ffc-6d18-48f8-915c-25c8bdf7df8a",
   "metadata": {},
   "source": [
    "Ans= Estimation statistics is a branch of statistics that deals with estimating population parameters based on sample data. When the entire population cannot be measured or observed directly, estimation statistics allows us to make inferences and approximate the unknown parameters using information from a representative sample.\n",
    "\n",
    "Point Estimate:\n",
    "A point estimate is a single value that is used to estimate an unknown population parameter. It provides a \"best guess\" or approximation of the parameter based on the sample data. For example, if we want to estimate the population mean, we can use the sample mean as a point estimate. Similarly, if we want to estimate the population proportion, we can use the sample proportion as a point estimate. Point estimates are simple and easy to calculate, but they do not provide information about the precision or reliability of the estimate.\n",
    "\n",
    "Interval Estimate:\n",
    "An interval estimate provides a range of values within which the population parameter is likely to lie. It takes into account the variability of the sample data and provides a measure of uncertainty associated with the estimate. The interval is constructed using a point estimate along with a margin of error or a confidence level. The margin of error represents the amount of uncertainty or sampling error in the estimate."
   ]
  },
  {
   "cell_type": "markdown",
   "id": "13312ed0-b883-4c25-bd90-05abca714d43",
   "metadata": {},
   "source": [
    "## Q2. Write a Python function to estimate the population mean using a sample mean and standard deviation."
   ]
  },
  {
   "cell_type": "code",
   "execution_count": 1,
   "id": "7c31da39-375e-4d16-86d1-0925e423cc27",
   "metadata": {},
   "outputs": [
    {
     "name": "stdout",
     "output_type": "stream",
     "text": [
      "Estimated population mean: 10.80\n",
      "Confidence interval: [9.86, 11.74]\n"
     ]
    }
   ],
   "source": [
    "import numpy as np\n",
    "from scipy import stats\n",
    "\n",
    "def estimate_population_mean(sample, confidence_level=0.95):\n",
    "    sample_size = len(sample)\n",
    "    sample_mean = np.mean(sample)\n",
    "    sample_stddev = np.std(sample, ddof=1)  # ddof=1 for sample standard deviation\n",
    "\n",
    "    margin_of_error = stats.t.ppf((1 + confidence_level) / 2, df=sample_size-1) * (sample_stddev / np.sqrt(sample_size))\n",
    "    lower_bound = sample_mean - margin_of_error\n",
    "    upper_bound = sample_mean + margin_of_error\n",
    "\n",
    "    return lower_bound, upper_bound\n",
    "\n",
    "sample = [10, 12, 11, 9, 10, 13, 11, 12, 9, 11]\n",
    "\n",
    "lower_bound, upper_bound = estimate_population_mean(sample)\n",
    "\n",
    "print(\"Estimated population mean: {:.2f}\".format(np.mean(sample)))\n",
    "print(\"Confidence interval: [{:.2f}, {:.2f}]\".format(lower_bound, upper_bound))\n"
   ]
  },
  {
   "cell_type": "markdown",
   "id": "b3b31eec-7351-428e-be0d-527f2e38cda2",
   "metadata": {},
   "source": [
    "## Q3: What is Hypothesis testing? Why is it used? State the importance of Hypothesis testing."
   ]
  },
  {
   "cell_type": "markdown",
   "id": "bd7a4c3d-b1d4-4c9d-972e-f65fbf233286",
   "metadata": {},
   "source": [
    "Ans= Hypothesis testing is a statistical procedure used to make inferences and draw conclusions about a population based on sample data. It involves formulating two competing hypotheses, the null hypothesis (H0) and the alternative hypothesis (H1 or Ha), and then testing the data against these hypotheses to assess the strength of evidence.\n",
    "\n",
    "The importance of hypothesis testing lies in its ability to provide a structured framework for making decisions and drawing conclusions based on evidence. Here are a few key reasons why hypothesis testing is significant:\n",
    "\n",
    "Statistical Inference: Hypothesis testing allows researchers to make inferences about population parameters using sample data. It provides a way to generalize findings from a sample to the larger population.\n",
    "\n",
    "Evidence-Based Decision Making: By setting up hypotheses and performing hypothesis tests, we can objectively evaluate the strength of evidence for or against a specific claim or hypothesis. This helps in making informed decisions based on data rather than relying on intuition or subjective opinions."
   ]
  },
  {
   "cell_type": "markdown",
   "id": "441049d2-5075-47af-bef9-3b3cd9c828da",
   "metadata": {},
   "source": [
    "## Q4. Create a hypothesis that states whether the average weight of male college students is greater than the average weight of female college students."
   ]
  },
  {
   "cell_type": "markdown",
   "id": "cf2b9f31-b333-4b3a-bb74-ffcb88a950c7",
   "metadata": {},
   "source": [
    "Ans= Hypothesis: The average weight of male college students is greater than the average weight of female college students.\n",
    "\n",
    "Null Hypothesis (H0): The average weight of male college students is equal to or less than the average weight of female college students.\n",
    "\n",
    "Alternative Hypothesis (Ha): The average weight of male college students is greater than the average weight of female college students.\n",
    "\n",
    "Symbolically:\n",
    "\n",
    "H0: μ_male ≤ μ_female\n",
    "\n",
    "Ha: μ_male > μ_female\n",
    "\n",
    "In this hypothesis, we are comparing the average weight (μ) of male college students to that of female college students. The null hypothesis assumes that there is no significant difference in the average weight between the two groups, while the alternative hypothesis suggests that there is a difference, specifically that the average weight of male college students is greater. By conducting hypothesis testing and analyzing the data, we can determine whether there is enough evidence to reject the null hypothesis in favor of the alternative hypothesis.\n",
    "\n"
   ]
  },
  {
   "cell_type": "markdown",
   "id": "ad439c14-11ff-4053-b47f-77c4594cf8f9",
   "metadata": {},
   "source": [
    "## Q5. Write a Python script to conduct a hypothesis test on the difference between two population means, given a sample from each population."
   ]
  },
  {
   "cell_type": "code",
   "execution_count": 2,
   "id": "d97ab8d5-6c43-4739-9764-12c579dcd590",
   "metadata": {},
   "outputs": [
    {
     "name": "stdout",
     "output_type": "stream",
     "text": [
      "Reject the null hypothesis. There is evidence to support a significant difference between the population means.\n",
      "Test statistic: -5.0\n",
      "P-value: 0.001052825793366539\n"
     ]
    }
   ],
   "source": [
    "import numpy as np\n",
    "from scipy import stats\n",
    "\n",
    "def hypothesis_test(sample1, sample2, alpha):\n",
    "    # Perform a two-sample independent t-test\n",
    "    t_stat, p_value = stats.ttest_ind(sample1, sample2)\n",
    "\n",
    "    # Compare p-value with the significance level (alpha)\n",
    "    if p_value < alpha:\n",
    "        print(\"Reject the null hypothesis. There is evidence to support a significant difference between the population means.\")\n",
    "    else:\n",
    "        print(\"Fail to reject the null hypothesis. There is no significant difference between the population means.\")\n",
    "\n",
    "    # Print the test statistic and p-value\n",
    "    print(\"Test statistic:\", t_stat)\n",
    "    print(\"P-value:\", p_value)\n",
    "\n",
    "\n",
    "# Example usage\n",
    "sample1 = [1, 2, 3, 4, 5]\n",
    "sample2 = [6, 7, 8, 9, 10]\n",
    "alpha = 0.05\n",
    "\n",
    "hypothesis_test(sample1, sample2, alpha)\n"
   ]
  },
  {
   "cell_type": "markdown",
   "id": "02a0940c-ea20-4e90-acf9-9c386adb683c",
   "metadata": {},
   "source": [
    "## Q6: What is a null and alternative hypothesis? Give some examples."
   ]
  },
  {
   "cell_type": "markdown",
   "id": "505e1846-8309-40b0-8ace-fe705fd8d2ff",
   "metadata": {},
   "source": [
    "Ans=\n",
    "\n",
    "1) The Null Hypothesis (H0):\n",
    "The null hypothesis represents the default or baseline assumption. It states that there is no significant effect, difference, or relationship in the population. It assumes that any observed differences or relationships in the sample are due to random chance or sampling variability. The null hypothesis is typically denoted as H0.\n",
    "\n",
    "Examples of null hypotheses:\n",
    "\n",
    "The average test scores of students who received tutoring and those who did not receive tutoring are equal.\n",
    "\n",
    "The proportion of defective products produced by Machine A is the same as the proportion of defective products produced by Machine B.\n",
    "\n",
    "2) The Alternative Hypothesis (Ha or H1):\n",
    "The alternative hypothesis represents an alternative claim or hypothesis that contradicts the null hypothesis. It suggests that there is a significant effect, difference, or relationship in the population. It posits that the observed differences or relationships in the sample are not due to random chance but are representative of a real effect or relationship in the population. The alternative hypothesis can be one-sided (directional) or two-sided (non-directional).\n",
    "\n",
    "Examples of alternative hypotheses:\n",
    "\n",
    "The average test scores of students who received tutoring are higher than those who did not receive tutoring.\n",
    "\n",
    "The proportion of defective products produced by Machine A is different from the proportion of defective products produced by Machine B."
   ]
  },
  {
   "cell_type": "markdown",
   "id": "66c56f90-2e98-4dc8-b1c8-f432f6a380c1",
   "metadata": {},
   "source": [
    "## Q7: Write down the steps involved in hypothesis testing."
   ]
  },
  {
   "cell_type": "markdown",
   "id": "3636124a-2524-4e90-b971-f5baa3e5818a",
   "metadata": {},
   "source": [
    "Ans= Hypothesis testing involves several steps to make a statistical inference and draw conclusions about a population based on sample data. Here are the general steps involved in hypothesis testing:\n",
    "\n",
    "1) Formulate the Null Hypothesis (H0) and Alternative Hypothesis (Ha): Clearly define the null hypothesis, which represents the default assumption of no effect or no difference in the population. Also, specify the alternative hypothesis, which represents the claim or hypothesis that contradicts the null hypothesis.\n",
    "\n",
    "2) Set the Significance Level (α): Determine the desired significance level, denoted as α (alpha). It represents the maximum acceptable probability of making a Type I error (rejecting the null hypothesis when it is true). Commonly used significance levels are 0.05 (5%) or 0.01 (1%).\n",
    "\n",
    "3) Collect and Analyze Sample Data: Gather a representative sample from the population of interest and perform the necessary data collection and preparation. Calculate relevant statistics (e.g., sample mean, sample proportion) and assess the characteristics of the sample.\n",
    "\n",
    "4) Choose a Statistical Test: Select an appropriate statistical test based on the nature of the data and the hypothesis being tested. Common tests include t-tests, chi-square tests, ANOVA, regression analysis, etc. \n",
    "\n",
    "5) Calculate the Test Statistic: Compute the test statistic, which is a measure that quantifies the difference or relationship between the sample data and the null hypothesis. The test statistic depends on the chosen statistical test and the specific hypothesis being tested.\n",
    "\n",
    "6) Determine the Critical Region and p-value: Identify the critical region, which is the range of values that would lead to rejection of the null hypothesis. Alternatively, calculate the p-value, which is the probability of obtaining a test statistic as extreme as, or more extreme than, the observed value, assuming the null hypothesis is true.\n",
    "\n",
    "7) Make a Decision: Compare the test statistic (or p-value) to the critical region (or significance level α). If the test statistic falls within the critical region or the p-value is less than α, reject the null hypothesis. If the test statistic does not fall within the critical region or the p-value is greater than or equal to α, fail to reject the null hypothesis."
   ]
  },
  {
   "cell_type": "markdown",
   "id": "283c71bd-f9d7-4163-a22d-efdfce819c9e",
   "metadata": {},
   "source": [
    "## Q8. Define p-value and explain its significance in hypothesis testing."
   ]
  },
  {
   "cell_type": "markdown",
   "id": "ceab4ee6-8c4d-4af4-aabe-851105268f69",
   "metadata": {},
   "source": [
    "Ans= In hypothesis testing, the p-value is a probability value that measures the strength of evidence against the null hypothesis. It represents the probability of observing a test statistic as extreme as, or more extreme than, the one computed from the sample data, assuming that the null hypothesis is true.\n",
    "\n",
    "Here's a breakdown of the significance of the p-value in hypothesis testing:\n",
    "\n",
    "1) Assessing Statistical Significance: The p-value provides a quantitative measure of the statistical significance of the observed data. If the p-value is very small (typically below the chosen significance level α), it suggests strong evidence against the null hypothesis and indicates that the observed effect or difference is unlikely to have occurred by chance alone.\n",
    "\n",
    "2) Decision Rule: The p-value helps in making a decision about the null hypothesis. If the p-value is less than or equal to the significance level α, we reject the null hypothesis in favor of the alternative hypothesis. Conversely, if the p-value is greater than α, we fail to reject the null hypothesis.\n",
    "\n",
    "3) Precision of the Evidence: The p-value provides information about the strength of the evidence against the null hypothesis. A very small p-value indicates a precise and convincing evidence against the null hypothesis, suggesting that the observed effect or difference is likely not due to chance.\n"
   ]
  },
  {
   "cell_type": "markdown",
   "id": "3ee8987d-ea9c-4d05-8015-0d308857339b",
   "metadata": {},
   "source": [
    "## Q9. Generate a Student's t-distribution plot using Python's matplotlib library, with the degrees of freedom parameter set to 10."
   ]
  },
  {
   "cell_type": "code",
   "execution_count": null,
   "id": "9c100554-1089-409b-86db-2e3855c4e443",
   "metadata": {},
   "outputs": [],
   "source": [
    "import numpy as np\n",
    "import matplotlib.pyplot as plt\n",
    "from scipy.stats import t\n",
    "\n",
    "# Generate x values for the range of the t-distribution\n",
    "x = np.linspace(-4, 4, 500)\n",
    "\n",
    "# Calculate the probability density function (PDF) for the t-distribution with 10 degrees of freedom\n",
    "pdf = t.pdf(x, df=10)\n",
    "\n",
    "# Create the plot\n",
    "plt.plot(x, pdf, label='t-distribution (df=10)')\n",
    "plt.xlabel('x')\n",
    "plt.ylabel('Probability Density')\n",
    "plt.title(\"Student's t-distribution\")\n",
    "plt.legend()\n",
    "plt.grid(True)\n",
    "\n",
    "# Show the plot\n",
    "plt.show()\n"
   ]
  },
  {
   "cell_type": "markdown",
   "id": "dbc8780d-6244-4268-83f0-028274d9f84a",
   "metadata": {},
   "source": [
    "## Q10. Write a Python program to calculate the two-sample t-test for independent samples, given two random samples of equal size and a null hypothesis that the population means are equal."
   ]
  },
  {
   "cell_type": "code",
   "execution_count": null,
   "id": "d801bb5a-27dd-4ea0-9692-3cddc432b65d",
   "metadata": {},
   "outputs": [],
   "source": [
    "import numpy as np\n",
    "from scipy import stats\n",
    "\n",
    "sample1 = np.array([1, 2, 3, 4, 5])\n",
    "sample2 = np.array([6, 7, 8, 9, 10])\n",
    "\n",
    "t_stat, p_value = stats.ttest_ind(sample1, sample2)\n",
    "\n",
    "print(\"T-statistic:\", t_stat)\n",
    "print(\"P-value:\", p_value)\n"
   ]
  },
  {
   "cell_type": "markdown",
   "id": "7cf7f84d-d0b6-4f43-8076-0226ff001a76",
   "metadata": {},
   "source": [
    "## Q11: What is Student’s t distribution? When to use the t-Distribution."
   ]
  },
  {
   "cell_type": "markdown",
   "id": "2460c96d-7fe8-443c-bd03-d6d132677bae",
   "metadata": {},
   "source": [
    "Ans= The Student's t-distribution, also known as the t-distribution, is a probability distribution that is used in statistical inference for situations where the sample size is small or the population standard deviation is unknown.\n",
    "\n",
    "The t-distribution is used in various statistical procedures, including:\n",
    "\n",
    "Confidence Intervals: When the population standard deviation is unknown and the sample size is small, the t-distribution is used to construct confidence intervals for population parameters (e.g., mean, difference of means).\n",
    "\n",
    "Hypothesis Testing: When comparing means or proportions between two independent samples with small sample sizes, the t-distribution is used in hypothesis testing. It allows for testing the null hypothesis and determining whether the observed difference is statistically significant.\n",
    "\n",
    "One-Sample t-test: When testing the mean of a single sample against a known or hypothesized value, the t-distribution is used to assess the statistical significance.\n",
    "\n",
    "The t-distribution is particularly useful when the sample size is small (typically less than 30) and the population standard deviation is unknown"
   ]
  },
  {
   "cell_type": "markdown",
   "id": "695aa258-a271-4b33-bbb5-5ee367bdd651",
   "metadata": {},
   "source": [
    "## Q12: What is t-statistic? State the formula for t-statistic."
   ]
  },
  {
   "cell_type": "markdown",
   "id": "4e7515dc-12ff-4fb1-8a98-748c5442d334",
   "metadata": {},
   "source": [
    "Ans= The t-statistic is a measure that quantifies the difference between the sample mean and the hypothesized population mean, relative to the variability within the sample. It is commonly used in hypothesis testing and confidence interval estimation when the population standard deviation is unknown and must be estimated from the sample.\n",
    "\n",
    "The formula for the t-statistic depends on the specific scenario being analyzed. Here are the formulas for two common cases:\n",
    "\n",
    "One-Sample t-Test:\n",
    "The t-statistic for a one-sample t-test compares the sample mean (x̄) to the hypothesized population mean (μ0). It is calculated as:\n",
    "\n",
    "t = (x̄ - μ0) / (s / √n)\n",
    "\n",
    "where:\n",
    "\n",
    "x̄ is the sample mean,\n",
    "\n",
    "μ0 is the hypothesized population mean,\n",
    "\n",
    "s is the sample standard deviation,\n",
    "\n",
    "n is the sample size."
   ]
  },
  {
   "cell_type": "markdown",
   "id": "8f21ff92-264b-4b2a-8b41-601fbd0e6f96",
   "metadata": {},
   "source": [
    "## Q13. A coffee shop owner wants to estimate the average daily revenue for their shop. They take a random sample of 50 days and find the sample mean revenue to be $500 with a standard deviation of $50. Estimate the population mean revenue with a 95% confidence interval."
   ]
  },
  {
   "cell_type": "markdown",
   "id": "223a9354-5843-43c0-8975-c267e209bec6",
   "metadata": {},
   "source": [
    "Ans= Determine the critical value:\n",
    "\n",
    "Since we want a 95% confidence interval, we need to find the critical value associated with a 95% confidence level and the given sample size (50). The degrees of freedom for a sample size of 50 are 50 - 1 = 49. We can find the critical value using the t-distribution or refer to a t-table. For a 95% confidence level and 49 degrees of freedom, the critical value is approximately 2.01.\n",
    "\n",
    "Calculate the margin of error:\n",
    "\n",
    "The margin of error is the product of the critical value and the standard error. The standard error is calculated by dividing the sample standard deviation by the square root of the sample size.\n",
    "\n",
    "Margin of Error = Critical Value * (Standard Deviation / √(Sample Size))\n",
    "Margin of Error = 2.01 * (50 / √(50))\n",
    "\n",
    "Calculate the confidence interval:\n",
    "\n",
    "The confidence interval is obtained by subtracting and adding the margin of error to the sample mean.\n",
    "\n",
    "Lower Bound = Sample Mean - Margin of Error\n",
    "Upper Bound = Sample Mean + Margin of Error\n",
    "\n",
    "Lower Bound = 500 - Margin of Error\n",
    "Upper Bound = 500 + Margin of Error\n",
    "\n",
    "Substituting the values into the equations:\n",
    "\n",
    "Margin of Error = 2.01 * (50 / √50) ≈ 14.18\n",
    "\n",
    "Lower Bound = 500 - 14.18 ≈ 485.82\n",
    "Upper Bound = 500 + 14.18 ≈ 514.18\n",
    "\n",
    "Therefore, the 95% confidence interval for the average daily revenue is approximately $485.82 to $514.18. We can be 95% confident that the true population mean revenue falls within this interval based on the given sample."
   ]
  },
  {
   "cell_type": "markdown",
   "id": "5a8ff5bc-c9e0-4b0c-a117-2c98efc66b75",
   "metadata": {},
   "source": [
    "## Q14. A researcher hypothesizes that a new drug will decrease blood pressure by 10 mmHg. They conduct a clinical trial with 100 patients and find that the sample mean decrease in blood pressure is 8 mmHg with a standard deviation of 3 mmHg. Test the hypothesis with a significance level of 0.05."
   ]
  },
  {
   "cell_type": "markdown",
   "id": "1473e459-f1b6-4355-a743-1264a2199f1e",
   "metadata": {},
   "source": [
    "Ans= Formulate the hypotheses:\n",
    "\n",
    "H0: The mean decrease in blood pressure is equal to 10 mmHg.\n",
    "\n",
    "Ha: The mean decrease in blood pressure is different from 10 mmHg.\n",
    "\n",
    "Set the significance level:\n",
    "\n",
    "The significance level (α) is given as 0.05. This represents the probability of making a Type I error, which is rejecting the null hypothesis when it is true.\n",
    "\n",
    "Calculate the test statistic:\n",
    "\n",
    "The test statistic for a one-sample t-test is calculated as the difference between the sample mean and the hypothesized mean, divided by the standard error of the mean.\n",
    "\n",
    "t = (Sample Mean - Hypothesized Mean) / (Standard Deviation / √Sample Size)\n",
    "t = (8 - 10) / (3 / √100)\n",
    "\n",
    "t = -2 / 0.3\n",
    "\n",
    "t ≈ -6.67\n",
    "\n",
    "Determine the critical value:\n",
    "\n",
    "Since the alternative hypothesis is two-sided, we need to find the critical values for a two-tailed test at the specified significance level (α = 0.05) and degrees of freedom (n - 1 = 100 - 1 = 99). Using a t-table or statistical software, the critical values are approximately ±1.984.\n",
    "\n",
    "Make a decision:\n",
    "\n",
    "Compare the test statistic to the critical values. If the test statistic falls outside the critical region, we reject the null hypothesis. Otherwise, we fail to reject the null hypothesis.\n",
    "\n",
    "In this case, the test statistic (t ≈ -6.67) falls far beyond the critical region (-1.984 to 1.984). Thus, we can reject the null hypothesis.\n",
    "\n",
    "Draw a conclusion:\n",
    "\n",
    "Based on the results, there is evidence to suggest that the new drug has a statistically significant effect on decreasing blood pressure, as the mean decrease in blood pressure is significantly different from 10 mmHg at the 0.05 significance level."
   ]
  },
  {
   "cell_type": "markdown",
   "id": "2dc69176-f9a5-4de9-8977-28f373b9a3e7",
   "metadata": {},
   "source": [
    "## Q15. An electronics company produces a certain type of product with a mean weight of 5 pounds and a standard deviation of 0.5 pounds. A random sample of 25 products is taken, and the sample mean weight is found to be 4.8 pounds. Test the hypothesis that the true mean weight of the products is less than 5 pounds with a significance level of 0.01."
   ]
  },
  {
   "cell_type": "markdown",
   "id": "94466068-d471-4139-afaa-3160ceec19b9",
   "metadata": {},
   "source": [
    "Ans= Formulate the hypotheses:\n",
    "\n",
    "H0: The true mean weight of the products is equal to 5 pounds.\n",
    "\n",
    "Ha: The true mean weight of the products is less than 5 pounds.\n",
    "\n",
    "Set the significance level:\n",
    "\n",
    "The significance level (α) is given as 0.01. This represents the probability of making a Type I error, which is rejecting the null hypothesis when it is true.\n",
    "\n",
    "Calculate the test statistic:\n",
    "\n",
    "The test statistic for a one-sample t-test is calculated as the difference between the sample mean and the hypothesized mean, divided by the standard error of the mean.\n",
    "\n",
    "t = (Sample Mean - Hypothesized Mean) / (Standard Deviation / √Sample Size)\n",
    "\n",
    "t = (4.8 - 5) / (0.5 / √25)\n",
    "\n",
    "t = -0.2 / 0.1\n",
    "\n",
    "t = -2\n",
    "\n",
    "Determine the critical value:\n",
    "\n",
    "Since the alternative hypothesis is one-sided (less than), we need to find the critical value for a one-tailed test at the specified significance level (α = 0.01) and degrees of freedom (n - 1 = 25 - 1 = 24). Using a t-table or statistical software, the critical value is approximately -2.492.\n",
    "\n",
    "Make a decision:\n",
    "\n",
    "Compare the test statistic to the critical value. If the test statistic falls in the critical region (to the left of the critical value), we reject the null hypothesis. Otherwise, we fail to reject the null hypothesis.\n",
    "\n",
    "In this case, the test statistic (t = -2) falls in the critical region (-∞ to -2.492). Thus, we can reject the null hypothesis.\n",
    "\n",
    "Draw a conclusion:\n",
    "\n",
    "Based on the results, there is evidence to suggest that the true mean weight of the products is less than 5 pounds at the 0.01 significance level. The sample provides statistically significant evidence supporting the alternative hypothesis that the mean weight is less than 5 pounds."
   ]
  },
  {
   "cell_type": "markdown",
   "id": "33b5a6f2-aadc-4138-83c9-749f47740aa5",
   "metadata": {},
   "source": [
    "## Q16. Two groups of students are given different study materials to prepare for a test. The first group (n1 = 30) has a mean score of 80 with a standard deviation of 10, and the second group (n2 = 40) has a mean score of 75 with a standard deviation of 8. Test the hypothesis that the population means for the two groups are equal with a significance level of 0.01."
   ]
  },
  {
   "cell_type": "markdown",
   "id": "06362a41-8e70-4d6a-a184-57b7c5dacbc6",
   "metadata": {},
   "source": [
    "Ans= Formulate the hypotheses:\n",
    "\n",
    "H0: The population means of the two groups are equal.\n",
    "\n",
    "Ha: The population means of the two groups are different.\n",
    "\n",
    "Set the significance level:\n",
    "\n",
    "The significance level (α) is given as 0.01. This represents the probability of making a Type I error, which is rejecting the null hypothesis when it is true.\n",
    "\n",
    "Calculate the test statistic:\n",
    "\n",
    "The test statistic for a two-sample t-test is calculated as the difference between the sample means, divided by the pooled standard error.\n",
    "\n",
    "t = (Mean1 - Mean2) / √((S1^2 / n1) + (S2^2 / n2))\n",
    "\n",
    "where:\n",
    "\n",
    "Mean1 and Mean2 are the sample means of the two groups,\n",
    "S1 and S2 are the sample standard deviations of the two groups,\n",
    "n1 and n2 are the sample sizes of the two groups.\n",
    "\n",
    "t = (80 - 75) / √((10^2 / 30) + (8^2 / 40))\n",
    "\n",
    "t = 5 / √((100 / 30) + (64 / 40))\n",
    "\n",
    "t = 5 / √(3.33 + 1.6)\n",
    "\n",
    "t = 5 / √4.93\n",
    "\n",
    "t ≈ 5 / 2.22\n",
    "\n",
    "t ≈ 2.25\n",
    "\n",
    "Determine the critical value:\n",
    "\n",
    "Since the alternative hypothesis is two-sided, we need to find the critical values for a two-tailed test at the specified significance level (α = 0.01) and degrees of freedom. The degrees of freedom can be approximated as (n1 + n2 - 2) = (30 + 40 - 2) = 68. Using a t-table or statistical software, the critical values are approximately ±2.616.\n",
    "\n",
    "Make a decision:\n",
    "\n",
    "Compare the test statistic to the critical values. If the test statistic falls outside the critical region, we reject the null hypothesis. Otherwise, we fail to reject the null hypothesis.\n",
    "\n",
    "In this case, the test statistic (t ≈ 2.25) does not fall outside the critical region (-2.616 to 2.616). Thus, we fail to reject the null hypothesis.\n",
    "\n",
    "Draw a conclusion:\n",
    "\n",
    "Based on the results, there is not enough evidence to suggest that the population means of the two groups are different at the 0.01 significance level. The sample does not provide statistically significant evidence to reject the null hypothesis."
   ]
  },
  {
   "cell_type": "markdown",
   "id": "3f283533-7c98-4b77-94bb-71873c9d00a6",
   "metadata": {},
   "source": [
    "## Q17. A marketing company wants to estimate the average number of ads watched by viewers during a TV program. They take a random sample of 50 viewers and find that the sample mean is 4 with a standard deviation of 1.5. Estimate the population mean with a 99% confidence interval."
   ]
  },
  {
   "cell_type": "markdown",
   "id": "7045094d-0db4-4d12-9ca0-121bfd272d7d",
   "metadata": {},
   "source": [
    "Ans= Determine the critical value:\n",
    "\n",
    "Since we want a 99% confidence interval, we need to find the critical value associated with a 99% confidence level and the given sample size (50). The degrees of freedom for a sample size of 50 are 50 - 1 = 49. We can find the critical value using the t-distribution or refer to a t-table. For a 99% confidence level and 49 degrees of freedom, the critical value is approximately 2.678.\n",
    "\n",
    "Calculate the margin of error:\n",
    "\n",
    "The margin of error is the product of the critical value and the standard error. The standard error is calculated by dividing the sample standard deviation by the square root of the sample size.\n",
    "\n",
    "Margin of Error = Critical Value * (Standard Deviation / √(Sample Size))\n",
    "\n",
    "Margin of Error = 2.678 * (1.5 / √(50))\n",
    "\n",
    "Calculate the confidence interval:\n",
    "\n",
    "The confidence interval is obtained by subtracting and adding the margin of error to the sample mean.\n",
    "\n",
    "Lower Bound = Sample Mean - Margin of Error\n",
    "\n",
    "Upper Bound = Sample Mean + Margin of Error\n",
    "\n",
    "Lower Bound = 4 - Margin of Error\n",
    "\n",
    "Upper Bound = 4 + Margin of Error\n",
    "\n",
    "Substituting the values into the equations:\n",
    "\n",
    "Margin of Error = 2.678 * (1.5 / √50) ≈ 0.630\n",
    "\n",
    "Lower Bound = 4 - 0.630 ≈ 3.370\n",
    "\n",
    "Upper Bound = 4 + 0.630 ≈ 4.630\n",
    "\n",
    "Therefore, the 99% confidence interval for the average number of ads watched by viewers during a TV program is approximately 3.370 to 4.630. We can be 99% confident that the true population mean falls within this interval based on the given sample."
   ]
  },
  {
   "cell_type": "code",
   "execution_count": null,
   "id": "edd86acc-e42b-450f-b56a-480ae1880988",
   "metadata": {},
   "outputs": [],
   "source": []
  }
 ],
 "metadata": {
  "kernelspec": {
   "display_name": "Python 3 (ipykernel)",
   "language": "python",
   "name": "python3"
  },
  "language_info": {
   "codemirror_mode": {
    "name": "ipython",
    "version": 3
   },
   "file_extension": ".py",
   "mimetype": "text/x-python",
   "name": "python",
   "nbconvert_exporter": "python",
   "pygments_lexer": "ipython3",
   "version": "3.10.8"
  }
 },
 "nbformat": 4,
 "nbformat_minor": 5
}
