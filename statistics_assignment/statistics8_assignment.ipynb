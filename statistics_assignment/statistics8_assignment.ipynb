{
 "cells": [
  {
   "cell_type": "markdown",
   "id": "ff762bf2-00fc-4876-8120-6151c34a3b59",
   "metadata": {},
   "source": [
    "## Q1. What is the Probability density function?"
   ]
  },
  {
   "cell_type": "markdown",
   "id": "9b0ee21b-9404-4062-81fc-fe712ddbc1f4",
   "metadata": {},
   "source": [
    "Ans= The Probability Density Function (PDF) is a fundamental concept in probability theory and statistics. It describes the probability distribution of a continuous random variable. The PDF represents the likelihood of a specific value or range of values occurring within a continuous distribution.\n",
    "\n",
    "The PDF allows us to determine the probability of a random variable falling within a certain interval. It does this by calculating the area under the PDF curve over that interval. The higher the value of the PDF at a particular point, the more likely that value is to occur."
   ]
  },
  {
   "cell_type": "markdown",
   "id": "e73f3fc8-4162-4a68-9e65-e2e67f39ce17",
   "metadata": {},
   "source": [
    "## Q2. What are the types of Probability distribution?"
   ]
  },
  {
   "cell_type": "markdown",
   "id": "78137259-9672-4420-98e6-2741dddc8145",
   "metadata": {},
   "source": [
    "Ans= There are several types of probability distributions, Here are some of the most commonly encountered probability distributions:\n",
    "\n",
    "1) Uniform Distribution: In a uniform distribution, all outcomes within a given range have equal probability. The PDF is a constant function over that range. Examples include rolling a fair die or selecting a random number between two values.\n",
    "\n",
    "2) Normal Distribution (Gaussian Distribution): The normal distribution is a bell-shaped symmetrical distribution. It is characterized by its mean (μ) and standard deviation (σ). Many natural phenomena, such as heights or IQ scores, approximate a normal distribution.\n",
    "\n",
    "3) Exponential Distribution: The exponential distribution is often used to model the time between events in a Poisson process, where events occur randomly and independently over time. It is characterized by a single parameter, λ, which represents the rate at which events occur. The PDF of the exponential distribution is given by λ * e^(-λx) for x ≥ 0.\n",
    "\n",
    "4) Poisson Distribution: The Poisson distribution is used to model the number of events that occur within a fixed interval of time or space, given the average rate of occurrence. It is often employed in scenarios such as rare events or counting processes. \n",
    "\n",
    "5) Binomial Distribution: The binomial distribution describes the probability of obtaining a certain number of successes in a fixed number of independent Bernoulli trials. Each trial has two possible outcomes (success or failure) with a constant probability of success (p). "
   ]
  },
  {
   "cell_type": "markdown",
   "id": "91090a33-b5e7-4703-9439-a519690f7d11",
   "metadata": {},
   "source": [
    "## Q3. Write a Python function to calculate the probability density function of a normal distribution with given mean and standard deviation at a given point."
   ]
  },
  {
   "cell_type": "code",
   "execution_count": 1,
   "id": "ed87874c-a3ec-4dc6-b370-3a8fcefea84e",
   "metadata": {},
   "outputs": [
    {
     "name": "stdout",
     "output_type": "stream",
     "text": [
      "The PDF value at x = 1.5 is 0.1295\n"
     ]
    }
   ],
   "source": [
    "import numpy as np\n",
    "from scipy.stats import norm\n",
    "\n",
    "def normal_pdf(x, mean, std_dev):\n",
    "    return norm.pdf(x, loc=mean, scale=std_dev)\n",
    "\n",
    "mean = 0\n",
    "std_dev = 1\n",
    "x = 1.5\n",
    "\n",
    "pdf_value = normal_pdf(x, mean, std_dev)\n",
    "print(f\"The PDF value at x = {x} is {pdf_value:.4f}\")\n"
   ]
  },
  {
   "cell_type": "markdown",
   "id": "5555ae2e-4161-498f-afab-d9832b5612c2",
   "metadata": {},
   "source": [
    "## Q4. What are the properties of Binomial distribution? Give two examples of events where binomial distribution can be applied."
   ]
  },
  {
   "cell_type": "markdown",
   "id": "e9b18cc8-0a66-43bc-bd5d-88ca0dfaa3a9",
   "metadata": {},
   "source": [
    "Ans= The Binomial distribution has several key properties:\n",
    "\n",
    "1) Fixed Number of Trials: The Binomial distribution models a fixed number of independent trials, denoted by 'n'.\n",
    "\n",
    "2) Two Possible Outcomes: Each trial in the Binomial distribution has two possible outcomes, often referred to as success (S) or failure (F).\n",
    "\n",
    "3) Independent Trials: The trials in a Binomial distribution are assumed to be independent, meaning that the outcome of one trial does not affect the outcome of another.\n",
    "\n",
    "4) Discrete Distribution: The Binomial distribution is a discrete probability distribution, meaning it assigns probabilities to a finite set of possible outcomes (0, 1, 2, ..., n).\n",
    "\n",
    "Examples:\n",
    "\n",
    "Coin Flips: Consider flipping a fair coin multiple times and counting the number of heads. Each flip can be considered a trial, with success defined as getting a head. The number of heads obtained after a fixed number of flips follows a Binomial distribution.\n",
    "\n",
    "Manufacturing Defects: Suppose a manufacturing process produces items with a known probability of being defective. Each item produced can be considered a trial, with success defined as an item being defective. The number of defective items out of a fixed number of produced items follows a Binomial distribution."
   ]
  },
  {
   "cell_type": "markdown",
   "id": "c69cc87f-bcdd-478e-8281-44b310a646c8",
   "metadata": {},
   "source": [
    "## Q5. Generate a random sample of size 1000 from a binomial distribution with probability of success 0.4 and plot a histogram of the results using matplotlib."
   ]
  },
  {
   "cell_type": "code",
   "execution_count": 4,
   "id": "cbc47790-8182-4fe7-878d-befbd5766c11",
   "metadata": {},
   "outputs": [
    {
     "data": {
      "image/png": "[encoded data removed]",
      "text/plain": [
       "<Figure size 640x480 with 1 Axes>"
      ]
     },
     "metadata": {},
     "output_type": "display_data"
    }
   ],
   "source": [
    "import numpy as np\n",
    "import matplotlib.pyplot as plt\n",
    "\n",
    "# Generate random sample\n",
    "sample_size = 1000\n",
    "probability_of_success = 0.4\n",
    "random_sample = np.random.binomial(1, probability_of_success, sample_size)\n",
    "\n",
    "# Plot histogram\n",
    "plt.hist(random_sample, bins=[0, 1, 2], align='left', rwidth=0.5, alpha=0.75)\n",
    "plt.xlabel('Success or Failure')\n",
    "plt.ylabel('Frequency')\n",
    "plt.title('Histogram of Binomial Distribution')\n",
    "plt.show()\n"
   ]
  },
  {
   "cell_type": "markdown",
   "id": "9ce85518-4401-46f3-9f10-e2d008147a20",
   "metadata": {},
   "source": [
    "## Q6. Write a Python function to calculate the cumulative distribution function of a Poisson distribution with given mean at a given point."
   ]
  },
  {
   "cell_type": "code",
   "execution_count": 5,
   "id": "3e349b3b-c348-433c-b617-85b3117d0646",
   "metadata": {},
   "outputs": [
    {
     "name": "stdout",
     "output_type": "stream",
     "text": [
      "The CDF value at x = 3 is 0.7576\n"
     ]
    }
   ],
   "source": [
    "from scipy.stats import poisson\n",
    "\n",
    "def poisson_cdf(x, mean):\n",
    "    return poisson.cdf(x, mean)\n",
    "\n",
    "mean = 2.5\n",
    "x = 3\n",
    "\n",
    "cdf_value = poisson_cdf(x, mean)\n",
    "print(f\"The CDF value at x = {x} is {cdf_value:.4f}\")\n"
   ]
  },
  {
   "cell_type": "markdown",
   "id": "26eb8ef3-dfd4-4f0d-8247-04d4b0048950",
   "metadata": {},
   "source": [
    "## Q7. How Binomial distribution different from Poisson distribution?"
   ]
  },
  {
   "cell_type": "markdown",
   "id": "106d6991-84d6-4125-bb08-5bd5ae27068a",
   "metadata": {},
   "source": [
    "Ans= 1) Binomial Distribution: The Binomial distribution is used to model a fixed number of independent trials, where each trial has two possible outcomes (success or failure).\n",
    "\n",
    "The Binomial distribution requires a fixed number of trials (denoted by 'n').\n",
    "\n",
    "In the Binomial distribution, the probability of success ('p') remains constant across all trials.\n",
    "\n",
    "The Binomial distribution has a probability mass function (PMF) that calculates the probability of getting a specific number of successes in 'n' trials.\n",
    "\n",
    "2) Poisson Distribution: The Poisson distribution is used to model the number of events that occur in a fixed interval of time or space, given the average rate of occurrence.\n",
    "\n",
    "The Poisson distribution does not involve a fixed number of trials but instead focuses on the average rate of events (denoted by 'λ').\n",
    "\n",
    "In the Poisson distribution, the probability of an event occurring in a small interval is assumed to be proportional to the length of the interval.\n",
    "\n",
    "The Poisson distribution has a PMF that calculates the probability of getting a specific number of events in a fixed interval, given the average rate of occurrence."
   ]
  },
  {
   "cell_type": "markdown",
   "id": "f6c65fb7-3258-4d78-9fe9-c6e72573995c",
   "metadata": {},
   "source": [
    "## Q8. Generate a random sample of size 1000 from a Poisson distribution with mean 5 and calculate the sample mean and variance."
   ]
  },
  {
   "cell_type": "code",
   "execution_count": 8,
   "id": "bdd9d452-41f2-4308-bc5c-06bb4f678065",
   "metadata": {},
   "outputs": [
    {
     "name": "stdout",
     "output_type": "stream",
     "text": [
      "Sample Mean: 5.0380\n",
      "Sample Variance: 5.0286\n"
     ]
    }
   ],
   "source": [
    "import numpy as np\n",
    "\n",
    "# Generate random sample\n",
    "sample_size = 1000\n",
    "mean = 5\n",
    "random_sample = np.random.poisson(mean, sample_size)\n",
    "\n",
    "# Calculate sample mean and variance\n",
    "sample_mean = np.mean(random_sample)\n",
    "sample_variance = np.var(random_sample)\n",
    "\n",
    "print(f\"Sample Mean: {sample_mean:.4f}\")\n",
    "print(f\"Sample Variance: {sample_variance:.4f}\")\n"
   ]
  },
  {
   "cell_type": "markdown",
   "id": "7266e343-2b82-432b-a78e-4ca4cecbad31",
   "metadata": {},
   "source": [
    "## Q9. How mean and variance are related in Binomial distribution and Poisson distribution?"
   ]
  },
  {
   "cell_type": "markdown",
   "id": "636c855b-be6a-4c11-9e79-b32168601ab9",
   "metadata": {},
   "source": [
    "Ans= Binomial Distribution:\n",
    "\n",
    "Mean: In a Binomial distribution, the mean is calculated as the product of the number of trials (n) and the probability of success (p). Mathematically, mean = n * p.\n",
    "\n",
    "Variance: The variance of a Binomial distribution is calculated as the product of the number of trials (n), the probability of success (p), and the probability of failure (q = 1 - p). Mathematically, variance = n * p * q.\n",
    "\n",
    "The variance is equal to n times the product of p and q. Therefore, variance = mean * q.\n",
    "\n",
    "Poisson Distribution:\n",
    "\n",
    "Mean: In a Poisson distribution, the mean (λ) represents the average rate of events occurring in a fixed interval of time or space.\n",
    "\n",
    "Variance: The variance of a Poisson distribution is equal to the mean (λ) itself.\n",
    "\n",
    "The mean and variance of a Poisson distribution are equal, meaning the variance is directly proportional to the mean. Variance = mean = λ."
   ]
  },
  {
   "cell_type": "markdown",
   "id": "e7cf3886-bde4-4edb-a4de-724710725406",
   "metadata": {},
   "source": [
    "## Q10. In normal distribution with respect to mean position, where does the least frequent data appear?"
   ]
  },
  {
   "cell_type": "markdown",
   "id": "e6408ab2-a913-4ee5-9753-dc98fbccad85",
   "metadata": {},
   "source": [
    "Ans= In a normal distribution, the least frequent data points appear in the tails of the distribution, farthest away from the mean. The normal distribution is a symmetric bell-shaped distribution, where the majority of the data is concentrated around the mean.\n",
    "\n",
    "The tails of the normal distribution represent the extreme values, both on the left (lower) and right (higher) sides of the mean. These extreme values occur less frequently compared to the data points closer to the mean. As you move away from the mean towards the tails, the density of data points decreases, resulting in lower frequencies."
   ]
  },
  {
   "cell_type": "code",
   "execution_count": null,
   "id": "f67155df-52d7-4fe5-acd8-b34446c53113",
   "metadata": {},
   "outputs": [],
   "source": []
  }
 ],
 "metadata": {
  "kernelspec": {
   "display_name": "Python 3 (ipykernel)",
   "language": "python",
   "name": "python3"
  },
  "language_info": {
   "codemirror_mode": {
    "name": "ipython",
    "version": 3
   },
   "file_extension": ".py",
   "mimetype": "text/x-python",
   "name": "python",
   "nbconvert_exporter": "python",
   "pygments_lexer": "ipython3",
   "version": "3.10.8"
  }
 },
 "nbformat": 4,
 "nbformat_minor": 5
}
