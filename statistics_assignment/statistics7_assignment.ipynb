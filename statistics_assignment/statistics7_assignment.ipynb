{
 "cells": [
  {
   "cell_type": "markdown",
   "id": "6e32df19-8f5f-4fdc-ab72-82d9dbbb991d",
   "metadata": {},
   "source": [
    "## Q1. What are the three measures of central tendency?"
   ]
  },
  {
   "cell_type": "markdown",
   "id": "6aeab108-bb56-4b87-ba60-54bbe39e3ebb",
   "metadata": {},
   "source": [
    "Ans= The three measures of central tendency commonly used in statistics are:\n",
    "\n",
    "Mean: The mean, or arithmetic mean, is the most commonly used measure of central tendency. It is calculated by summing up all the values in a dataset and dividing the sum by the total number of values. The mean is sensitive to extreme values and can be affected by outliers.\n",
    "\n",
    "Median: The median is the middle value of a dataset when the values are arranged in ascending or descending order. If the dataset has an odd number of values, the median is the middle value. If the dataset has an even number of values, the median is the average of the two middle values. The median is less sensitive to extreme values and is a robust measure of central tendency.\n",
    "\n",
    "Mode: The mode is the value that appears most frequently in a dataset. Unlike the mean and median, the mode can be used for both numerical and categorical data. A dataset can have one mode (unimodal), two modes (bimodal), or more than two modes (multimodal). In some cases, a dataset may not have a mode if all values occur with equal frequency."
   ]
  },
  {
   "cell_type": "markdown",
   "id": "e67a3c66-f2b9-4212-aeb4-9d856df08cc7",
   "metadata": {},
   "source": [
    "## Q2. What is the difference between the mean, median, and mode? How are they used to measure the central tendency of a dataset?"
   ]
  },
  {
   "cell_type": "markdown",
   "id": "46b595e0-737f-4555-98a0-430411f8cfdb",
   "metadata": {},
   "source": [
    "Ans= The mean, median, and mode are measures of central tendency used to summarize and describe the typical or central value of a dataset.\n",
    "\n",
    "Mean: The mean is calculated by summing up all the values in a dataset and dividing the sum by the total number of values. It represents the average value of the data. The mean is influenced by every value in the dataset and is sensitive to extreme values or outliers. It is commonly used when the data is numeric and normally distributed.\n",
    "\n",
    "Median: The median is the middle value of a dataset when the values are arranged in ascending or descending order. If the dataset has an odd number of values, the median is the middle value. If the dataset has an even number of values, the median is the average of the two middle values. The median is not affected by extreme values and is a robust measure of central tendency. It is often used when the data contains outliers or is skewed.\n",
    "\n",
    "Mode: The mode is the value that appears most frequently in a dataset. Unlike the mean and median, the mode can be used for both numerical and categorical data. A dataset can have one mode (unimodal), two modes (bimodal), or more than two modes (multimodal). The mode provides insight into the most common value or category in the dataset. It is useful when dealing with categorical or nominal data.\n",
    "\n",
    "The mean represents the average value and is affected by extreme values, the median represents the middle value and is robust to outliers, and the mode represents the most frequent value or category. These measures of central tendency are used to understand the typical value or central tendency of a dataset and can provide valuable insights depending on the characteristics of the data."
   ]
  },
  {
   "cell_type": "markdown",
   "id": "276fecc6-536c-4d60-81fa-d591191eb87b",
   "metadata": {},
   "source": [
    "## Q3. Measure the three measures of central tendency for the given height data:\n",
    "[178,177,176,177,178.2,178,175,179,180,175,178.9,176.2,177,172.5,178,176.5]"
   ]
  },
  {
   "cell_type": "markdown",
   "id": "06f0b499-c1d4-4c39-b32c-4ffb935ffcd5",
   "metadata": {},
   "source": [
    "Ans= 1)Mean: To calculate the mean, we sum up all the values and divide by the total number of values:\n",
    "\n",
    "Mean = (178 + 177 + 176 + 177 + 178.2 + 178 + 175 + 179 + 180 + 175 + 178.9 + 176.2 + 177 + 172.5 + 178 + 176.5) / 16\n",
    "\n",
    "Mean = 2826.3 / 16\n",
    "\n",
    "Mean ≈ 176.64\n",
    "\n",
    "2) Median: To find the median, we need to arrange the values in ascending order first:\n",
    "\n",
    "[172.5, 175, 175, 176, 176.2, 176.5, 177, 177, 178, 178, 178, 178.2, 178.9, 179, 180]\n",
    "\n",
    "As the dataset has an even number of values, the median will be the average of the two middle values:\n",
    "\n",
    "Median = (177 + 178) / 2\n",
    "\n",
    "Median = 355 / 2\n",
    "\n",
    "Median = 177.5\n",
    "\n",
    "3) Mode: The mode is the value(s) that appear most frequently in the dataset:\n",
    "\n",
    "Mode = 178"
   ]
  },
  {
   "cell_type": "code",
   "execution_count": 6,
   "id": "d6bb73b0-9752-4291-b52c-d6374226a112",
   "metadata": {},
   "outputs": [
    {
     "data": {
      "text/plain": [
       "177.01875"
      ]
     },
     "execution_count": 6,
     "metadata": {},
     "output_type": "execute_result"
    }
   ],
   "source": [
    "x=[178,177,176,177,178.2,178,175,179,180,175,178.9,176.2,177,172.5,178,176.5]\n",
    "np.mean(x)\n",
    "np.median(x)"
   ]
  },
  {
   "cell_type": "code",
   "execution_count": 8,
   "id": "90498372-39ff-47ce-9ca8-5bba8853de7b",
   "metadata": {},
   "outputs": [
    {
     "name": "stderr",
     "output_type": "stream",
     "text": [
      "/tmp/ipykernel_294/3269743869.py:2: FutureWarning: Unlike other reduction functions (e.g. `skew`, `kurtosis`), the default behavior of `mode` typically preserves the axis it acts along. In SciPy 1.11.0, this behavior will change: the default value of `keepdims` will become False, the `axis` over which the statistic is taken will be eliminated, and the value None will no longer be accepted. Set `keepdims` to True or False to avoid this warning.\n",
      "  stats.mode(x)\n"
     ]
    },
    {
     "data": {
      "text/plain": [
       "ModeResult(mode=array([177.]), count=array([3]))"
      ]
     },
     "execution_count": 8,
     "metadata": {},
     "output_type": "execute_result"
    }
   ],
   "source": [
    "from scipy import stats\n",
    "stats.mode(x)"
   ]
  },
  {
   "cell_type": "markdown",
   "id": "bed652c4-757b-4c86-bb20-e0e5b449386d",
   "metadata": {},
   "source": [
    "## Q4. Find the standard deviation for the given data:\n",
    "[178,177,176,177,178.2,178,175,179,180,175,178.9,176.2,177,172.5,178,176.5]"
   ]
  },
  {
   "cell_type": "markdown",
   "id": "5dd3c4cc-06d3-4b02-a3be-ca1c9ecce2f8",
   "metadata": {},
   "source": [
    "Ans= Step 1: Calculate the mean (average) of the data:\n",
    "\n",
    "Mean = (178 + 177 + 176 + 177 + 178.2 + 178 + 175 + 179 + 180 + 175 + 178.9 + 176.2 + 177 + 172.5 + 178 + 176.5) / 16\n",
    "\n",
    "Mean ≈ 176.64\n",
    "\n",
    "Step 2: Calculate the deviation of each data point from the mean:\n",
    "\n",
    "Deviation = (178 - 176.64), (177 - 176.64), (176 - 176.64), (177 - 176.64), (178.2 - 176.64), (178 - 176.64), (175 - 176.64), (179 - 176.64), (180 - 176.64), (175 - 176.64), (178.9 - 176.64), (176.2 - 176.64), (177 - 176.64), (172.5 - 176.64), (178 - 176.64), (176.5 - 176.64)\n",
    "\n",
    "Deviation ≈ [1.36, 0.36, -0.64, 0.36, 1.56, 1.36, -1.64, 2.36, 3.36, -1.64, 2.26, -0.44, 0.36, -4.14, 1.36, -0.14]\n",
    "\n",
    "Step 3: Calculate the squared deviation of each data point:\n",
    "\n",
    "Squared Deviation ≈ [1.8496, 0.1296, 0.4096, 0.1296, 2.4336, 1.8496, 2.6896, 5.5696, 11.2896, 2.6896, 5.1076, 0.1936, 0.1296, 17.1396, 1.8496, 0.0196]\n",
    "\n",
    "Step 4: Calculate the average squared deviation:\n",
    "\n",
    "Average Squared Deviation = Sum of Squared Deviation / Number of Data Points\n",
    "\n",
    "Average Squared Deviation ≈ (1.8496 + 0.1296 + 0.4096 + 0.1296 + 2.4336 + 1.8496 + 2.6896 + 5.5696 + 11.2896 + 2.6896 + 5.1076 + 0.1936 + 0.1296 + 17.1396 + 1.8496 + 0.0196) / 16\n",
    "\n",
    "Average Squared Deviation ≈ 3.0861\n",
    "\n",
    "Step 5: Take the square root of the average squared deviation to find the standard deviation:\n",
    "\n",
    "Standard Deviation ≈ √(3.0861)\n",
    "\n",
    "Standard Deviation ≈ 1.7552"
   ]
  },
  {
   "cell_type": "code",
   "execution_count": 3,
   "id": "f2f980ad-04a1-467b-b7d5-f0b420b2c853",
   "metadata": {},
   "outputs": [
    {
     "data": {
      "text/plain": [
       "1.7885814036548633"
      ]
     },
     "execution_count": 3,
     "metadata": {},
     "output_type": "execute_result"
    }
   ],
   "source": [
    "x=[178,177,176,177,178.2,178,175,179,180,175,178.9,176.2,177,172.5,178,176.5]\n",
    "import numpy as np\n",
    "np.std(x)"
   ]
  },
  {
   "cell_type": "markdown",
   "id": "bd45b720-914e-4c04-aacd-29a465eef2c1",
   "metadata": {},
   "source": [
    "## Q5. How are measures of dispersion such as range, variance, and standard deviation used to describe the spread of a dataset? Provide an example."
   ]
  },
  {
   "cell_type": "markdown",
   "id": "ac4808b9-3de6-43b8-bfe2-d9d232ec71ba",
   "metadata": {},
   "source": [
    "Ans=Measures of dispersion, such as range, variance, and standard deviation, are used to describe the spread or variability of a dataset. They provide information about how much the values in the dataset deviate from the central tendency measures, such as the mean or median. Here's how each measure is used to describe the spread:\n",
    "\n",
    "1) Range: The range is the simplest measure of dispersion and represents the difference between the maximum and minimum values in a dataset. It provides an understanding of the total span or extent of the data. However, it only considers the extreme values and does not take into account the distribution of values within the dataset.\n",
    "\n",
    "Example: Consider the following dataset of exam scores: [70, 65, 80, 75, 90]. The range is calculated by subtracting the minimum value (65) from the maximum value (90), resulting in a range of 25. This indicates that the scores range from 65 to 90.\n",
    "\n",
    "2) Variance: Variance measures the average squared deviation of each data point from the mean. It takes into account the dispersion of values across the entire dataset. A higher variance indicates a greater spread of data points from the mean.\n",
    "\n",
    "Example: Using the same dataset of exam scores, the variance is calculated as follows:\n",
    "\n",
    "Calculate the mean: (70 + 65 + 80 + 75 + 90) / 5 = 76.\n",
    "\n",
    "Calculate the squared deviation of each data point from the mean: [(70 - 76)^2, (65 - 76)^2, (80 - 76)^2, (75 - 76)^2, (90 - 76)^2] = [36, 121, 16, 1, 196].\n",
    "\n",
    "Calculate the average squared deviation: (36 + 121 + 16 + 1 + 196) / 5 = 74.8.\n",
    "The variance is 74.8.\n",
    "\n",
    "3) Standard Deviation: The standard deviation is the square root of the variance. It provides a measure of dispersion that is in the same units as the original dataset, making it more interpretable. A higher standard deviation indicates a greater spread of data points from the mean.\n",
    "\n",
    "Example: Using the same dataset of exam scores, the standard deviation is the square root of the variance: √74.8 ≈ 8.65. This indicates that the exam scores, on average, deviate from the mean by approximately 8.65 points."
   ]
  },
  {
   "cell_type": "markdown",
   "id": "a40ac33e-66ac-4bbf-955f-ecb66609cd56",
   "metadata": {},
   "source": [
    "## Q6. What is a Venn diagram?"
   ]
  },
  {
   "cell_type": "markdown",
   "id": "363cb08f-5aff-49d4-a3fc-c9a78cb17228",
   "metadata": {},
   "source": [
    "Ans= A Venn diagram is a graphical representation used to depict the relationships and commonalities between different sets or groups of objects or elements. It consists of overlapping circles or other shapes that represent the sets, and the overlapping regions indicate the elements that belong to multiple sets.\n",
    "\n",
    "Venn diagrams are commonly used to visualize and analyze set relationships, such as identifying shared or distinct characteristics, understanding overlaps and differences, and illustrating logical relationships between sets.\n",
    "\n",
    "For example, consider three sets: Set A representing fruits (apple, banana), Set B representing colors (red, yellow), and Set C representing shapes (round, elongated). A Venn diagram representing these sets would consist of three circles (A, B, and C) overlapping in the center. The overlapping region would indicate the elements that have characteristics from multiple sets, such as an apple (Set A) being both red (Set B) and round (Set C).\n",
    "\n",
    "Venn diagrams provide a visual and intuitive way to understand set relationships, make comparisons, and analyze data across multiple categories or groups."
   ]
  },
  {
   "cell_type": "markdown",
   "id": "2f5ffd95-b3a4-4351-b572-1f28af0ed0d0",
   "metadata": {},
   "source": [
    "## Q7. For the two given sets A = (2,3,4,5,6,7) & B = (0,2,6,8,10). Find:\n",
    "\n",
    "(i) A ∩ B\n",
    "(ii) A ⋃ B"
   ]
  },
  {
   "cell_type": "markdown",
   "id": "1838b4a3-72e3-4ba0-844a-c49fb30a7b29",
   "metadata": {},
   "source": [
    "Ans=(i) A ∩ B (Intersection): The intersection of two sets includes the elements that are common to both sets.\n",
    "\n",
    "A ∩ B = {x : x ∈ A and x ∈ B}\n",
    "\n",
    "A ∩ B = {2, 6}\n",
    "\n",
    "Therefore, A ∩ B = {2, 6}.\n",
    "\n",
    "(ii) A ∪ B (Union): The union of two sets combines all the unique elements from both sets, without repetition.\n",
    "\n",
    "A ∪ B = {x : x ∈ A or x ∈ B}\n",
    "\n",
    "A ∪ B = {0, 2, 3, 4, 5, 6, 7, 8, 10}\n",
    "\n",
    "Therefore, A ∪ B = {0, 2, 3, 4, 5, 6, 7, 8, 10}."
   ]
  },
  {
   "cell_type": "markdown",
   "id": "2d668120-f36c-47db-94d5-8bb2594d5566",
   "metadata": {},
   "source": [
    "## Q8. What do you understand about skewness in data?"
   ]
  },
  {
   "cell_type": "markdown",
   "id": "e21bfd33-8cff-48c9-b239-28bf5f841cde",
   "metadata": {},
   "source": [
    "Ans= Skewness in data refers to the asymmetry or lack of symmetry in the distribution of values. It provides information about the shape and departure from symmetry in a dataset. Skewness can help us understand the concentration of values on one side of the distribution compared to the other.\n",
    "\n",
    "There are three types of skewness:\n",
    "\n",
    "1) Positive Skewness (Right Skewness): A dataset is positively skewed when the tail of the distribution extends more towards the right side, indicating a concentration of lower values and a long tail of higher values on the right. The mean is typically greater than the median in a positively skewed distribution.\n",
    "\n",
    "2) Negative Skewness (Left Skewness): A dataset is negatively skewed when the tail of the distribution extends more towards the left side, indicating a concentration of higher values and a long tail of lower values on the left. The mean is typically less than the median in a negatively skewed distribution.\n",
    "\n",
    "3) Zero Skewness: A dataset is considered to have zero skewness when the distribution is perfectly symmetric, with equal concentrations of values on both sides. In this case, the mean and median are approximately equal."
   ]
  },
  {
   "cell_type": "markdown",
   "id": "b02c4857-1885-452f-bf54-801fca4a312f",
   "metadata": {},
   "source": [
    "## Q9. If a data is right skewed then what will be the position of median with respect to mean?"
   ]
  },
  {
   "cell_type": "markdown",
   "id": "ee2f69f0-092a-456b-991d-9466f1f23b24",
   "metadata": {},
   "source": [
    "Ans= In a right-skewed distribution, where the tail of the distribution extends more towards the right side, the median will typically be less than the mean.\n",
    "\n",
    "Here's why:\n",
    "\n",
    "In a right-skewed distribution, the majority of the data points are concentrated towards the left side, and the tail of the distribution extends towards the right side. This indicates a higher frequency of smaller values and a few extreme larger values that pull the mean towards the right."
   ]
  },
  {
   "cell_type": "markdown",
   "id": "f25fc1c9-7085-43fe-9242-c393b3a82472",
   "metadata": {},
   "source": [
    "## Q10. Explain the difference between covariance and correlation. How are these measures used in statistical analysis?"
   ]
  },
  {
   "cell_type": "markdown",
   "id": "0042aec7-d9db-4822-b229-fea9d41a4f7c",
   "metadata": {},
   "source": [
    "Ans= Covariance and correlation are measures used to analyze the relationship between variables in statistical analysis. While they both provide insights into the relationship between variables, there are key differences in how they are calculated and interpreted:\n",
    "\n",
    "Covariance:\n",
    "Covariance measures the extent and direction of the linear relationship between two variables. It quantifies how changes in one variable correspond to changes in another variable. The covariance value can be positive, indicating a positive relationship (both variables tend to increase or decrease together), or negative, indicating an inverse relationship (as one variable increases, the other tends to decrease). However, the magnitude of covariance alone does not indicate the strength or degree of association between the variables.\n",
    "\n",
    "Covariance calculation:\n",
    "\n",
    "Cov(X, Y) = Σ((X - μX) * (Y - μY)) / (n - 1)\n",
    "\n",
    "Correlation:\n",
    "Correlation measures both the strength and direction of the linear relationship between two variables. It is a standardized measure that ranges from -1 to +1, where -1 indicates a perfect negative correlation, +1 indicates a perfect positive correlation, and 0 indicates no linear correlation. Correlation is often preferred over covariance as it provides a standardized measure that allows for better comparison across different datasets.\n",
    "\n",
    "Correlation calculation:\n",
    "\n",
    "Corr(X, Y) = Cov(X, Y) / (σX * σY)\n",
    "\n",
    "Correlation measures are widely used in statistical analysis for various purposes, including:\n",
    "\n",
    "1) Understanding the relationship: Correlation helps assess the strength and direction of the relationship between variables. It provides insights into how changes in one variable are associated with changes in another variable.\n",
    "\n",
    "2) Feature selection: Correlation analysis helps identify the most relevant features or variables for a particular analysis or prediction task. Variables with high correlation to the target variable can be considered important predictors."
   ]
  },
  {
   "cell_type": "markdown",
   "id": "e3d07f42-575a-4a8b-8f71-7cc1f6ab3abd",
   "metadata": {},
   "source": [
    "## Q11. What is the formula for calculating the sample mean? Provide an example calculation for a dataset."
   ]
  },
  {
   "cell_type": "markdown",
   "id": "2d6d9334-f69f-4be3-aaea-b8a2e9990b2d",
   "metadata": {},
   "source": [
    "Ans= The formula for calculating the sample mean is as follows:\n",
    "\n",
    "Sample Mean = (Sum of all values in the dataset) / (Number of values in the dataset)\n",
    "\n",
    "To calculate the sample mean, you sum up all the values in the dataset and divide the sum by the total number of values. Here's an example calculation:\n",
    "\n",
    "Consider the dataset: [10, 15, 20, 25, 30]\n",
    "\n",
    "Step 1: Sum up all the values:\n",
    "10 + 15 + 20 + 25 + 30 = 100\n",
    "\n",
    "Step 2: Determine the number of values in the dataset:\n",
    "\n",
    "In this case, there are 5 values in the dataset.\n",
    "\n",
    "Step 3: Calculate the sample mean:\n",
    "\n",
    "Sample Mean = (Sum of all values) / (Number of values)\n",
    "Sample Mean = 100 / 5\n",
    "\n",
    "Sample Mean = 20"
   ]
  },
  {
   "cell_type": "markdown",
   "id": "edab5c38-1d62-4441-875e-20b5807a2100",
   "metadata": {},
   "source": [
    "## Q12. For a normal distribution data what is the relationship between its measure of central tendency?"
   ]
  },
  {
   "cell_type": "markdown",
   "id": "5d4b0544-6a73-4709-9dd5-0ad7719d1322",
   "metadata": {},
   "source": [
    "Ans= For a normal distribution, the measures of central tendency—mean, median, and mode—are all equal. In other words, the mean, median, and mode of a normal distribution coincide at the same value.\n",
    "\n",
    "This property holds true because a normal distribution is symmetric and bell-shaped. The mean represents the average value and is located at the center of the distribution. The median is the middle value and is also located at the center due to the symmetric nature of the distribution. Similarly, the mode represents the most frequent value, and in a normal distribution, all values occur with equal frequency around the peak, resulting in a single mode at the center."
   ]
  },
  {
   "cell_type": "markdown",
   "id": "7fcbb36d-efe7-473c-b740-018c7af5639c",
   "metadata": {},
   "source": [
    "## Q13. How is covariance different from correlation?"
   ]
  },
  {
   "cell_type": "markdown",
   "id": "43742f82-356a-4b70-a4bc-aa59ef691765",
   "metadata": {},
   "source": [
    "Ans= Covariance and correlation are both measures used to quantify the relationship between variables, but they differ in their interpretation and properties. \n",
    "\n",
    "Covariance: Covariance measures the extent and direction of the linear relationship between two variables. It indicates how changes in one variable correspond to changes in another variable. The magnitude of covariance is influenced by the units of measurement of the variables, making it difficult to compare across different datasets. Covariance can be positive (indicating a positive relationship), negative (indicating an inverse relationship), or zero (indicating no linear relationship).\n",
    "\n",
    "Covariance is not scale-independent.\n",
    "\n",
    "Covariance values have no specific range or upper bound.\n",
    "\n",
    "Correlation: Correlation measures both the strength and direction of the linear relationship between two variables. It is a standardized measure that ranges from -1 to +1. A correlation of +1 indicates a perfect positive relationship, -1 indicates a perfect negative relationship, and 0 indicates no linear relationship. Correlation is unitless and allows for better comparison across different datasets.\n",
    "\n",
    "Correlation is scale-independent.\n",
    "\n",
    "Correlation values range from -1 to +1, where -1 indicates a perfect negative relationship, +1 indicates a perfect positive relationship, and 0 indicates no linear relationship. "
   ]
  },
  {
   "cell_type": "markdown",
   "id": "2b5229f9-0398-4697-b7ed-b278fa95d07e",
   "metadata": {},
   "source": [
    "## Q14. How do outliers affect measures of central tendency and dispersion? Provide an example."
   ]
  },
  {
   "cell_type": "markdown",
   "id": "c5883bba-9266-401e-b7b3-6bc28b1569d4",
   "metadata": {},
   "source": [
    "Ans= Outliers can significantly affect both measures of central tendency (such as mean, median, and mode) and measures of dispersion (such as range, variance, and standard deviation). Here's how outliers impact these measures:\n",
    "\n",
    "1) Measures of Central Tendency:\n",
    "\n",
    "Mean: Outliers can heavily influence the mean because it takes into account every value in the dataset. A single extreme outlier can substantially shift the mean towards its direction.\n",
    "\n",
    "Example: Consider the following dataset of salaries (in thousands of dollars) in a company: [30, 32, 34, 35, 36, 37, 40, 100]. In this dataset, the value of 100 represents an outlier, significantly higher than the other values.\n",
    "\n",
    "Including the outlier, the mean is calculated as (30 + 32 + 34 + 35 + 36 + 37 + 40 + 100) / 8 = 41.125. The outlier of 100 significantly pulls the mean towards the higher end.\n",
    "\n",
    "2) Measures of Dispersion:\n",
    "\n",
    "a. Range: Outliers can substantially affect the range, as it is determined by the difference between the maximum and minimum values in the dataset. A single extreme outlier can widen the range significantly.\n",
    "\n",
    "b. Variance and Standard Deviation: Outliers can have a substantial impact on both variance and standard deviation. Since these measures consider the deviation of each value from the mean, outliers can lead to larger deviations and, in turn, increase the variance and standard deviation.\n",
    "\n",
    "Example: Let's consider a dataset of exam scores: [70, 75, 80, 85, 90, 95, 200]. Here, the value of 200 represents an outlier, significantly higher than the other scores.\n",
    "\n",
    "Range: The range is calculated as the difference between the maximum and minimum values. Including the outlier, the range becomes 200 - 70 = 130, which is substantially influenced by the outlier.\n",
    "\n",
    "Variance and Standard Deviation: Including the outlier, the variance and standard deviation increase due to the larger deviations of the outlier from the mean, resulting in more spread-out data.\n"
   ]
  },
  {
   "cell_type": "code",
   "execution_count": null,
   "id": "3f5d459f-9243-46b0-87b3-393939e00ce7",
   "metadata": {},
   "outputs": [],
   "source": []
  }
 ],
 "metadata": {
  "kernelspec": {
   "display_name": "Python 3 (ipykernel)",
   "language": "python",
   "name": "python3"
  },
  "language_info": {
   "codemirror_mode": {
    "name": "ipython",
    "version": 3
   },
   "file_extension": ".py",
   "mimetype": "text/x-python",
   "name": "python",
   "nbconvert_exporter": "python",
   "pygments_lexer": "ipython3",
   "version": "3.10.8"
  }
 },
 "nbformat": 4,
 "nbformat_minor": 5
}
