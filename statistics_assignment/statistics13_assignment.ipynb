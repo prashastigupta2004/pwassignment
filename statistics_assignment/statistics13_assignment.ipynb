{
 "cells": [
  {
   "cell_type": "markdown",
   "id": "ba566715-19a0-43ab-af99-1edd79bf825b",
   "metadata": {},
   "source": [
    "## Q1. Explain the assumptions required to use ANOVA and provide examples of violations that could impact the validity of the results."
   ]
  },
  {
   "cell_type": "markdown",
   "id": "c453963b-63ea-4d8f-ae5c-abb2c1c07b2d",
   "metadata": {},
   "source": [
    "Ans= These assumptions are as follows:\n",
    "\n",
    "Independence: The observations within each group should be independent of each other. This means that the values in one group should not be related to or influenced by the values in another group.\n",
    "\n",
    "Normality: The distribution of the dependent variable within each group should be approximately normal. This assumption ensures that the sampling distribution of the means is also normal.\n",
    "\n",
    "Homogeneity of variances: The variability of the dependent variable should be approximately equal across all groups. Homogeneity of variances assumes that the standard deviation of the dependent variable is the same across all groups.\n",
    "\n",
    "Random sampling: The samples should be selected randomly from the population of interest. Random sampling helps to ensure that the sample is representative of the population and that the results can be generalized.\n",
    "\n",
    "Violations of these assumptions can impact the validity of the ANOVA results. Here are examples of violations for each assumption:\n",
    "\n",
    "Independence: Violations can occur when there is a dependency or relationship between the observations in different groups. For example, in a study comparing the performance of students from different schools, if students within the same school were influenced by each other's performance, the assumption of independence would be violated.\n",
    "\n",
    "Normality: Violations can occur when the distribution of the dependent variable within each group is significantly non-normal. For instance, if the dependent variable is highly skewed or has extreme outliers, it may violate the normality assumption. This violation can affect the accuracy of the p-values and confidence intervals.\n",
    "\n",
    "Homogeneity of variances: Violations can occur when the variability of the dependent variable is not equal across groups. For example, if one group has a much larger variance than the others, it violates the assumption. This violation can affect the validity of the F -test used in ANOVA and lead to incorrect conclusions.\n",
    "\n",
    "Random sampling: Violations can occur when the sampling is not truly random. For instance, if the samples are selected in a non-random or biased manner, the generalizability of the results may be compromised. This violation can introduce selection bias and affect the external validity of the findings."
   ]
  },
  {
   "cell_type": "markdown",
   "id": "f40c5363-ee24-40a6-a68e-d3e953368a60",
   "metadata": {},
   "source": [
    "## Q2. What are the three types of ANOVA, and in what situations would each be used?"
   ]
  },
  {
   "cell_type": "markdown",
   "id": "02a0ffb8-433b-49a8-b592-483752448555",
   "metadata": {},
   "source": [
    "Ans= The three types of ANOVA are:\n",
    "\n",
    "1) One-Way ANOVA: This type of ANOVA is used when there is a single categorical independent variable (factor) with three or more levels (groups), and the dependent variable is continuous. It is used to determine if there are any statistically significant differences among the means of the groups. For example, a one-way ANOVA could be used to compare the average scores of students from different schools (where the schools are the groups) to see if there are any significant differences in performance.\n",
    "\n",
    "2) Two-Way ANOVA: This type of ANOVA is used when there are two independent variables (factors) and the interaction between them, as well as the main effects of each factor, need to be examined. Both factors should be categorical, and the dependent variable should be continuous. Two-way ANOVA allows us to determine if there are any significant differences between the groups based on each factor and if there is an interaction effect between the two factors. For example, a two-way ANOVA could be used to analyze the effects of both gender and age group on test scores.\n",
    "\n",
    "3) Repeated Measures ANOVA: This type of ANOVA is used when the dependent variable is measured repeatedly on the same subjects or units. It is used to analyze the changes or differences in the dependent variable across time or conditions. Repeated Measures ANOVA takes into account the within-subject correlation and provides insights into the effect of the independent variable on the dependent variable while controlling for individual differences. For example, a repeated measures ANOVA could be used to examine the effect of a new teaching method on student performance by measuring their test scores before and after the intervention."
   ]
  },
  {
   "cell_type": "markdown",
   "id": "15931e27-e551-445a-b3e9-2ace34e32ec4",
   "metadata": {},
   "source": [
    "## Q3. What is the partitioning of variance in ANOVA, and why is it important to understand this concept?"
   ]
  },
  {
   "cell_type": "markdown",
   "id": "207d36cc-e7f0-45f4-9660-e984a7631fde",
   "metadata": {},
   "source": [
    "Ans= The partitioning of variance in ANOVA refers to the division of the total variance in the dependent variable into different components that are associated with different sources of variation. These components are typically referred to as sums of squares (SS) and are used to calculate the variance and mean squares, which are essential in determining the F-statistic and conducting hypothesis tests.\n",
    "\n",
    "The partitioning of variance is important to understand because it provides insights into the relative contributions of different factors or sources of variation to the overall variability in the dependent variable. By decomposing the total variance, ANOVA helps researchers determine the proportion of variance that can be attributed to the independent variables or factors being studied.\n",
    "\n",
    "Understanding the partitioning of variance allows researchers to:\n",
    "\n",
    "1) Assess the significance of the independent variables\n",
    "\n",
    "2) Identify the main effects and interactions\n",
    "\n",
    "3) Interpret the results and draw conclusions\n",
    "\n",
    "4) Guide further analysis"
   ]
  },
  {
   "cell_type": "markdown",
   "id": "437dc8bc-fa87-4e89-bd55-287fc62cbf64",
   "metadata": {},
   "source": [
    "## Q4. How would you calculate the total sum of squares (SST), explained sum of squares (SSE), and residual sum of squares (SSR) in a one-way ANOVA using Python?"
   ]
  },
  {
   "cell_type": "code",
   "execution_count": 3,
   "id": "038bf68a-f65c-4b1d-a997-dfef8e687316",
   "metadata": {},
   "outputs": [
    {
     "name": "stdout",
     "output_type": "stream",
     "text": [
      "Total Sum of Squares (SST): 73.33333333333333\n",
      "Explained Sum of Squares (SSE): 43.33333333333333\n",
      "Residual Sum of Squares (SSR): 30.0\n"
     ]
    }
   ],
   "source": [
    "import scipy.stats as stats\n",
    "\n",
    "# Sample data for each group\n",
    "group1 = [5, 6, 7, 8, 9]\n",
    "group2 = [2, 3, 4, 5, 6]\n",
    "group3 = [1, 2, 3, 4, 5]\n",
    "\n",
    "# Combine the data from all groups\n",
    "all_data = group1 + group2 + group3\n",
    "\n",
    "# Calculate the overall mean\n",
    "overall_mean = sum(all_data) / len(all_data)\n",
    "\n",
    "# Calculate the total sum of squares (SST)\n",
    "sst = sum((x - overall_mean) ** 2 for x in all_data)\n",
    "\n",
    "# Calculate the sum of squares between (SSE)\n",
    "sse = sum(len(group) * ((sum(group) / len(group)) - overall_mean) ** 2 for group in [group1, group2, group3])\n",
    "\n",
    "# Calculate the sum of squares within (SSR)\n",
    "ssr = sst - sse\n",
    "\n",
    "print(\"Total Sum of Squares (SST):\", sst)\n",
    "print(\"Explained Sum of Squares (SSE):\", sse)\n",
    "print(\"Residual Sum of Squares (SSR):\", ssr)\n"
   ]
  },
  {
   "cell_type": "markdown",
   "id": "bd369c58-280d-491f-8c75-5cf4fa67c414",
   "metadata": {},
   "source": [
    "## Q5. In a two-way ANOVA, how would you calculate the main effects and interaction effects using Python?"
   ]
  },
  {
   "cell_type": "code",
   "execution_count": 5,
   "id": "55993876-f599-4842-8971-a2f119155135",
   "metadata": {},
   "outputs": [
    {
     "name": "stdout",
     "output_type": "stream",
     "text": [
      "Main Effect of Group1:\n",
      "  SS: 22.5\n",
      "  MS: 4.5\n",
      "  F-value: -0.030763567522086657\n",
      "Main Effect of Group2:\n",
      "  SS: 24.900000000000002\n",
      "  MS: 4.98\n",
      "  F-value: -0.03404501472444257\n",
      "Interaction Effect:\n",
      "  SS: 39.6\n",
      "  MS: 1.584\n",
      "  F-value: -0.010828775767774504\n"
     ]
    }
   ],
   "source": [
    "import numpy as np\n",
    "\n",
    "# Create arrays for the data\n",
    "group1 = np.array([10, 12, 15, 11, 14, 13, 12, 11, 13, 14])\n",
    "group2 = np.array([8, 9, 6, 7, 10, 11, 6, 8, 7, 9])\n",
    "dependent_variable = np.array([20, 18, 23, 19, 22, 21, 16, 18, 17, 20])\n",
    "\n",
    "# Calculate the means\n",
    "mean_total = np.mean(dependent_variable)\n",
    "mean_group1 = np.mean(group1)\n",
    "mean_group2 = np.mean(group2)\n",
    "\n",
    "# Calculate the sum of squares (SS) for each effect\n",
    "ss_group1 = np.sum((group1 - mean_group1) ** 2)\n",
    "ss_group2 = np.sum((group2 - mean_group2) ** 2)\n",
    "ss_interaction = np.sum((dependent_variable - mean_total - (group1 - mean_group1) - (group2 - mean_group2)) ** 2)\n",
    "\n",
    "# Calculate the degrees of freedom (df)\n",
    "df_group1 = len(np.unique(group1)) - 1\n",
    "df_group2 = len(np.unique(group2)) - 1\n",
    "df_interaction = df_group1 * df_group2\n",
    "df_residual = len(dependent_variable) - (df_group1 + df_group2 + df_interaction) - 1\n",
    "\n",
    "# Calculate the mean squares (MS)\n",
    "ms_group1 = ss_group1 / df_group1\n",
    "ms_group2 = ss_group2 / df_group2\n",
    "ms_interaction = ss_interaction / df_interaction\n",
    "ms_residual = np.sum((dependent_variable - (group1 - mean_group1) - (group2 - mean_group2)) ** 2) / df_residual\n",
    "\n",
    "# Calculate the F-values\n",
    "f_group1 = ms_group1 / ms_residual\n",
    "f_group2 = ms_group2 / ms_residual\n",
    "f_interaction = ms_interaction / ms_residual\n",
    "\n",
    "print(\"Main Effect of Group1:\")\n",
    "print(\"  SS:\", ss_group1)\n",
    "print(\"  MS:\", ms_group1)\n",
    "print(\"  F-value:\", f_group1)\n",
    "\n",
    "print(\"Main Effect of Group2:\")\n",
    "print(\"  SS:\", ss_group2)\n",
    "print(\"  MS:\", ms_group2)\n",
    "print(\"  F-value:\", f_group2)\n",
    "\n",
    "print(\"Interaction Effect:\")\n",
    "print(\"  SS:\", ss_interaction)\n",
    "print(\"  MS:\", ms_interaction)\n",
    "print(\"  F-value:\", f_interaction)\n"
   ]
  },
  {
   "cell_type": "markdown",
   "id": "d0bd7b40-604c-4214-ae45-13dddd9188de",
   "metadata": {},
   "source": [
    "## Q6. Suppose you conducted a one-way ANOVA and obtained an F-statistic of 5.23 and a p-value of 0.02. What can you conclude about the differences between the groups, and how would you interpret these results?"
   ]
  },
  {
   "cell_type": "markdown",
   "id": "7f776356-cc35-4080-9ecb-f51bc83c3da2",
   "metadata": {},
   "source": [
    "Ans= In the given scenario, you conducted a one-way ANOVA and obtained an F-statistic of 5.23 and a p-value of 0.02. Based on these results, you can draw the following conclusions:\n",
    "\n",
    "Significance of the F-statistic: The F-statistic of 5.23 indicates that there are differences among the means of the groups. This value suggests that the variability between the groups is larger than the variability within the groups.\n",
    "\n",
    "Statistical significance: The obtained p-value of 0.02 is below the conventional significance level of 0.05 (assuming a typical alpha level of 0.05). This indicates that the differences among the groups are statistically significant.\n",
    "\n",
    "The group means are unlikely to have occurred by chance alone. However, it's important to note that statistical significance does not necessarily imply practical or meaningful significance. Further analysis and interpretation are required to understand the magnitude and practical importance of the observed differences."
   ]
  },
  {
   "cell_type": "markdown",
   "id": "9addbddd-46d3-4310-baa1-a630f3f93c20",
   "metadata": {},
   "source": [
    "## Q7. In a repeated measures ANOVA, how would you handle missing data, and what are the potential consequences of using different methods to handle missing data?"
   ]
  },
  {
   "cell_type": "markdown",
   "id": "bbd68c18-5bd0-4023-a24e-c6d1c85b1efd",
   "metadata": {},
   "source": [
    "Ans= Here are a few methods commonly used to handle missing data:\n",
    "\n",
    "1) Complete Case Analysis: Also known as listwise deletion, this approach involves excluding any cases with missing data from the analysis. Only the cases with complete data for all variables are considered. This method is straightforward, but it can lead to a reduction in sample size and potential bias if the missing data are not randomly distributed.\n",
    "\n",
    "2) Pairwise Deletion: This method involves including all available data for each pairwise comparison, even if some participants have missing data for certain time points or conditions. It utilizes all available information, but it may introduce bias if the missingness is related to the variables under investigation or if the missing data are not missing completely at random.\n",
    "\n",
    "3) Imputation: Imputation methods involve estimating or filling in missing values based on observed data. Common imputation techniques include mean imputation (replacing missing values with the mean of the available values), regression imputation (predicting missing values using regression models), or multiple imputation (generating multiple plausible imputed datasets). Imputation methods attempt to preserve the sample size and can reduce bias if done appropriately. However, they introduce uncertainty due to the imputation process and assumptions made.\n",
    "\n",
    "The choice of handling missing data method can impact the validity and reliability of the results. Potential consequences of using different methods include:\n",
    "\n",
    "1) Bias: If the missing data mechanism is related to the variables being studied (e.g., missing values systematically differ based on treatment or time), complete case analysis or pairwise deletion can introduce bias. Imputation methods can also introduce bias if the imputation model is misspecified or if the assumptions of missingness are violated.\n",
    "\n",
    "2) Efficiency: Complete case analysis and pairwise deletion can lead to a loss of efficiency due to reduced sample size. Imputation methods, when done appropriately, can utilize more information and result in more efficient estimates.\n",
    "\n",
    "3) Precision of estimates: Complete case analysis and pairwise deletion may yield imprecise estimates due to the reduced sample size, resulting in wider confidence intervals and reduced power. Imputation methods can improve precision by accounting for the uncertainty introduced by imputation.\n",
    "\n",
    "4) Generalizability: The choice of handling missing data method can influence the generalizability of the results. If the missing data mechanism is non-random and not properly handled, the findings may not generalize to the broader population."
   ]
  },
  {
   "cell_type": "markdown",
   "id": "9d4dce19-7832-40fc-be43-a8603120cd08",
   "metadata": {},
   "source": [
    "## Q8. What are some common post-hoc tests used after ANOVA, and when would you use each one? Provide an example of a situation where a post-hoc test might be necessary."
   ]
  },
  {
   "cell_type": "markdown",
   "id": "9c303996-f077-4422-82a8-4e018010ea55",
   "metadata": {},
   "source": [
    "Ans= After conducting an ANOVA and finding a statistically significant result, post-hoc tests are often employed to determine which specific group means differ significantly from each other. Several commonly used post-hoc tests include:\n",
    "\n",
    "1) Tukey's Honestly Significant Difference (HSD): Tukey's HSD test is widely used and compares all possible pairwise group means. It controls the family-wise error rate and determines which group means are significantly different. Tukey's HSD is suitable when you have equal sample sizes and homogeneous variances among groups.\n",
    "\n",
    "2) Bonferroni correction: The Bonferroni correction adjusts the significance level for multiple comparisons. It divides the desired significance level (e.g., 0.05) by the number of pairwise comparisons. This method is more conservative, reducing the chance of Type I errors, but it may have reduced power compared to other post-hoc tests.\n",
    "\n",
    "3) Dunnett's test: Dunnett's test is used when comparing multiple treatment groups to a control group. It controls the Type I error rate and identifies which treatment groups significantly differ from the control group while considering the multiple comparisons.\n",
    "\n",
    "4) Scheffe's test: Scheffe's test is a conservative post-hoc test that can be used when sample sizes are unequal or variances are not homogeneous. It controls the family-wise error rate and provides simultaneous confidence intervals for all possible comparisons.\n",
    "\n",
    "5) Fisher's Least Significant Difference (LSD): Fisher's LSD test compares pairwise group means and determines significant differences. It does not control the family-wise error rate and is less conservative than other post-hoc tests. It is typically used when there is a priori reason to believe in specific comparisons.\n",
    "\n",
    "Example situation: Suppose you conducted a study comparing the effectiveness of four different teaching methods on students' exam scores. After performing a one-way ANOVA, you find a significant difference among the groups. In this case, you would use a post-hoc test to determine which specific teaching methods result in significantly different exam scores. You could apply Tukey's HSD, Bonferroni correction, or other appropriate post-hoc tests to compare pairwise group means and identify significant differences. These post-hoc tests allow you to draw conclusions about the relative effectiveness of the teaching methods and make more specific comparisons beyond the overall ANOVA result."
   ]
  },
  {
   "cell_type": "markdown",
   "id": "b720471b-1f2b-48f4-8770-1718c3d5230b",
   "metadata": {},
   "source": [
    "## Q9. A researcher wants to compare the mean weight loss of three diets: A, B, and C. They collect data from 50 participants who were randomly assigned to one of the diets. Conduct a one-way ANOVA using Python to determine if there are any significant differences between the mean weight loss of the three diets. Report the F-statistic and p-value, and interpret the results."
   ]
  },
  {
   "cell_type": "code",
   "execution_count": 1,
   "id": "bd9f1132-c2e6-4129-92b1-94e5f38463a5",
   "metadata": {},
   "outputs": [
    {
     "name": "stdout",
     "output_type": "stream",
     "text": [
      "F-statistic: 0.10848819688598693\n",
      "p-value: 0.897262744636808\n"
     ]
    }
   ],
   "source": [
    "import scipy.stats as stats\n",
    "import numpy as np\n",
    "\n",
    "# Weight loss data for each diet group\n",
    "diet_a = [3, 5, 4, 6, 2, 1, 4, 3, 5, 4, 3, 2, 1, 4, 5, 3, 4, 5, 3, 2, 4, 5, 3, 2, 1, 4, 5, 3, 4, 3, 5, 4, 3, 2, 1, 4, 5, 3, 2, 4, 5, 3, 2, 1, 4, 5, 3, 4, 5]\n",
    "diet_b = [2, 1, 3, 4, 5, 3, 2, 1, 4, 5, 3, 4, 5, 3, 2, 1, 4, 5, 3, 4, 3, 5, 4, 3, 2, 1, 4, 5, 3, 2, 4, 5, 3, 2, 1, 4, 5, 3, 4, 5, 3, 2, 1, 4, 5, 3, 4, 5, 3]\n",
    "diet_c = [4, 3, 5, 4, 3, 2, 1, 4, 5, 3, 4, 5, 3, 2, 1, 4, 5, 3, 4, 3, 5, 4, 3, 2, 1, 4, 5, 3, 2, 4, 5, 3, 2, 1, 4, 5, 3, 4, 5, 3, 2, 1, 4, 5, 3, 4, 5, 3, 2]\n",
    "\n",
    "# Combine the data from all groups\n",
    "all_data = np.concatenate([diet_a, diet_b, diet_c])\n",
    "\n",
    "# Create a group label for each diet group\n",
    "group_labels = ['A'] * len(diet_a) + ['B'] * len(diet_b) + ['C'] * len(diet_c)\n",
    "\n",
    "# Perform the one-way ANOVA\n",
    "f_statistic, p_value = stats.f_oneway(diet_a, diet_b, diet_c)\n",
    "\n",
    "# Print the results\n",
    "print(\"F-statistic:\", f_statistic)\n",
    "print(\"p-value:\", p_value)"
   ]
  },
  {
   "cell_type": "markdown",
   "id": "5372ccf7-bbd3-4a89-89e0-c6ad1b1e3145",
   "metadata": {},
   "source": [
    "If the p-value is below a predetermined significance level (e.g., 0.05), it suggests that there are significant differences in the mean weight loss between the three diets. Conversely, if the p-value is above the significance level, it suggests that there is not enough evidence to conclude that there are significant differences in the mean weight loss."
   ]
  },
  {
   "cell_type": "markdown",
   "id": "9bcd4582-0c61-409b-84bf-62159627150c",
   "metadata": {},
   "source": [
    "## Q10. A company wants to know if there are any significant differences in the average time it takes to complete a task using three different software programs: Program A, Program B, and Program C. They randomly assign 30 employees to one of the programs and record the time it takes each employee to complete the task. Conduct a two-way ANOVA using Python to determine if there are any main effects or interaction effects between the software programs and employee experience level (novice vs. experienced). Report the F-statistics and p-values, and interpret the results."
   ]
  },
  {
   "cell_type": "code",
   "execution_count": 2,
   "id": "677bf73c-6e09-44a3-b083-96cb44fd52ec",
   "metadata": {},
   "outputs": [
    {
     "name": "stdout",
     "output_type": "stream",
     "text": [
      "F-statistic: 0.04594551023698209\n",
      "p-value: 0.9959545222502664\n"
     ]
    }
   ],
   "source": [
    "import numpy as np\n",
    "import scipy.stats as stats\n",
    "\n",
    "# Weight loss data for each diet group\n",
    "software_a = np.array([10, 12, 15, 9, 11, 10, 13, 14, 12, 11, 10, 11, 14, 13, 12, 9, 10, 12, 11, 10])\n",
    "software_b = np.array([12, 15, 16, 14, 13, 11, 12, 11, 12, 10, 12, 11, 8, 9, 10, 11, 10, 11, 12, 10])\n",
    "software_c = np.array([12, 15, 16, 14, 13, 11, 12, 11, 12, 10, 12, 11, 8, 9, 10, 11, 10, 11, 12, 10])\n",
    "experience_novice = np.array([10, 12, 11, 14, 13, 12, 9, 10, 12, 11, 10, 11, 14, 13, 12, 9, 10, 12, 11, 10])\n",
    "experience_experienced = np.array([12, 15, 16, 14, 13, 11, 12, 11, 12, 10, 12, 11, 8, 9, 10, 11, 10, 11, 12, 10])\n",
    "\n",
    "# Combine the data from all groups\n",
    "all_data = np.concatenate([software_a, software_b, software_c, experience_novice, experience_experienced])\n",
    "\n",
    "# Create group labels for each combination of factors\n",
    "group_labels = ['Software A'] * len(software_a) + ['Software B'] * len(software_b) + ['Software C'] * len(software_c) + ['Novice'] * len(experience_novice) + ['Experienced'] * len(experience_experienced)\n",
    "\n",
    "# Perform the two-way ANOVA\n",
    "f_statistic, p_value = stats.f_oneway(software_a, software_b, software_c, experience_novice, experience_experienced)\n",
    "\n",
    "# Print the results\n",
    "print(\"F-statistic:\", f_statistic)\n",
    "print(\"p-value:\", p_value)\n"
   ]
  },
  {
   "cell_type": "markdown",
   "id": "9ece5e92-0b48-47a3-b362-6def8640126d",
   "metadata": {},
   "source": [
    "The output will provide you with the F-statistic and p-value. You can interpret the results based on the significance of the p-value (e.g., using a predetermined significance level such as 0.05) to determine if there are any significant main effects or interaction effects between the software programs and employee experience level on the time to complete the task."
   ]
  },
  {
   "cell_type": "markdown",
   "id": "b5759c2a-dea2-42e7-9206-ceac593a1fbe",
   "metadata": {},
   "source": [
    "## Q11. An educational researcher is interested in whether a new teaching method improves student test scores. They randomly assign 100 students to either the control group (traditional teaching method) or the experimental group (new teaching method) and administer a test at the end of the semester. Conduct a two-sample t-test using Python to determine if there are any significant differences in test scores between the two groups. If the results are significant, follow up with a post-hoc test to determine which group(s) differ significantly from each other."
   ]
  },
  {
   "cell_type": "code",
   "execution_count": 3,
   "id": "aa1f06c3-8ebf-41e4-b340-9e95d07f96ed",
   "metadata": {},
   "outputs": [
    {
     "name": "stdout",
     "output_type": "stream",
     "text": [
      "t-statistic: -14.088769070110772\n",
      "p-value: 6.854416622217371e-32\n",
      "  Multiple Comparison of Means - Tukey HSD, FWER=0.05  \n",
      "=======================================================\n",
      " group1    group2    meandiff p-adj lower upper  reject\n",
      "-------------------------------------------------------\n",
      "Control Experimental   4.7753   0.0 4.107 5.4436   True\n",
      "-------------------------------------------------------\n"
     ]
    }
   ],
   "source": [
    "import numpy as np\n",
    "import scipy.stats as stats\n",
    "\n",
    "# Test scores for the control group (traditional teaching method)\n",
    "control_group = np.array([75, 80, 85, 78, 82, 79, 81, 76, 83, 77, 80, 79, 75, 78, 81, 82, 79, 77, 80, 78,\n",
    "                          83, 84, 81, 76, 78, 80, 75, 79, 82, 81, 80, 79, 78, 75, 77, 83, 81, 80, 82,\n",
    "                          79, 76, 75, 80, 78, 81, 82, 79, 77, 80, 78, 75, 77, 80, 76, 83, 78, 82, 79,\n",
    "                          81, 76, 80, 75, 79, 82, 81, 80, 79, 78, 75, 77, 83, 81, 80, 82, 79, 76, 75,\n",
    "                          80, 78, 81, 82, 79, 77, 80, 78, 75, 77, 80, 76, 83, 78, 82, 79, 81, 76, 80])\n",
    "\n",
    "# Test scores for the experimental group (new teaching method)\n",
    "experimental_group = np.array([80, 85, 88, 82, 86, 84, 87, 81, 85, 83, 84, 86, 80, 82, 87, 84, 82, 81, 86,\n",
    "                               83, 88, 86, 85, 81, 82, 84, 80, 83, 87, 86, 85, 84, 81, 82, 88, 86, 85,\n",
    "                               87, 84, 81, 80, 82, 86, 84, 87, 81, 85, 83, 84, 86, 80, 82, 87, 84, 82,\n",
    "                               81, 86, 83, 88, 86, 85, 81, 82, 84, 80, 83, 87, 86, 85, 84, 81, 82, 88,\n",
    "                               86, 85, 87, 84, 81, 80, 82, 86, 84, 87, 81, 85, 83, 84, 86, 80, 82, 87,\n",
    "                               84, 82, 81, 86, 83, 88, 86, 85, 81, 82, 84, 80, 83, 87, 86, 85, 84, 81])\n",
    "\n",
    "# Perform a two-sample t-test\n",
    "t_statistic, p_value = stats.ttest_ind(control_group, experimental_group)\n",
    "\n",
    "# Print the results\n",
    "print(\"t-statistic:\", t_statistic)\n",
    "print(\"p-value:\", p_value)\n",
    "\n",
    "# Perform a post-hoc test (e.g., Tukey's HSD) if the results are significant\n",
    "if p_value < 0.05:\n",
    "    from statsmodels.stats.multicomp import pairwise_tukeyhsd\n",
    "\n",
    "    all_scores = np.concatenate([control_group, experimental_group])\n",
    "    group_labels = ['Control'] * len(control_group) + ['Experimental'] * len(experimental_group)\n",
    "\n",
    "    posthoc = pairwise_tukeyhsd(all_scores, group_labels)\n",
    "    print(posthoc)\n"
   ]
  },
  {
   "cell_type": "markdown",
   "id": "9a246e49-ae71-4ba9-a438-b2092d51bd42",
   "metadata": {},
   "source": [
    "## Q12. A researcher wants to know if there are any significant differences in the average daily sales of three retail stores: Store A, Store B, and Store C. They randomly select 30 days and record the sales for each store on those days. Conduct a repeated measures ANOVA using Python to determine if there are any significant differences in sales between the three stores. If the results are significant, follow up with a post- hoc test to determine which store(s) differ significantly from each other."
   ]
  },
  {
   "cell_type": "code",
   "execution_count": 4,
   "id": "899165d7-a057-4d0d-8f5b-5ff6aa31b174",
   "metadata": {},
   "outputs": [
    {
     "name": "stdout",
     "output_type": "stream",
     "text": [
      "F-statistic: 23.727272727272727\n",
      "p-value: 5.9710914744220456e-09\n",
      "  Multiple Comparison of Means - Tukey HSD, FWER=0.05   \n",
      "========================================================\n",
      " group1  group2 meandiff p-adj   lower    upper   reject\n",
      "--------------------------------------------------------\n",
      "Store A Store B    -10.0 0.0025 -16.9228  -3.0772   True\n",
      "Store A Store C    -20.0    0.0 -26.9228 -13.0772   True\n",
      "Store B Store C    -10.0 0.0025 -16.9228  -3.0772   True\n",
      "--------------------------------------------------------\n"
     ]
    }
   ],
   "source": [
    "import numpy as np\n",
    "import scipy.stats as stats\n",
    "\n",
    "# Daily sales data for each store\n",
    "store_a = np.array([100, 120, 130, 110, 140, 130, 115, 125, 135, 110, 130, 120, 105, 140, 120,\n",
    "                    110, 130, 115, 125, 135, 110, 130, 120, 105, 140, 120, 110, 130, 115, 125])\n",
    "store_b = np.array([90, 110, 120, 100, 130, 120, 105, 115, 125, 100, 120, 110, 95, 130, 110,\n",
    "                    100, 120, 105, 115, 125, 100, 120, 110, 95, 130, 110, 100, 120, 105, 115])\n",
    "store_c = np.array([80, 100, 110, 90, 120, 110, 95, 105, 115, 90, 110, 100, 85, 120, 100,\n",
    "                    90, 110, 95, 105, 115, 90, 110, 100, 85, 120, 100, 90, 110, 95, 105])\n",
    "\n",
    "# Combine the data from all stores\n",
    "all_data = np.concatenate([store_a, store_b, store_c])\n",
    "\n",
    "# Create group labels for each store\n",
    "group_labels = ['Store A'] * len(store_a) + ['Store B'] * len(store_b) + ['Store C'] * len(store_c)\n",
    "\n",
    "# Perform the one-way ANOVA\n",
    "f_statistic, p_value = stats.f_oneway(store_a, store_b, store_c)\n",
    "\n",
    "# Print the results\n",
    "print(\"F-statistic:\", f_statistic)\n",
    "print(\"p-value:\", p_value)\n",
    "\n",
    "# Perform a post-hoc test (e.g., Tukey's HSD) if the results are significant\n",
    "if p_value < 0.05:\n",
    "    from statsmodels.stats.multicomp import pairwise_tukeyhsd\n",
    "\n",
    "    posthoc = pairwise_tukeyhsd(all_data, group_labels)\n",
    "    print(posthoc)\n"
   ]
  },
  {
   "cell_type": "code",
   "execution_count": null,
   "id": "240b8b04-8438-401e-861b-0e3eac04d828",
   "metadata": {},
   "outputs": [],
   "source": []
  }
 ],
 "metadata": {
  "kernelspec": {
   "display_name": "Python 3 (ipykernel)",
   "language": "python",
   "name": "python3"
  },
  "language_info": {
   "codemirror_mode": {
    "name": "ipython",
    "version": 3
   },
   "file_extension": ".py",
   "mimetype": "text/x-python",
   "name": "python",
   "nbconvert_exporter": "python",
   "pygments_lexer": "ipython3",
   "version": "3.10.8"
  }
 },
 "nbformat": 4,
 "nbformat_minor": 5
}
