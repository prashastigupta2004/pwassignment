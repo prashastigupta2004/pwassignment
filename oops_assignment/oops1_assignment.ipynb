{
 "cells": [
  {
   "cell_type": "markdown",
   "id": "e5136051-9668-40f3-b4f3-87392140f739",
   "metadata": {},
   "source": [
    "## Q1, Create a vehicle class with an init method having instance variables as name_of_vehicle, max_speed and average_of_vehicle."
   ]
  },
  {
   "cell_type": "code",
   "execution_count": 1,
   "id": "c57e2144-f08b-4ce7-8908-9473c4ce8cb8",
   "metadata": {},
   "outputs": [
    {
     "name": "stdout",
     "output_type": "stream",
     "text": [
      "Name of Vehicle: Toyota\n",
      "Max Speed: 180\n",
      "Average of Vehicle: 30\n"
     ]
    }
   ],
   "source": [
    "class Vehicle:\n",
    "    def __init__(self, name_of_vehicle, max_speed, average_of_vehicle):\n",
    "        self.name_of_vehicle = name_of_vehicle\n",
    "        self.max_speed = max_speed\n",
    "        self.average_of_vehicle = average_of_vehicle\n",
    "\n",
    "car = Vehicle(\"Toyota\", 180, 30)\n",
    "print(\"Name of Vehicle:\", car.name_of_vehicle)\n",
    "print(\"Max Speed:\", car.max_speed)\n",
    "print(\"Average of Vehicle:\", car.average_of_vehicle)\n"
   ]
  },
  {
   "cell_type": "markdown",
   "id": "01043976-5797-4bd8-9716-4302373f51a1",
   "metadata": {},
   "source": [
    "## Q2. Create a child class car from the vehicle class created in Que 1, which will inherit the vehicle class. Create a method named seating_capacity which takes capacity as an argument and returns the name of the vehicle and its seating capacity."
   ]
  },
  {
   "cell_type": "code",
   "execution_count": 2,
   "id": "aa65e03f-99ae-4ddc-8bb0-624cddfd494c",
   "metadata": {},
   "outputs": [
    {
     "name": "stdout",
     "output_type": "stream",
     "text": [
      "Toyota Camry has a seating capacity of 5.\n"
     ]
    }
   ],
   "source": [
    "class Vehicle:\n",
    "    def __init__(self, name_of_vehicle, max_speed, average_of_vehicle):\n",
    "        self.name_of_vehicle = name_of_vehicle\n",
    "        self.max_speed = max_speed\n",
    "        self.average_of_vehicle = average_of_vehicle\n",
    "\n",
    "class Car(Vehicle):\n",
    "    def seating_capacity(self, capacity):\n",
    "        return f\"{self.name_of_vehicle} has a seating capacity of {capacity}.\"\n",
    "\n",
    "car = Car(\"Toyota Camry\", 180, 30)\n",
    "print(car.seating_capacity(5))\n"
   ]
  },
  {
   "cell_type": "markdown",
   "id": "1fef47b2-16e9-427b-a1bd-b82dc100cdbf",
   "metadata": {},
   "source": [
    "## Q3. What is multiple inheritance? Write a python code to demonstrate multiple inheritance."
   ]
  },
  {
   "cell_type": "markdown",
   "id": "992d748f-fc83-4a03-aa58-10292a7d6ab2",
   "metadata": {},
   "source": [
    "Ans= Multiple inheritance is a feature in object-oriented programming where a class can inherit attributes and methods from more than one parent class. This allows a subclass to inherit from multiple superclasses. In Python, classes can inherit from multiple parent classes by listing them in parentheses after the class name."
   ]
  },
  {
   "cell_type": "code",
   "execution_count": 3,
   "id": "66d38e58-3dcc-4341-9a9f-7d8bf0cbc788",
   "metadata": {},
   "outputs": [
    {
     "name": "stdout",
     "output_type": "stream",
     "text": [
      "Method from Parent1\n",
      "Method from Parent2\n",
      "Method from Child\n"
     ]
    }
   ],
   "source": [
    "class Parent1:\n",
    "    def method1(self):\n",
    "        print(\"Method from Parent1\")\n",
    "\n",
    "class Parent2:\n",
    "    def method2(self):\n",
    "        print(\"Method from Parent2\")\n",
    "\n",
    "class Child(Parent1, Parent2):\n",
    "    def method3(self):\n",
    "        print(\"Method from Child\")\n",
    "\n",
    "child = Child()\n",
    "child.method1()  \n",
    "child.method2()  \n",
    "child.method3()  \n"
   ]
  },
  {
   "cell_type": "markdown",
   "id": "89c0af27-8e23-4451-a8b1-0a2decb60845",
   "metadata": {},
   "source": [
    "## Q4. What are getter and setter in python? Create a class and create a getter and a setter method in this class."
   ]
  },
  {
   "cell_type": "markdown",
   "id": "67d6002d-8f5d-4230-97b0-51bf531b06de",
   "metadata": {},
   "source": [
    "In Python, getters and setters are methods used to access and modify the private attributes of a class respectively. They provide a way to encapsulate the internal state of an object and control its access and modification."
   ]
  },
  {
   "cell_type": "code",
   "execution_count": 1,
   "id": "2b61e161-bb43-41e4-8a0f-6e86e86acf73",
   "metadata": {},
   "outputs": [
    {
     "name": "stdout",
     "output_type": "stream",
     "text": [
      "Value: 10\n"
     ]
    }
   ],
   "source": [
    "class MyClass:\n",
    "    def __init__(self):\n",
    "        self._value = None  # Private attribute with leading underscore convention\n",
    "    \n",
    "    # Getter method to retrieve the value\n",
    "    def get_value(self):\n",
    "        return self._value\n",
    "    \n",
    "    # Setter method to modify the value\n",
    "    def set_value(self, new_value):\n",
    "        self._value = new_value\n",
    "\n",
    "obj = MyClass()\n",
    "\n",
    "# Setting the value using the setter method\n",
    "obj.set_value(10)\n",
    "\n",
    "# Getting the value using the getter method\n",
    "print(\"Value:\", obj.get_value())  \n"
   ]
  },
  {
   "cell_type": "markdown",
   "id": "1c9413a6-d084-44d7-b7ff-95bb1437aae8",
   "metadata": {},
   "source": [
    "## Q5.What is method overriding in python? Write a python code to demonstrate method overriding."
   ]
  },
  {
   "cell_type": "markdown",
   "id": "0ba1664b-15f8-42af-89a1-b6b90ab5fd5e",
   "metadata": {},
   "source": [
    "Method overriding is a concept in object-oriented programming where a subclass provides a specific implementation of a method that is already defined in its superclass. This allows the subclass to customize or extend the behavior of the inherited method."
   ]
  },
  {
   "cell_type": "code",
   "execution_count": null,
   "id": "69552eee-0a8d-4ff7-bc28-2698e31d22a1",
   "metadata": {},
   "outputs": [],
   "source": [
    "class Parent:\n",
    "    def method(self):\n",
    "        print(\"Parent's method\")\n",
    "\n",
    "class Child(Parent):\n",
    "    def method(self):\n",
    "        print(\"Child's method\")\n",
    "\n",
    "parent = Parent()\n",
    "child = Child()\n",
    "\n",
    "parent.method()  # Output: Parent's method\n",
    "child.method()   # Output: Child's method\n"
   ]
  }
 ],
 "metadata": {
  "kernelspec": {
   "display_name": "Python 3 (ipykernel)",
   "language": "python",
   "name": "python3"
  },
  "language_info": {
   "codemirror_mode": {
    "name": "ipython",
    "version": 3
   },
   "file_extension": ".py",
   "mimetype": "text/x-python",
   "name": "python",
   "nbconvert_exporter": "python",
   "pygments_lexer": "ipython3",
   "version": "3.10.8"
  }
 },
 "nbformat": 4,
 "nbformat_minor": 5
}
