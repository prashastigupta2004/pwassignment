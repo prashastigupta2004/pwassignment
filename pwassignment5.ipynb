{
 "cells": [
  {
   "cell_type": "markdown",
   "id": "503f646e-b628-47d7-882f-0d3df9c90613",
   "metadata": {},
   "source": [
    "## Q1. Explain Class and Object with respect to Object-Oriented Programming. Give a suitable example.\n",
    "\n",
    "Ans=A class in python is considered as a blueprint of objects, we can use class keyword to create class.Example:\n",
    "\n",
    "class Fruits:\n",
    "\n",
    "     name=\"apple\"\n",
    "     \n",
    "     colour=\"red\"\n",
    "     \n",
    "An object in python is instance of a class.Example:\n",
    "\n",
    "class Fruits:\n",
    "\n",
    "    name=\"apple\"\n",
    "    \n",
    "    colour=\"red\"\n",
    "\n",
    "fruit1= Fruits()"
   ]
  },
  {
   "cell_type": "markdown",
   "id": "f41d496f-30ad-47c3-95ab-2b2349067179",
   "metadata": {},
   "source": [
    "## Q2. Name the four pillars of OOPs.\n",
    "\n",
    "Ans= The four pillars of OOPs are data abstraction,encapsulation,inheritance and polymorphism.\n",
    "\n",
    "Data abstraction is the process of hiding unnecessary details of an object.\n",
    "\n",
    "Encapsulation is process of binding data and function into single unit.\n",
    "\n",
    "Inheritance is the ability to create a new class from existing class.\n",
    "\n",
    "Polymorphism is the ability of an object to take on multiple form."
   ]
  },
  {
   "cell_type": "markdown",
   "id": "b9324f55-9ca6-4ecd-b5ee-8c268e15c98c",
   "metadata": {},
   "source": [
    "## Q3. Explain why the __init__() function is used. Give a suitable example.\n",
    "\n",
    "Ans=It is also known as constructor it is called when object is created from class and used to initialize the attributes of class.Example:\n",
    "    \n",
    "    class Bike:\n",
    "        \n",
    "        def __init__(self,name):\n",
    "            \n",
    "            self.name=name\n",
    "            \n",
    "            print(\"first\")\n",
    "            \n",
    "        def product(self):\n",
    "            \n",
    "            print(\"second\")\n",
    "            \n",
    "            return(\"Name:\" +self.name)\n",
    "        \n",
    "    B=Bike('KTM')\n",
    "    \n",
    "    print(B.product())"
   ]
  },
  {
   "cell_type": "markdown",
   "id": "48d668d9-bb80-45d2-87eb-92f6369763c2",
   "metadata": {},
   "source": [
    "## Q4. Why self is used in OOPs?\n",
    "\n",
    "Ans= Self is used to represent the instance of class with this we can access attribute of class in python."
   ]
  },
  {
   "cell_type": "code",
   "execution_count": null,
   "id": "a5d0c702-252c-48a0-844b-31f1db83a66e",
   "metadata": {},
   "outputs": [],
   "source": [
    "## Q5. What is inheritance? Give an example for each type of inheritance.\n",
    "\n",
    "Ans= Inheritance is the ability to create a new class from existing class, it inherits all the method and properties of that class. Parent class is the class from which the class is inherited\n",
    "and child class is class that inherits from another class.Example:\n",
    "    \n",
    "class Animal:\n",
    "    \n",
    "    def talking(self):\n",
    "        print(\"talking\")\n",
    "class Dog(Animal)"
   ]
  }
 ],
 "metadata": {
  "kernelspec": {
   "display_name": "Python 3 (ipykernel)",
   "language": "python",
   "name": "python3"
  },
  "language_info": {
   "codemirror_mode": {
    "name": "ipython",
    "version": 3
   },
   "file_extension": ".py",
   "mimetype": "text/x-python",
   "name": "python",
   "nbconvert_exporter": "python",
   "pygments_lexer": "ipython3",
   "version": "3.10.8"
  }
 },
 "nbformat": 4,
 "nbformat_minor": 5
}
