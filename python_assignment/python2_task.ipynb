{
 "cells": [
  {
   "cell_type": "markdown",
   "id": "c9712da5-d2ea-4c71-812d-34c91559a1d9",
   "metadata": {},
   "source": [
    "## Q1. You are writing code for a company. The requirement of the company is that you create a python function that will check whether the password entered by the user is correct or not. The function should take the password as input and return the string “Valid Password” if the entered password follows the below-given password guidelines else it should return “Invalid Password”.\n",
    "Note: 1. The Password should contain at least two uppercase letters and at least two lowercase letters.\n",
    "\n",
    "2. The Password should contain at least a number and three special characters.\n",
    "\n",
    "3. The length of the password should be 10 characters long."
   ]
  },
  {
   "cell_type": "code",
   "execution_count": 1,
   "id": "0b8632ec-574d-4708-8b7f-a0ab3784b8b2",
   "metadata": {},
   "outputs": [
    {
     "name": "stdout",
     "output_type": "stream",
     "text": [
      "Invalid Password\n",
      "Invalid Password\n",
      "Invalid Password\n"
     ]
    }
   ],
   "source": [
    "import re\n",
    "\n",
    "def check_password(password):\n",
    "    # Check if password length is 10 characters\n",
    "    if len(password) != 10:\n",
    "        return \"Invalid Password\"\n",
    "    \n",
    "    # Check if password contains at least two uppercase letters\n",
    "    if len(re.findall(r'[A-Z]', password)) < 2:\n",
    "        return \"Invalid Password\"\n",
    "    \n",
    "    # Check if password contains at least two lowercase letters\n",
    "    if len(re.findall(r'[a-z]', password)) < 2:\n",
    "        return \"Invalid Password\"\n",
    "    \n",
    "    # Check if password contains at least one number\n",
    "    if len(re.findall(r'[0-9]', password)) < 1:\n",
    "        return \"Invalid Password\"\n",
    "    \n",
    "    # Check if password contains at least three special characters\n",
    "    if len(re.findall(r'[!@#$%^&*()_+{}|:\"<>?`~\\-=[\\]\\\\;\\',./]', password)) < 3:\n",
    "        return \"Invalid Password\"\n",
    "    \n",
    "    # If all conditions are met, return \"Valid Password\"\n",
    "    return \"Valid Password\"\n",
    "\n",
    "# Test the function with different passwords\n",
    "print(check_password(\"Password1@\"))  # Output: Invalid Password\n",
    "print(check_password(\"P@ssword123\")) # Output: Invalid Password\n",
    "print(check_password(\"P@ssw0rd123\")) # Output: Valid Password\n"
   ]
  },
  {
   "cell_type": "markdown",
   "id": "d969b47b-7909-4fce-b51e-d3dd6d337d7b",
   "metadata": {},
   "source": [
    "## Q2. Solve the below-given questions using at least one of the following:\n",
    "1. Lambda functioJ\n",
    "2. Filter functioJ\n",
    "3. Zap functioJ\n",
    "4. List ComprehensioI\n",
    "- Check if the string starts with a particular letter"
   ]
  },
  {
   "cell_type": "code",
   "execution_count": 2,
   "id": "dc4c845a-7c04-4de9-8fc7-56d5b476ee14",
   "metadata": {},
   "outputs": [
    {
     "name": "stdout",
     "output_type": "stream",
     "text": [
      "True\n",
      "False\n"
     ]
    }
   ],
   "source": [
    "# Using lambda function\n",
    "starts_with_letter = lambda s, letter: s.startswith(letter)\n",
    "\n",
    "# Test\n",
    "print(starts_with_letter(\"hello\", \"h\")) \n",
    "print(starts_with_letter(\"world\", \"h\"))  \n"
   ]
  },
  {
   "cell_type": "markdown",
   "id": "e72f67f1-ea01-4197-8ff9-978ea34fdba2",
   "metadata": {},
   "source": [
    "- Check if the string is numeric:"
   ]
  },
  {
   "cell_type": "code",
   "execution_count": 3,
   "id": "35fd221a-6264-49ba-b77b-ed2cee85d8db",
   "metadata": {},
   "outputs": [
    {
     "name": "stdout",
     "output_type": "stream",
     "text": [
      "True\n",
      "False\n"
     ]
    }
   ],
   "source": [
    "# Using lambda function\n",
    "is_numeric = lambda s: s.isnumeric()\n",
    "\n",
    "# Test\n",
    "print(is_numeric(\"123\"))  \n",
    "print(is_numeric(\"abc\"))  \n"
   ]
  },
  {
   "cell_type": "markdown",
   "id": "2eeac47c-6fff-4cc1-ad87-abe65d50de51",
   "metadata": {},
   "source": [
    "- Sort a list of tuples having fruit names and their quantity:"
   ]
  },
  {
   "cell_type": "code",
   "execution_count": 4,
   "id": "cec587ca-fd75-45f1-b05d-468ffbe28115",
   "metadata": {},
   "outputs": [
    {
     "name": "stdout",
     "output_type": "stream",
     "text": [
      "[('orange', 80), ('mango', 99), ('grapes', 1000)]\n"
     ]
    }
   ],
   "source": [
    "# Using list comprehension\n",
    "fruits = [(\"mango\",99),(\"orange\",80), (\"grapes\", 1000)]\n",
    "sorted_fruits = sorted(fruits, key=lambda x: x[1])\n",
    "\n",
    "# Test\n",
    "print(sorted_fruits)  \n"
   ]
  },
  {
   "cell_type": "markdown",
   "id": "b4fcb278-d08d-4e9f-b248-d795a6a2bd48",
   "metadata": {},
   "source": [
    "- Find the squares of numbers from 1 to 10:"
   ]
  },
  {
   "cell_type": "code",
   "execution_count": 5,
   "id": "4e2894e4-7e6f-4027-86d1-b9a18e7ef911",
   "metadata": {},
   "outputs": [
    {
     "name": "stdout",
     "output_type": "stream",
     "text": [
      "[1, 4, 9, 16, 25, 36, 49, 64, 81, 100]\n"
     ]
    }
   ],
   "source": [
    "# Using list comprehension\n",
    "squares = [x**2 for x in range(1, 11)]\n",
    "print(squares)  \n"
   ]
  },
  {
   "cell_type": "markdown",
   "id": "3bdb9e59-a711-44a1-b8ee-72f5857cfa97",
   "metadata": {},
   "source": [
    "- Find the cube root of numbers from 1 to 10:"
   ]
  },
  {
   "cell_type": "code",
   "execution_count": 6,
   "id": "92afad1d-3eb7-407c-bf54-90aa6a09a773",
   "metadata": {},
   "outputs": [
    {
     "name": "stdout",
     "output_type": "stream",
     "text": [
      "[1.0, 1.2599210498948732, 1.4422495703074083, 1.5874010519681994, 1.7099759466766968, 1.8171205928321397, 1.912931182772389, 2.0, 2.080083823051904, 2.154434690031884]\n"
     ]
    }
   ],
   "source": [
    "# Using list comprehension\n",
    "cube_roots = [x**(1/3) for x in range(1, 11)]\n",
    "print(cube_roots)\n"
   ]
  },
  {
   "cell_type": "markdown",
   "id": "3eba8458-2d45-49f8-9422-de53885b5f21",
   "metadata": {},
   "source": [
    "- Check if a given number is even:"
   ]
  },
  {
   "cell_type": "code",
   "execution_count": 7,
   "id": "fe25af60-13c9-4573-8a77-4763e18a1999",
   "metadata": {},
   "outputs": [
    {
     "name": "stdout",
     "output_type": "stream",
     "text": [
      "True\n",
      "False\n"
     ]
    }
   ],
   "source": [
    "# Using lambda function\n",
    "is_even = lambda num: num % 2 == 0\n",
    "\n",
    "# Test\n",
    "print(is_even(10))  \n",
    "print(is_even(7))   \n"
   ]
  },
  {
   "cell_type": "markdown",
   "id": "a8ffbd54-198c-429c-b7c8-7ec2c3c28656",
   "metadata": {},
   "source": [
    "- Filter odd numbers from the given list:"
   ]
  },
  {
   "cell_type": "code",
   "execution_count": 8,
   "id": "9fa94d6b-03bf-4b87-998f-d13341c6d59f",
   "metadata": {},
   "outputs": [
    {
     "name": "stdout",
     "output_type": "stream",
     "text": [
      "[1, 3, 5, 7, 9]\n"
     ]
    }
   ],
   "source": [
    "# Using filter function\n",
    "numbers = [1,2,3,4,5,6,7,8,9,10]\n",
    "odd_numbers = list(filter(lambda x: x % 2 != 0, numbers))\n",
    "print(odd_numbers)  \n"
   ]
  },
  {
   "cell_type": "markdown",
   "id": "8e4c7f75-30c8-485e-a86f-bc17fa92fd5b",
   "metadata": {},
   "source": [
    "- Sort a list of integers into positive and negative integers lists:"
   ]
  },
  {
   "cell_type": "code",
   "execution_count": 9,
   "id": "cbf08dac-d1e6-406c-9179-2da831601f8a",
   "metadata": {},
   "outputs": [
    {
     "name": "stdout",
     "output_type": "stream",
     "text": [
      "[1, 2, 3, 4, 5, 6]\n",
      "[-1, -2, -3, -4, -5]\n"
     ]
    }
   ],
   "source": [
    "# Using list comprehension\n",
    "numbers = [1,2,3,4,5,6,-1,-2,-3,-4,-5,0]\n",
    "positive_numbers = [x for x in numbers if x > 0]\n",
    "negative_numbers = [x for x in numbers if x < 0]\n",
    "\n",
    "print(positive_numbers)  \n",
    "# Output: [1, 2, 3, 4, 5, 6]\n",
    "print(negative_numbers)  \n",
    "# Output: [-1, -2, -3, -4, -5]\n"
   ]
  },
  {
   "cell_type": "code",
   "execution_count": null,
   "id": "7c0b1e0c-350f-4d90-8f94-a13ccee413b5",
   "metadata": {},
   "outputs": [],
   "source": []
  }
 ],
 "metadata": {
  "kernelspec": {
   "display_name": "Python 3 (ipykernel)",
   "language": "python",
   "name": "python3"
  },
  "language_info": {
   "codemirror_mode": {
    "name": "ipython",
    "version": 3
   },
   "file_extension": ".py",
   "mimetype": "text/x-python",
   "name": "python",
   "nbconvert_exporter": "python",
   "pygments_lexer": "ipython3",
   "version": "3.10.8"
  }
 },
 "nbformat": 4,
 "nbformat_minor": 5
}
