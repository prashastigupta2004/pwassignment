{
 "cells": [
  {
   "cell_type": "markdown",
   "id": "4b23cd7b-71f5-455f-bed5-e61727af988a",
   "metadata": {},
   "source": [
    "## Q1 who developed python programming language?"
   ]
  },
  {
   "cell_type": "markdown",
   "id": "ee2f2bbc-d8dd-4374-a21f-45d8b32c5f6f",
   "metadata": {},
   "source": [
    "Ans= \n",
    "Python was created by Guido van Rossum, a Dutch programmer, in the late 1980s. He started working on Python in December 1989, and the first version, Python 0.9.0, was released in February 1991. Guido van Rossum remained the principal author of Python until he retired from his role as the \"Benevolent Dictator For Life\" (BDFL) in July 2018. "
   ]
  },
  {
   "cell_type": "markdown",
   "id": "e7baace8-cbc1-47dd-865a-e885bc10f662",
   "metadata": {},
   "source": [
    "## Q2  Which type of Programming does Python support? "
   ]
  },
  {
   "cell_type": "markdown",
   "id": "77c44bdd-bbec-4eb1-9de1-bd9837c197b9",
   "metadata": {},
   "source": [
    "Ans= Procedural Programming: Python supports procedural programming, where programs are structured as a series of steps or procedures that operate on data. It allows you to define functions and execute them in sequence to achieve the desired outcome.\n",
    "\n",
    "Object-Oriented Programming (OOP): Python has robust support for object-oriented programming, allowing you to create classes, objects, inheritance, encapsulation, and polymorphism. This paradigm helps in organizing code into reusable and maintainable components."
   ]
  },
  {
   "cell_type": "markdown",
   "id": "18e8e185-d493-424e-9bb9-141dd815fd2b",
   "metadata": {},
   "source": [
    "## Q3 Is Python case sensitive when dealing with identifiers? "
   ]
  },
  {
   "cell_type": "markdown",
   "id": "aa8a1a11-b105-4d6f-876c-1846abf72ca4",
   "metadata": {},
   "source": [
    "Ans= Yes, Python is case-sensitive when dealing with identifiers. This means that Python treats identifiers such as variable names, function names, class names, and other names as distinct based on their case. For example, variables myVar, MyVar, and myvar would be considered as three separate identifiers."
   ]
  },
  {
   "cell_type": "markdown",
   "id": "350c96b4-0c83-45fe-95f5-91c9f69a22e6",
   "metadata": {},
   "source": [
    "## Q4  What is the correct extension of the Python file? "
   ]
  },
  {
   "cell_type": "markdown",
   "id": "f93c8bf3-9fd5-4d18-aee1-c77412b3d34a",
   "metadata": {},
   "source": [
    "Ans= The correct extension for a Python file is .py."
   ]
  },
  {
   "cell_type": "markdown",
   "id": "b898a5d9-454f-4cc9-96e3-0e35fa20200f",
   "metadata": {},
   "source": [
    "## Q5. Is Python code compiled or interpreted? "
   ]
  },
  {
   "cell_type": "markdown",
   "id": "f180ce19-be89-43d8-bcbb-4e1fdfbb62d5",
   "metadata": {},
   "source": [
    "Ans= Python code is typically interpreted rather than compiled.\n",
    "\n",
    "When you execute a Python script, the Python interpreter reads the source code line by line and executes it directly without compiling it into machine code beforehand. This means that Python code is executed dynamically, with each line being interpreted and executed at runtime."
   ]
  },
  {
   "cell_type": "markdown",
   "id": "af7856be-df56-4549-aa9d-4ea294719a0a",
   "metadata": {},
   "source": [
    "## Q6. Name a few blocks of code used to define in Python language? "
   ]
  },
  {
   "cell_type": "markdown",
   "id": "1ad4c14f-b85b-43df-a495-0541d58b352a",
   "metadata": {},
   "source": [
    "Ans= In Python, code blocks are defined by indentation rather than explicit block delimiters such as braces ({ }) like in many other programming languages. Here are a few examples of code blocks used in Python:\n",
    "\n",
    "Function Definition: Functions in Python are defined using the def keyword followed by the function name and a colon (:). The block of code inside the function is indented."
   ]
  },
  {
   "cell_type": "code",
   "execution_count": 1,
   "id": "fc7ecf43-5721-47af-a7d2-7839367f9872",
   "metadata": {},
   "outputs": [],
   "source": [
    "def my_function():\n",
    "    # Code block of the function\n",
    "    print(\"Hello, World!\")\n"
   ]
  },
  {
   "cell_type": "markdown",
   "id": "f812cd5a-ceca-45f0-b524-1ec363c780f3",
   "metadata": {},
   "source": [
    "Conditional Statements: Conditional statements such as if, elif, and else define code blocks that execute conditionally based on the result of expressions. The block of code inside each branch is indented."
   ]
  },
  {
   "cell_type": "code",
   "execution_count": null,
   "id": "cbea8bd2-621d-47ef-9c4e-b0e3ee6bec5b",
   "metadata": {},
   "outputs": [],
   "source": [
    "if condition:\n",
    "    # Code block if condition is True\n",
    "    print(\"Condition is True\")\n",
    "elif another_condition:\n",
    "    # Code block if another_condition is True\n",
    "    print(\"Another condition is True\")\n",
    "else:\n",
    "    # Code block if none of the conditions are True\n",
    "    print(\"No condition is True\")\n"
   ]
  },
  {
   "cell_type": "markdown",
   "id": "7e338f6c-17c3-46e2-8311-e324c98ec9e6",
   "metadata": {},
   "source": [
    "Q7.  State a character used to give single-line comments in Python? "
   ]
  },
  {
   "cell_type": "markdown",
   "id": "4876cdbc-369e-48c5-91ce-4603098f3874",
   "metadata": {},
   "source": [
    "Ans= In Python, the character # is used to indicate a single-line comment. Anything following the # symbol on a line is considered as a comment and is ignored by the Python interpreter."
   ]
  },
  {
   "cell_type": "markdown",
   "id": "2a5655b0-23ac-46c6-b9bf-9a8d3177f1dd",
   "metadata": {},
   "source": [
    "## Q8. Mention functions which can help us to find the version of python that we are currently working on? "
   ]
  },
  {
   "cell_type": "markdown",
   "id": "12db7a3c-d95d-4598-b4ab-d669b0808e2e",
   "metadata": {},
   "source": [
    "Ans= sys.version: The sys module provides access to some variables used or maintained by the Python interpreter and to functions that interact strongly with the interpreter. You can use sys.version to get the Python version as a string."
   ]
  },
  {
   "cell_type": "code",
   "execution_count": null,
   "id": "16c1a37f-0918-4c9a-996e-96f37a3b1a58",
   "metadata": {},
   "outputs": [],
   "source": [
    "import sys\n",
    "print(sys.version)"
   ]
  },
  {
   "cell_type": "markdown",
   "id": "f979121a-6ab2-477a-8e68-ef60b5e4eb9d",
   "metadata": {},
   "source": [
    "## Q9. Python supports the creation of anonymous functions at runtime, using a construct called"
   ]
  },
  {
   "cell_type": "markdown",
   "id": "508f12d4-40f8-4255-89bf-52cc66b563cf",
   "metadata": {},
   "source": [
    "Ans= Python supports the creation of anonymous functions at runtime using a construct called \"lambda\" functions.\n",
    "\n",
    "Lambda functions are small, inline functions that can have any number of parameters, but can only have one expression. They are defined using the lambda keyword, followed by a comma-separated list of parameters (if any), followed by a colon (:), and then the expression to be evaluated."
   ]
  },
  {
   "cell_type": "markdown",
   "id": "0ec70b81-a2b4-4a1f-9500-24eb0582eae6",
   "metadata": {},
   "source": [
    "## Q10. What does pip stand for python? "
   ]
  },
  {
   "cell_type": "markdown",
   "id": "bb2f2bc7-f795-4891-8724-0871d346efb5",
   "metadata": {},
   "source": [
    "Ans= PIP stands for \"Pip Installs Packages\" or \"Pip Installs Python\". It is the package installer for Python, used to install and manage software packages written in Python. PIP is a command-line tool that interacts with the Python Package Index (PyPI) to download and install Python packages from a central repository."
   ]
  },
  {
   "cell_type": "markdown",
   "id": "72200762-ef78-47bc-bce2-9a5ed2a6c70f",
   "metadata": {},
   "source": [
    "## Q11. Mention a few built-in functions in python? "
   ]
  },
  {
   "cell_type": "markdown",
   "id": "780b2c83-5aca-4e9f-bc42-e0c88b95a26c",
   "metadata": {},
   "source": [
    "Ans= Here are a few commonly used built-in functions in Python:\n",
    "\n",
    "print(): Used to display output to the console.\n",
    "\n",
    "len(): Returns the length (number of items) of an object.\n",
    "\n",
    "input(): Reads input from the user via the console.\n",
    "\n",
    "range(): Generates a sequence of numbers.\n",
    "\n",
    "type(): Returns the type of an object.\n",
    "\n",
    "str(): Converts an object to a string.\n",
    "\n",
    "int(): Converts a string or a number to an integer.\n",
    "\n",
    "float(): Converts a string or a number to a floating-point number.\n",
    "\n",
    "list(): Converts an iterable to a list.\n",
    "\n",
    "dict(): Creates a new dictionary."
   ]
  },
  {
   "cell_type": "markdown",
   "id": "39c9b12b-30cb-4759-83d8-1bea98428785",
   "metadata": {},
   "source": [
    "## Q12. What is the maximum possible length of an identifier in Python? "
   ]
  },
  {
   "cell_type": "markdown",
   "id": "98a13a92-f03a-42a6-a945-aa09eb5993d2",
   "metadata": {},
   "source": [
    "Ans= In Python, the maximum possible length of an identifier (i.e., the name of a variable, function, class, etc.) is not explicitly defined. However, Python's official documentation states that the maximum length of an identifier is limited by the maximum size of a Unicode string, which is currently 2^31 - 1 (or 2,147,483,647) characters."
   ]
  },
  {
   "cell_type": "markdown",
   "id": "3678192c-fd08-489a-9801-f1e0f17d36f3",
   "metadata": {},
   "source": [
    "## Q13. What are the benefits of using Python? "
   ]
  },
  {
   "cell_type": "markdown",
   "id": "6f76876f-8b61-412a-98db-201ef3ecfd5b",
   "metadata": {},
   "source": [
    "Ans= Python is a powerful and versatile programming language that offers numerous benefits, making it a popular choice for a wide range of applications. Some of the key benefits of using Python include:\n",
    "\n",
    "- Simple and Readable Syntax: Python's syntax is clear, concise, and easy to read, which makes it accessible to beginners and experienced developers alike. Its readability helps in writing and maintaining clean and understandable code.\n",
    "\n",
    "- Extensive Standard Library: Python comes with a rich set of modules and libraries in its standard library, providing solutions to a wide range of programming tasks without needing to install third-party libraries.\n",
    "\n",
    "- Versatility and Flexibility: Python supports multiple programming paradigms, including procedural, object-oriented, and functional programming, allowing developers to choose the most suitable approach for their projects. Its versatility makes it suitable for a wide range of applications, from scripting and automation to web development and scientific computing.\n",
    "\n",
    "- Ease of Learning and Rapid Development: Python's simple syntax, clear semantics, and extensive documentation make it easy to learn, even for those new to programming. Its high-level abstractions and built-in data structures facilitate rapid development, enabling developers to write code quickly and efficiently."
   ]
  },
  {
   "cell_type": "markdown",
   "id": "02df0f6f-9741-427b-8290-b46babb390ee",
   "metadata": {},
   "source": [
    "## Q14. How is memory managed in Python? "
   ]
  },
  {
   "cell_type": "markdown",
   "id": "879facae-7557-4685-b3fe-028ef38daa7a",
   "metadata": {},
   "source": [
    "Ans= In Python, memory management is handled by a private heap space managed by the Python Memory Manager. Python's memory manager uses a combination of reference counting and garbage collection to automatically manage memory allocation and deallocation. Reference counting tracks the number of references to each object in memory, and objects are deallocated as soon as their reference count drops to zero. Additionally, Python employs a garbage collector that periodically sweeps through memory to identify and collect objects that are no longer reachable or referenced, freeing up memory for reuse. This automated memory management system simplifies memory handling for developers, allowing them to focus on writing code without needing to manually allocate or deallocate memory."
   ]
  },
  {
   "cell_type": "markdown",
   "id": "e2096aa1-9792-40c0-91ca-9ad29104d0cb",
   "metadata": {},
   "source": [
    "## Q15. How to install Python on Windows and set path variables? "
   ]
  },
  {
   "cell_type": "markdown",
   "id": "2b542e53-a155-49b2-bb96-a78db7904728",
   "metadata": {},
   "source": [
    "Ans= To install Python on Windows and set path variables:\n",
    "\n",
    "Download Python Installer:\n",
    "Visit the official Python website at https://www.python.org/downloads/ and download the latest version of the Python installer for Windows. Choose the appropriate installer based on your system architecture (32-bit or 64-bit) and Python version (Python 3.x recommended).\n",
    "\n",
    "Run Python Installer:\n",
    "Once the installer is downloaded, double-click on the installer executable (.exe) file to run it. Follow the installation wizard instructions to install Python on your system. Make sure to check the option \"Add Python to PATH\" during the installation process. This option will automatically set the PATH variable for you.\n",
    "\n",
    "Verify Python Installation:\n",
    "After the installation is complete, open a command prompt and type python --version or python3 --version to verify that Python is installed correctly. You should see the installed Python version printed in the command prompt.\n",
    "\n"
   ]
  },
  {
   "cell_type": "markdown",
   "id": "bb906aa3-b0ce-462a-b2dc-c0f224eb7c62",
   "metadata": {},
   "source": [
    "## Q16. Is indentation required in python? "
   ]
  },
  {
   "cell_type": "markdown",
   "id": "dbe32e3d-3e19-4366-840f-175c714c95c7",
   "metadata": {},
   "source": [
    "Ans= Indentation is indeed required in Python. Python uses indentation to define blocks of code (such as in loops, conditional statements, and function definitions) instead of using braces ({}) or other explicit block delimiters like in many other programming languages. Incorrect indentation can lead to syntax errors or change the semantics of the code. Therefore, proper indentation is crucial in Python for the code to be executed correctly."
   ]
  },
  {
   "cell_type": "code",
   "execution_count": null,
   "id": "a100acfd-40d8-4e86-88d1-8b151b4fb430",
   "metadata": {},
   "outputs": [],
   "source": []
  }
 ],
 "metadata": {
  "kernelspec": {
   "display_name": "Python 3 (ipykernel)",
   "language": "python",
   "name": "python3"
  },
  "language_info": {
   "codemirror_mode": {
    "name": "ipython",
    "version": 3
   },
   "file_extension": ".py",
   "mimetype": "text/x-python",
   "name": "python",
   "nbconvert_exporter": "python",
   "pygments_lexer": "ipython3",
   "version": "3.10.8"
  }
 },
 "nbformat": 4,
 "nbformat_minor": 5
}
