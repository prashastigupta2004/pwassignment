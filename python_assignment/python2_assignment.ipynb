{
 "cells": [
  {
   "cell_type": "markdown",
   "id": "157fc5f6-0ea3-49a0-9a0f-733fa7009b2a",
   "metadata": {},
   "source": [
    "## Q1. Write a program to accept percentage from the user and display the grade according to the following "
   ]
  },
  {
   "cell_type": "code",
   "execution_count": null,
   "id": "099ddd47-f664-454f-aa63-a48b4a6bee65",
   "metadata": {},
   "outputs": [],
   "source": [
    "def calculate_grade(percentage):\n",
    "    if percentage > 90:\n",
    "        return 'A'\n",
    "    elif percentage > 80:\n",
    "        return 'B'\n",
    "    elif percentage >= 60:\n",
    "        return 'C'\n",
    "    else:\n",
    "        return 'D'\n",
    "\n",
    "def main():\n",
    "    try:\n",
    "        percentage = float(input(\"Enter percentage: \"))\n",
    "        if percentage < 0 or percentage > 100:\n",
    "            print(\"Percentage must be between 0 and 100.\")\n",
    "        else:\n",
    "            grade = calculate_grade(percentage)\n",
    "            print(\"Grade:\", grade)\n",
    "    except ValueError:\n",
    "        print(\"Invalid input. Please enter a valid percentage.\")\n",
    "\n",
    "if __name__ == \"__main__\":\n",
    "    main()\n"
   ]
  },
  {
   "cell_type": "markdown",
   "id": "29a2cae1-b13a-4fc4-a138-f8ade82ee207",
   "metadata": {},
   "source": [
    "## Q2. Write a program to accept the cost price of a bike and display the road tax to be paid according to the following criteria: \n",
    "\n"
   ]
  },
  {
   "cell_type": "code",
   "execution_count": null,
   "id": "e0faef99-ae65-49c9-ab45-eed4b64e5654",
   "metadata": {},
   "outputs": [],
   "source": [
    "def calculate_road_tax(cost_price):\n",
    "    if cost_price > 100000:\n",
    "        return 0.15 * cost_price\n",
    "    elif cost_price > 50000:\n",
    "        return 0.10 * cost_price\n",
    "    else:\n",
    "        return 0.05 * cost_price\n",
    "\n",
    "def main():\n",
    "    try:\n",
    "        cost_price = float(input(\"Enter the cost price of the bike (in Rs): \"))\n",
    "        if cost_price < 0:\n",
    "            print(\"Cost price cannot be negative.\")\n",
    "        else:\n",
    "            road_tax = calculate_road_tax(cost_price)\n",
    "            print(\"Road tax to be paid: Rs\", road_tax)\n",
    "    except ValueError:\n",
    "        print(\"Invalid input. Please enter a valid cost price.\")\n",
    "\n",
    "if __name__ == \"__main__\":\n",
    "    main()"
   ]
  },
  {
   "cell_type": "markdown",
   "id": "aa2b2055-c63b-496d-8252-d92021dfe98b",
   "metadata": {},
   "source": [
    "## Q3. Accept any city from the user and display monuments of that city. "
   ]
  },
  {
   "cell_type": "code",
   "execution_count": null,
   "id": "92e0ccde-96b5-4268-8a6e-c177f8d11cf4",
   "metadata": {},
   "outputs": [],
   "source": [
    "def display_monuments(city):\n",
    "    monuments = {\n",
    "        'Delhi': ['Red Fort', 'Taj Mahal'],\n",
    "        'Agra': ['Taj Mahal'],\n",
    "        'Jaipur': ['Jal Mahal']\n",
    "    }\n",
    "    if city in monuments:\n",
    "        print(\"Monuments in\", city + \":\")\n",
    "        for monument in monuments[city]:\n",
    "            print(\"-\", monument)\n",
    "    else:\n",
    "        print(\"No monuments found for\", city)\n",
    "\n",
    "def main():\n",
    "    city = input(\"Enter a city: \")\n",
    "    display_monuments(city)\n",
    "\n",
    "if __name__ == \"__main__\":\n",
    "    main()\n"
   ]
  },
  {
   "cell_type": "markdown",
   "id": "120cec7a-8dcd-41b6-a135-de276e50e56a",
   "metadata": {},
   "source": [
    "## Q4. Check how many times a given number can be divided by 3 before it is less than or equal to 10. \n"
   ]
  },
  {
   "cell_type": "code",
   "execution_count": null,
   "id": "d26293b3-2437-47c1-9b76-6844929f3c1c",
   "metadata": {},
   "outputs": [],
   "source": [
    "def count_divisions(num):\n",
    "    count = 0\n",
    "    while num > 10:\n",
    "        num /= 3\n",
    "        count += 1\n",
    "    return count\n",
    "\n",
    "def main():\n",
    "    try:\n",
    "        num = float(input(\"Enter a number: \"))\n",
    "        if num <= 10:\n",
    "            print(\"The number should be greater than 10.\")\n",
    "        else:\n",
    "            divisions = count_divisions(num)\n",
    "            print(\"The number can be divided by 3\", divisions, \"times before it is less than or equal to 10.\")\n",
    "    except ValueError:\n",
    "        print(\"Invalid input. Please enter a valid number.\")\n",
    "\n",
    "if __name__ == \"__main__\":\n",
    "    main()\n"
   ]
  },
  {
   "cell_type": "markdown",
   "id": "d94586ad-c51b-4cf3-bbe2-9c7779d17d30",
   "metadata": {},
   "source": [
    "## Q5. Why and When to Use while Loop in Python give a detailed description with example "
   ]
  },
  {
   "cell_type": "markdown",
   "id": "9b65be4c-e1c0-4de1-8789-8b6b723e92ee",
   "metadata": {},
   "source": [
    "Ans= The while loop in Python is used to execute a block of code repeatedly as long as a specified condition evaluates to True. It is ideal for situations where you need to execute a block of code multiple times until a certain condition is met. Here's a detailed description of why and when to use the while loop in Python:\n",
    "\n",
    "- Repetition: The while loop is useful when you need to repeat a set of statements a certain number of times or until a particular condition becomes False. For example, you can use a while loop to iterate over a list of items, process each item, and stop when you reach the end of the list or when a specific condition is met.\n",
    "\n",
    "- Unknown Iteration Count: Unlike the for loop, which requires a definite number of iterations, the while loop is suitable when you do not know in advance how many times the loop needs to be executed. For example, you can use a while loop to continuously prompt the user for input until they provide valid input or until a specific condition is satisfied.\n",
    "\n",
    "- Condition-based Execution: The while loop allows you to execute a block of code as long as a given condition remains True. This makes it suitable for scenarios where the number of iterations is determined by a condition rather than a fixed range. For example, you can use a while loop to simulate a game loop, where the game continues until the player decides to quit or until certain conditions are met."
   ]
  },
  {
   "cell_type": "code",
   "execution_count": null,
   "id": "867a29c9-cd2c-46b9-acf6-b163b6d3ebdd",
   "metadata": {},
   "outputs": [],
   "source": [
    "# Example: Countdown timer using a while loop\n",
    "def countdown_timer(seconds):\n",
    "    while seconds > 0:\n",
    "        print(seconds)\n",
    "        seconds -= 1\n",
    "    print(\"Time's up!\")\n",
    "\n",
    "# Prompt the user to enter the number of seconds for the countdown timer\n",
    "try:\n",
    "    seconds = int(input(\"Enter the number of seconds for the countdown timer: \"))\n",
    "    countdown_timer(seconds)\n",
    "except ValueError:\n",
    "    print(\"Invalid input. Please enter a valid integer.\")\n"
   ]
  },
  {
   "cell_type": "markdown",
   "id": "d5623b4f-829d-4227-a872-6413e29e73fb",
   "metadata": {},
   "source": [
    "## Q6. Use nested while loop to print 3 different pattern. "
   ]
  },
  {
   "cell_type": "code",
   "execution_count": null,
   "id": "393e20fe-25b9-4fb3-89a6-7048ead3095e",
   "metadata": {},
   "outputs": [],
   "source": [
    "def pattern1(n):\n",
    "    i = 1\n",
    "    while i <= n:\n",
    "        j = 1\n",
    "        while j <= i:\n",
    "            print(j, end=\" \")\n",
    "            j += 1\n",
    "        print()\n",
    "        i += 1\n",
    "\n",
    "pattern1(5)\n"
   ]
  },
  {
   "cell_type": "code",
   "execution_count": null,
   "id": "98c74093-a6b6-4637-ba96-14963e0436d1",
   "metadata": {},
   "outputs": [],
   "source": [
    "def pattern2(n):\n",
    "    i = n\n",
    "    while i >= 1:\n",
    "        j = i\n",
    "        while j >= 1:\n",
    "            print(j, end=\" \")\n",
    "            j -= 1\n",
    "        print()\n",
    "        i -= 1\n",
    "\n",
    "pattern2(5)\n"
   ]
  },
  {
   "cell_type": "code",
   "execution_count": null,
   "id": "cdac7163-a413-4cd5-a814-6375e50ab5c5",
   "metadata": {},
   "outputs": [],
   "source": [
    "def pattern3(n):\n",
    "    i = 1\n",
    "    while i <= n:\n",
    "        j = 1\n",
    "        while j <= i:\n",
    "            print(\"*\", end=\" \")\n",
    "            j += 1\n",
    "        print()\n",
    "        i += 1\n",
    "\n",
    "pattern3(5)\n"
   ]
  },
  {
   "cell_type": "markdown",
   "id": "bdf0a0ba-d9a3-42b4-beb7-d0c81396a117",
   "metadata": {},
   "source": [
    "## Q7. Reverse a while loop to display numbers from 10 to 1. "
   ]
  },
  {
   "cell_type": "code",
   "execution_count": null,
   "id": "b2f13962-e7d1-4b79-8975-2fd9743c7ae6",
   "metadata": {},
   "outputs": [],
   "source": [
    "def display_reverse_numbers(start, end):\n",
    "    while start >= end:\n",
    "        print(start)\n",
    "        start -= 1\n",
    "\n",
    "# Call the function to display numbers from 10 to 1 in reverse order\n",
    "display_reverse_numbers(10, 1)\n"
   ]
  },
  {
   "cell_type": "markdown",
   "id": "78cece93-efd2-4ef8-a52e-c908a7f6ce7f",
   "metadata": {},
   "source": [
    "## Q8. Reverse a while loop to display numbers from 10 to 1 "
   ]
  },
  {
   "cell_type": "code",
   "execution_count": null,
   "id": "5879acdd-234e-4a0c-a883-10a47b226401",
   "metadata": {},
   "outputs": [],
   "source": [
    "def display_reverse_numbers(start, end):\n",
    "    while start >= end:\n",
    "        print(start)\n",
    "        start -= 1\n",
    "\n",
    "# Call the function to display numbers from 10 to 1 in reverse order\n",
    "display_reverse_numbers(10, 1)"
   ]
  },
  {
   "cell_type": "code",
   "execution_count": null,
   "id": "34c1d708-c07e-413a-923b-55b7cdb0e784",
   "metadata": {},
   "outputs": [],
   "source": []
  }
 ],
 "metadata": {
  "kernelspec": {
   "display_name": "Python 3 (ipykernel)",
   "language": "python",
   "name": "python3"
  },
  "language_info": {
   "codemirror_mode": {
    "name": "ipython",
    "version": 3
   },
   "file_extension": ".py",
   "mimetype": "text/x-python",
   "name": "python",
   "nbconvert_exporter": "python",
   "pygments_lexer": "ipython3",
   "version": "3.10.8"
  }
 },
 "nbformat": 4,
 "nbformat_minor": 5
}
