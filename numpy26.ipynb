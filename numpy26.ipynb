{
 "cells": [
  {
   "cell_type": "code",
   "execution_count": 3,
   "id": "d8a6ff9d-7375-4fcb-bd37-391efe9cd466",
   "metadata": {},
   "outputs": [],
   "source": [
    "## Consider the below code to answer further questions:\n",
    "import numpy as np\n",
    "list_ = [ '1' , '2' , '3' , '4' , '5' ]\n",
    "array_list = np.array(object = list_)"
   ]
  },
  {
   "cell_type": "markdown",
   "id": "db1bfcdc-1c8f-4c5d-8c06-67fe53950e09",
   "metadata": {},
   "source": [
    "## Q1. Is there any difference in the data type of variables list_ and array_list? If there is then write a code to print the data types of both the variables."
   ]
  },
  {
   "cell_type": "markdown",
   "id": "37699b86-62aa-4eed-8d9b-83c0a334cfb1",
   "metadata": {},
   "source": [
    "Ans= Yes, there is a difference in the data types of variables list_ and array_list.\n",
    "\n",
    "In Python, list_ is a built-in list type, while array_list is a NumPy array.\n",
    "\n",
    "The data type of list_ will be <class 'list'>, indicating that it is a Python list.\n",
    "\n",
    "The data type of array_list will be <class 'numpy.ndarray'>, indicating that it is a NumPy array.\n",
    "\n",
    "Here's an example code to print the data types of both variables:"
   ]
  },
  {
   "cell_type": "code",
   "execution_count": 4,
   "id": "420ace72-eff0-4594-9caf-85a9ea9af86f",
   "metadata": {},
   "outputs": [
    {
     "name": "stdout",
     "output_type": "stream",
     "text": [
      "Data type of list_:  <class 'list'>\n",
      "Data type of array_list:  <class 'numpy.ndarray'>\n"
     ]
    }
   ],
   "source": [
    "import numpy as np\n",
    "\n",
    "list_ = [1, 2, 3, 4, 5]\n",
    "array_list = np.array(list_)\n",
    "\n",
    "print(\"Data type of list_: \", type(list_))\n",
    "print(\"Data type of array_list: \", type(array_list))\n"
   ]
  },
  {
   "cell_type": "markdown",
   "id": "8f1120bd-d2b6-4094-bac9-25ffe1ce459a",
   "metadata": {},
   "source": [
    "## Q2. Write a code to print the data type of each and every element of both the variables list_ and arra_list."
   ]
  },
  {
   "cell_type": "code",
   "execution_count": 5,
   "id": "6710cf44-0ba0-46e4-8cb3-9540d412ccc8",
   "metadata": {},
   "outputs": [
    {
     "name": "stdout",
     "output_type": "stream",
     "text": [
      "Data types of elements in list_:\n",
      "<class 'str'>\n",
      "<class 'str'>\n",
      "<class 'str'>\n",
      "<class 'str'>\n",
      "<class 'str'>\n",
      "\n",
      "Data types of elements in array_list:\n",
      "<class 'numpy.str_'>\n",
      "<class 'numpy.str_'>\n",
      "<class 'numpy.str_'>\n",
      "<class 'numpy.str_'>\n",
      "<class 'numpy.str_'>\n"
     ]
    }
   ],
   "source": [
    "import numpy as np\n",
    "\n",
    "list_ = ['1', '2', '3', '4', '5']\n",
    "array_list = np.array(object=list_)\n",
    "\n",
    "print(\"Data types of elements in list_:\")\n",
    "for element in list_:\n",
    "    print(type(element))\n",
    "\n",
    "print(\"\\nData types of elements in array_list:\")\n",
    "for element in array_list:\n",
    "    print(type(element))\n"
   ]
  },
  {
   "cell_type": "markdown",
   "id": "c904844b-9714-4bdf-9c95-2ee5984a00c5",
   "metadata": {},
   "source": [
    "## Q3. Considering the following changes in the variable, array_list:\n",
    "\n",
    "array_list = np.array(object = list_, dtype = int)\n",
    "\n",
    "Will there be any difference in the data type of the elements present in both the variables, list_ and arra_list? If so then print the data types of each and every element present in both the variables, list_ and arra_list.\n",
    "\n",
    "Consider the below code to answer further questions:\n",
    "\n",
    "import numpy as np\n",
    "\n",
    "num_list = [ [ 1 , 2 , 3 ] , [ 4 , 5 , 6 ] ]\n",
    "\n",
    "num_array = np.array(object = num_list)"
   ]
  },
  {
   "cell_type": "markdown",
   "id": "ce987350-a97a-4c81-aa03-b36e80c14f14",
   "metadata": {},
   "source": [
    "Ans= Yes, there will be a difference in the data types of the elements present in list_ and array_list when array_list is created with the specified dtype as int."
   ]
  },
  {
   "cell_type": "code",
   "execution_count": 6,
   "id": "1c1451cb-5ec9-4752-b1b9-bb4e4f777ccd",
   "metadata": {},
   "outputs": [
    {
     "name": "stdout",
     "output_type": "stream",
     "text": [
      "Data types of elements in list_:\n",
      "<class 'str'>\n",
      "<class 'str'>\n",
      "<class 'str'>\n",
      "<class 'str'>\n",
      "<class 'str'>\n",
      "\n",
      "Data types of elements in array_list:\n",
      "<class 'numpy.int64'>\n",
      "<class 'numpy.int64'>\n",
      "<class 'numpy.int64'>\n",
      "<class 'numpy.int64'>\n",
      "<class 'numpy.int64'>\n"
     ]
    }
   ],
   "source": [
    "import numpy as np\n",
    "\n",
    "list_ = ['1', '2', '3', '4', '5']\n",
    "array_list = np.array(object=list_, dtype=int)\n",
    "\n",
    "print(\"Data types of elements in list_:\")\n",
    "for element in list_:\n",
    "    print(type(element))\n",
    "\n",
    "print(\"\\nData types of elements in array_list:\")\n",
    "for element in array_list:\n",
    "    print(type(element))\n"
   ]
  },
  {
   "cell_type": "markdown",
   "id": "88b60238-a253-436e-9d3f-2da730f88460",
   "metadata": {},
   "source": [
    "## Q4. Write a code to find the following characteristics of variable, num_array:\n",
    "\n",
    "(i) shape\n",
    "(ii) size"
   ]
  },
  {
   "cell_type": "code",
   "execution_count": 7,
   "id": "29b57193-e8cb-4aca-80da-9674a5725a03",
   "metadata": {},
   "outputs": [
    {
     "name": "stdout",
     "output_type": "stream",
     "text": [
      "Shape of num_array: (2, 3)\n",
      "Size of num_array: 6\n"
     ]
    }
   ],
   "source": [
    "import numpy as np\n",
    "\n",
    "num_list = [[1, 2, 3], [4, 5, 6]]\n",
    "num_array = np.array(object=num_list)\n",
    "\n",
    "# Find the shape of num_array\n",
    "shape = num_array.shape\n",
    "print(\"Shape of num_array:\", shape)\n",
    "\n",
    "# Find the size of num_array\n",
    "size = num_array.size\n",
    "print(\"Size of num_array:\", size)\n"
   ]
  },
  {
   "cell_type": "markdown",
   "id": "61220fb0-b484-43c0-b716-513125d2545d",
   "metadata": {},
   "source": [
    "## Q5. Write a code to create numpy array of 3*3 matrix containing zeros only, using a numpy array creation function.\n",
    "[Hint: The size of the array will be 9 and the shape will be (3,3).]"
   ]
  },
  {
   "cell_type": "code",
   "execution_count": 8,
   "id": "9f5ce199-5145-437c-8ef7-e8cb4abecc33",
   "metadata": {},
   "outputs": [
    {
     "name": "stdout",
     "output_type": "stream",
     "text": [
      "[[0. 0. 0.]\n",
      " [0. 0. 0.]\n",
      " [0. 0. 0.]]\n"
     ]
    }
   ],
   "source": [
    "import numpy as np\n",
    "\n",
    "# Create a 3x3 array of zeros\n",
    "zero_array = np.zeros((3, 3))\n",
    "\n",
    "print(zero_array)\n"
   ]
  },
  {
   "cell_type": "markdown",
   "id": "435d2af4-60da-430b-901b-5fd044dd335b",
   "metadata": {},
   "source": [
    "## Q6. Create an identity matrix of shape (5,5) using numpy functions?\n",
    "[Hint: An identity matrix is a matrix containing 1 diagonally and other elements will be 0.]"
   ]
  },
  {
   "cell_type": "code",
   "execution_count": 9,
   "id": "6a5f72f4-d041-47b9-a255-317342a2f0cd",
   "metadata": {},
   "outputs": [
    {
     "name": "stdout",
     "output_type": "stream",
     "text": [
      "[[1. 0. 0. 0. 0.]\n",
      " [0. 1. 0. 0. 0.]\n",
      " [0. 0. 1. 0. 0.]\n",
      " [0. 0. 0. 1. 0.]\n",
      " [0. 0. 0. 0. 1.]]\n"
     ]
    }
   ],
   "source": [
    "import numpy as np\n",
    "\n",
    "# Create a 5x5 identity matrix\n",
    "identity_matrix = np.identity(5)\n",
    "\n",
    "print(identity_matrix)\n"
   ]
  },
  {
   "cell_type": "code",
   "execution_count": null,
   "id": "83f68d0b-819b-4673-a98f-6724e82e15fc",
   "metadata": {},
   "outputs": [],
   "source": []
  }
 ],
 "metadata": {
  "kernelspec": {
   "display_name": "Python 3 (ipykernel)",
   "language": "python",
   "name": "python3"
  },
  "language_info": {
   "codemirror_mode": {
    "name": "ipython",
    "version": 3
   },
   "file_extension": ".py",
   "mimetype": "text/x-python",
   "name": "python",
   "nbconvert_exporter": "python",
   "pygments_lexer": "ipython3",
   "version": "3.10.8"
  }
 },
 "nbformat": 4,
 "nbformat_minor": 5
}
