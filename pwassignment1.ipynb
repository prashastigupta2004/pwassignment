{
 "cells": [
  {
   "cell_type": "markdown",
   "id": "e769dcc6-3d80-4705-b796-b642b7d70829",
   "metadata": {
    "tags": []
   },
   "source": [
    "## Q1 What are the characteristics of the tuples? Is tuple immutable?\n",
    "Ans= Tuples are ordered,immutable and can contain duplicate values. Yes,tuples are immutable thus we cannot make changes in it."
   ]
  },
  {
   "cell_type": "markdown",
   "id": "464311e4-abdd-4768-b8ad-1b2cdb29ca2e",
   "metadata": {},
   "source": [
    "## Q2 What are the two tuple methods in python? Give an example of each method. Give a reason why tuples have only two in-built methods as compared to Lists.\n",
    "Ans= The two tuple methods are count() and index(), count() return the number of times a particular value is occured in tuple and index() return the position \n",
    "of specified value from tuple.Because tuples are immutable and elements of tuple cannot be modified once they are created because of this there are only 2 in-built function.\n",
    "example: t1=(1,2,3,4,45,true)\n",
    "         t1.count(4)\n",
    "         t1.index(1)"
   ]
  },
  {
   "cell_type": "markdown",
   "id": "b00ca689-8350-4ddd-806e-db031b5e586b",
   "metadata": {},
   "source": [
    "## Q3 Which collection datatypes in python do not allow duplicate items? Write a code using a set to remove duplicates from the given list.\n",
    "## List = [1, 1, 1, 2, 1, 3, 1, 4, 2, 1, 2, 2, 2, 3, 2, 4, 3, 1, 3, 2, 3, 3, 3, 4, 4, 1, 4, 2, 4, 3, 4, 4]\n",
    "Ans= Sets is a collection datatype with no duplicate items.Code to remove duplicate are:\n",
    "List = [1, 1, 1, 2, 1, 3, 1, 4, 2, 1, 2, 2, 2, 3, 2, 4, 3, 1, 3, 2, 3, 3, 3, 4, 4, 1, 4, 2, 4, 3, 4, 4]\n",
    "\n",
    "nodup=[set(List)]\n",
    "\n",
    "print(\"list with no duplicate are:\",nodup)\n"
   ]
  },
  {
   "cell_type": "markdown",
   "id": "d5a43852-3058-49e2-b16f-23ff592375f0",
   "metadata": {},
   "source": [
    "## Q4 Explain the difference between the union() and update() methods for a set. Give an example of each method.\n",
    "Ans=set.update() adds all missing elements to set on which it is called, whereas set.union() creates a new set that contains all the element from both sets.\n",
    "\n",
    "example:\n",
    "    s1={1,2,3}\n",
    "    \n",
    "    s2={3,4,5}\n",
    "    \n",
    "    s1.update(s2)\n",
    "    \n",
    "    s3=s1.union(s2)\n",
    "    \n",
    "    print(s3)\n",
    "    "
   ]
  },
  {
   "cell_type": "markdown",
   "id": "741eb8a2-67ff-4104-bf7a-78c772485977",
   "metadata": {},
   "source": [
    "## Q5 What is a dictionary? Give an example. Also, state whether a dictionary is ordered or unordered.\n",
    "Ans=A dictioinary are mutable data structure that allow us to store key-value pair.Now dictionary are ordered earlier it was unordered.\n",
    "Example:\n",
    "\n",
    "    Dict={1:'apple', 2:'grapes', 3:'mango'}\n",
    "    \n",
    "    print(Dict)"
   ]
  },
  {
   "cell_type": "markdown",
   "id": "f1de8b5e-299a-4c02-bde0-f35b4be4075e",
   "metadata": {},
   "source": [
    "## Q6 Can we create a nested dictionary? If so, please give an example by creating a simple one-level nested dictionary.\n",
    "Ans= Yes we can create nested dictionary by placing comma separated dictionary enclosed in braces.Example:\n",
    "    \n",
    "    Dict={'dict1':{'name':'abc', 'age':'18'},'dict2':{'name':'xyz', 'age':'20'}}"
   ]
  },
  {
   "cell_type": "markdown",
   "id": "1a7ee4b0-15b7-4f76-b50d-8ef6c46f71be",
   "metadata": {},
   "source": [
    "## Q7 Using setdefault() method, create key named topics in the given dictionary and also add the value of the key as this list ['Python', 'Machine Learning’, 'Deep Learning']\n",
    "dict1 = {'language' : 'Python', 'course': 'Data Science Masters'}\n",
    "\n",
    "Ans=\n",
    "\n",
    "dict1 = {'language' : 'Python', 'course': 'Data Science Masters'}\n",
    "\n",
    "dict1.setdefault('topics', ['Python', 'Machine Learning’, 'Deep Learning'])\n",
    "\n",
    "print(dict1)"
   ]
  },
  {
   "cell_type": "markdown",
   "id": "33545ae5-1807-4e39-bdde-5944743cf906",
   "metadata": {},
   "source": [
    "## Q8 What are the three view objects in dictionaries? Use the three in-built methods in python to display these three view objects for the given dictionary.\n",
    "dict1 = {'Sport': 'Cricket' , 'Teams': ['India', 'Australia', 'England', 'South Africa', 'Sri Lanka', 'New Zealand']}\n",
    "\n",
    "Ans=The three view objects in dictionary are keys,values and items.\n",
    "\n",
    "dict1 = {'Sport': 'Cricket' , 'Teams': ['India', 'Australia', 'England', 'South Africa', 'Sri Lanka', 'New Zealand']}\n",
    "\n",
    "k=dict1.keys()\n",
    "\n",
    "print(k)\n",
    "\n",
    "v=dict1.values()\n",
    "\n",
    "print(v)\n",
    "\n",
    "i=dict1.items()\n",
    "\n",
    "print(i)"
   ]
  },
  {
   "cell_type": "code",
   "execution_count": null,
   "id": "43466126-bd7e-445e-b1aa-725ac54e4928",
   "metadata": {},
   "outputs": [],
   "source": []
  },
  {
   "cell_type": "code",
   "execution_count": null,
   "id": "507eff1f-5ecc-490e-b8e5-30b08b6958d4",
   "metadata": {},
   "outputs": [],
   "source": []
  }
 ],
 "metadata": {
  "kernelspec": {
   "display_name": "Python 3 (ipykernel)",
   "language": "python",
   "name": "python3"
  },
  "language_info": {
   "codemirror_mode": {
    "name": "ipython",
    "version": 3
   },
   "file_extension": ".py",
   "mimetype": "text/x-python",
   "name": "python",
   "nbconvert_exporter": "python",
   "pygments_lexer": "ipython3",
   "version": "3.10.8"
  }
 },
 "nbformat": 4,
 "nbformat_minor": 5
}
