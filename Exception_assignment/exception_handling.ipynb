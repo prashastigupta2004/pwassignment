{
 "cells": [
  {
   "cell_type": "markdown",
   "id": "12bbc53f-ea0f-440c-88f3-e719812d180f",
   "metadata": {},
   "source": [
    "## Q1.What is an exception in python?write the difference between Exceptions and syntax errors."
   ]
  },
  {
   "cell_type": "markdown",
   "id": "4900eda8-7ffe-4e63-b5f0-743bf7105e03",
   "metadata": {},
   "source": [
    "Ans= In Python, an exception is an event that occurs during the execution of a program that disrupts the normal flow of the program's instructions. When an exception occurs, Python raises an exception object that represents the error condition. Exception handling allows you to gracefully deal with these errors by catching and handling exceptions, preventing the program from crashing.\n",
    "\n",
    "The difference between Exceptions and Syntax Errors:\n",
    "\n",
    "- Exceptions:\n",
    "\n",
    "Exceptions occur during the execution of the program.\n",
    "They are raised when an error occurs at runtime.\n",
    "They disrupt the normal flow of the program's instructions.\n",
    "Examples include ZeroDivisionError, FileNotFoundError, TypeError, etc.\n",
    "\n",
    "- Syntax Errors:\n",
    "\n",
    "Syntax errors occur during the parsing of the program.\n",
    "They are detected by the Python interpreter before the program is executed.\n",
    "They are caused by invalid Python syntax.\n",
    "Examples include missing parentheses, invalid indentation, missing colons, etc."
   ]
  },
  {
   "cell_type": "markdown",
   "id": "86350305-7468-46d9-a2d3-8563ef29e185",
   "metadata": {},
   "source": [
    "## Q2. What happens with an exception is not handled? Explain with an example."
   ]
  },
  {
   "cell_type": "markdown",
   "id": "da643405-7a6f-466f-86a9-b6ba679d726c",
   "metadata": {},
   "source": [
    "Ans = When an exception is not handled in Python, it propagates up the call stack until it reaches the top-level of the program. If it's still not handled at that point, the Python interpreter prints a traceback and the program terminates abruptly. This can result in the program crashing and potentially leaving resources in an inconsistent state."
   ]
  },
  {
   "cell_type": "code",
   "execution_count": null,
   "id": "7bb641ce-af19-4558-8750-3e0fdb334b54",
   "metadata": {},
   "outputs": [],
   "source": [
    "def divide(x, y):\n",
    "    result = x / y  # This may raise a ZeroDivisionError\n",
    "    return result\n",
    "\n",
    "# Call the function with invalid input\n",
    "result = divide(10, 0)  # Division by zero\n",
    "print(\"Result:\", result)  # This line will not be executed due to the exception\n"
   ]
  },
  {
   "cell_type": "markdown",
   "id": "c7a4e203-1613-4655-8414-2b628bed297d",
   "metadata": {},
   "source": [
    "## Q3.Which python statement are used to catch and handle exception? explain with an example?"
   ]
  },
  {
   "cell_type": "markdown",
   "id": "a2a5646e-12d2-4c58-8a1e-320df841f115",
   "metadata": {},
   "source": [
    "Ans= In Python, the try, except, finally, and optionally else statements are used to catch and handle exceptions. These statements allow you to gracefully handle errors and prevent program crashes by providing a mechanism to handle exceptions.\n",
    "\n",
    "- try: This block of code is used to wrap the code that may raise an exception. If an exception occurs within the try block, Python immediately jumps to the except block.\n",
    "\n",
    "- except: This block of code is used to handle exceptions. It specifies the type of exception that you want to catch and provides code to handle that specific exception. You can have multiple except blocks to handle different types of exceptions.\n",
    "\n",
    "- finally: This block of code is optional and is used to specify cleanup code that should be executed regardless of whether an exception occurred or not. It's typically used to release resources that were acquired in the try block.\n",
    "\n",
    "- else: This block of code is also optional and is executed if no exception occurs in the try block. It's typically used for code that should be executed only if no exception occurs."
   ]
  },
  {
   "cell_type": "code",
   "execution_count": null,
   "id": "72d8acc6-a0e2-4a9e-90e7-d2d237df2626",
   "metadata": {},
   "outputs": [],
   "source": [
    "try:\n",
    "    # Code that may raise an exception\n",
    "    x = int(input(\"Enter a number: \"))\n",
    "    result = 10 / x\n",
    "except ValueError:\n",
    "    # Handle ValueError (e.g., if user input cannot be converted to an integer)\n",
    "    print(\"Invalid input. Please enter a valid number.\")\n",
    "except ZeroDivisionError:\n",
    "    # Handle ZeroDivisionError (e.g., if user input is zero)\n",
    "    print(\"Error: Division by zero!\")\n",
    "else:\n",
    "    # Executed if no exception occurs in the try block\n",
    "    print(\"Result:\", result)\n",
    "finally:\n",
    "    # Cleanup code that should be executed regardless of whether an exception occurred or not\n",
    "    print(\"Execution completed.\")"
   ]
  },
  {
   "cell_type": "markdown",
   "id": "2b23d3ba-7d41-471b-9900-61c08f88349f",
   "metadata": {},
   "source": [
    "## Q4 Explain with Example:\n",
    "a. try and else\n",
    "b. finally \n",
    "c. raise"
   ]
  },
  {
   "cell_type": "markdown",
   "id": "fe92a8ca-34af-4bf3-885c-0ac69daf279b",
   "metadata": {},
   "source": [
    "Ans=\n",
    "\n",
    "a. try and else:\n",
    "The try statement allows you to execute a block of code that may raise an exception. The else statement, which is optional, is executed if no exceptions occur in the try block."
   ]
  },
  {
   "cell_type": "code",
   "execution_count": 3,
   "id": "1e47a840-fab7-41c9-b04c-9a10fe5b303b",
   "metadata": {},
   "outputs": [
    {
     "name": "stdout",
     "output_type": "stream",
     "text": [
      "Result: 5.0\n"
     ]
    }
   ],
   "source": [
    "try:\n",
    "    result = 10 / 2\n",
    "except ZeroDivisionError:\n",
    "    print(\"Error: Division by zero!\")\n",
    "else:\n",
    "    print(\"Result:\", result)\n"
   ]
  },
  {
   "cell_type": "markdown",
   "id": "a79f227d-99e7-4978-8950-71e2d1b4d60f",
   "metadata": {},
   "source": [
    "b. finally:\n",
    "The finally statement is used to execute a block of code regardless of whether an exception occurs or not. It's typically used for cleanup operations, such as releasing resources or closing files."
   ]
  },
  {
   "cell_type": "code",
   "execution_count": 4,
   "id": "5988ce69-e988-4e17-a302-9074c6b792c7",
   "metadata": {},
   "outputs": [
    {
     "name": "stdout",
     "output_type": "stream",
     "text": [
      "Error: File not found!\n"
     ]
    }
   ],
   "source": [
    "try:\n",
    "    file = open(\"example.txt\", \"r\")\n",
    "    content = file.read()\n",
    "    print(content)\n",
    "except FileNotFoundError:\n",
    "    print(\"Error: File not found!\")\n",
    "finally:\n",
    "    if 'file' in locals():\n",
    "        file.close()\n"
   ]
  },
  {
   "cell_type": "markdown",
   "id": "8dabd113-4a30-42cf-91bd-3c10107e33ec",
   "metadata": {},
   "source": [
    "c. raise:\n",
    "The raise statement is used to explicitly raise an exception. It allows you to create custom exceptions or re-raise existing ones."
   ]
  },
  {
   "cell_type": "code",
   "execution_count": 5,
   "id": "3d1b5d5b-c0b2-43d5-bf2f-0706b58fcbb3",
   "metadata": {},
   "outputs": [
    {
     "name": "stdout",
     "output_type": "stream",
     "text": [
      "Error: Length and width must be positive numbers\n"
     ]
    }
   ],
   "source": [
    "def calculate_area(length, width):\n",
    "    if length <= 0 or width <= 0:\n",
    "        raise ValueError(\"Length and width must be positive numbers\")\n",
    "    return length * width\n",
    "\n",
    "try:\n",
    "    area = calculate_area(-5, 10)\n",
    "except ValueError as e:\n",
    "    print(\"Error:\", e)"
   ]
  },
  {
   "cell_type": "markdown",
   "id": "1d71e10b-1e77-465a-9853-afbfb3cd81b9",
   "metadata": {},
   "source": [
    "## Q5 What are custom Exceptions in python? Why do we need Custom Exception? Explain with example?"
   ]
  },
  {
   "cell_type": "markdown",
   "id": "194db476-9f87-43b9-96d5-675e907c64c4",
   "metadata": {},
   "source": [
    "Ans= Custom exceptions in Python are user-defined exception classes that inherit from Python's built-in Exception class. These custom exceptions allow you to define and raise your own types of exceptions tailored to the specific needs of your application or library.\n",
    "\n",
    "We need custom exceptions in Python for several reasons:\n",
    "\n",
    "- Enhanced Readability: Custom exceptions provide meaningful names that describe the specific error conditions encountered in your code, making it easier to understand and debug.\n",
    "\n",
    "- Modularization: By defining custom exceptions, you can modularize error handling and separate it from the core logic of your application. This improves code maintainability and allows for more organized and structured error handling.\n",
    "\n",
    "- Granular Error Handling: Custom exceptions allow you to handle different error conditions separately, providing more granular control over error handling and recovery strategies.\n",
    "\n",
    "- Documentation: Custom exceptions serve as a form of documentation for your code, clearly indicating the types of errors that can occur and how they should be handled."
   ]
  },
  {
   "cell_type": "markdown",
   "id": "a4e1097a-6a72-4243-b0cb-c41810b4d25e",
   "metadata": {},
   "source": [
    "## Q6 Create a custom exception class.Use this class to handle exception"
   ]
  },
  {
   "cell_type": "code",
   "execution_count": 6,
   "id": "ea41b030-8aa5-43f2-9921-4c800d9673b1",
   "metadata": {},
   "outputs": [
    {
     "name": "stdout",
     "output_type": "stream",
     "text": [
      "Invalid input: invalid\n"
     ]
    }
   ],
   "source": [
    "class InvalidInputError(Exception):\n",
    "    \"\"\"Custom exception raised for invalid input.\"\"\"\n",
    "    def __init__(self, input_value):\n",
    "        self.input_value = input_value\n",
    "        super().__init__(f\"Invalid input: {input_value}\")\n",
    "\n",
    "def process_input(input_value):\n",
    "    if not isinstance(input_value, int):\n",
    "        raise InvalidInputError(input_value)\n",
    "    # Perform some operation with the input\n",
    "    return input_value * 2\n",
    "\n",
    "# Example usage:\n",
    "try:\n",
    "    result = process_input(\"invalid\")\n",
    "except InvalidInputError as e:\n",
    "    print(e)\n"
   ]
  },
  {
   "cell_type": "code",
   "execution_count": null,
   "id": "4549bf35-39d9-44b5-8f5b-78e99f7d2764",
   "metadata": {},
   "outputs": [],
   "source": []
  }
 ],
 "metadata": {
  "kernelspec": {
   "display_name": "Python 3 (ipykernel)",
   "language": "python",
   "name": "python3"
  },
  "language_info": {
   "codemirror_mode": {
    "name": "ipython",
    "version": 3
   },
   "file_extension": ".py",
   "mimetype": "text/x-python",
   "name": "python",
   "nbconvert_exporter": "python",
   "pygments_lexer": "ipython3",
   "version": "3.10.8"
  }
 },
 "nbformat": 4,
 "nbformat_minor": 5
}
