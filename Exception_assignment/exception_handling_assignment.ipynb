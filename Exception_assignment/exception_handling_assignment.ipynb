{
 "cells": [
  {
   "cell_type": "markdown",
   "id": "55c74330-b07b-40cf-bd86-dca66e4303b4",
   "metadata": {},
   "source": [
    "Q1. Explain why we have to use the Exception class while creating a Custom Exception.\n",
    "\n",
    "Note: Here Exception class refers to the base class for all the exceptions."
   ]
  },
  {
   "cell_type": "markdown",
   "id": "318132a1-6c46-40c6-aace-2e8fc474151e",
   "metadata": {},
   "source": [
    "Ans= In Python, the Exception class serves as the base class for all built-in and custom exceptions. When creating a custom exception, it's important to inherit from the Exception class for several reasons:\n",
    "\n",
    "- Inheritance: By inheriting from the Exception class, your custom exception inherits all the properties and behaviors of the base Exception class. This includes attributes and methods that are useful for exception handling, such as __init__, __str__, and __repr__.\n",
    "\n",
    "- Consistency: Inheriting from the Exception class ensures that your custom exception behaves consistently with other built-in exceptions in Python. This makes it easier for other developers to understand and use your custom exception in their code.\n",
    "\n",
    "- Compatibility: Inheriting from the Exception class ensures compatibility with existing exception handling mechanisms in Python. This allows your custom exception to be caught and handled using standard exception handling techniques, such as try and except blocks.\n",
    "\n",
    "- Documentation: Inheriting from the Exception class provides implicit documentation for your custom exception. It indicates that your exception is intended to be used for exceptional error conditions and follows the conventions of the Python exception hierarchy.\n",
    "\n",
    "- Extensibility: By inheriting from the Exception class, you can further customize and extend your custom exception as needed. You can add additional attributes or methods to provide more context or functionality specific to your application's needs."
   ]
  },
  {
   "cell_type": "markdown",
   "id": "98d1db6a-c3a6-4bb8-ad2a-eec59bad6818",
   "metadata": {},
   "source": [
    "## Q2. Write a python program to print Python Exception Hierarchy."
   ]
  },
  {
   "cell_type": "code",
   "execution_count": 1,
   "id": "1b00f11c-5551-411a-bbbe-a855ac63f374",
   "metadata": {},
   "outputs": [
    {
     "name": "stdout",
     "output_type": "stream",
     "text": [
      "BaseException\n",
      "    object\n"
     ]
    }
   ],
   "source": [
    "def print_exception_hierarchy(exception_class, indent=0):\n",
    "    print(' ' * indent + exception_class.__name__)\n",
    "    for subclass in exception_class.__bases__:\n",
    "        print_exception_hierarchy(subclass, indent + 4)\n",
    "\n",
    "print_exception_hierarchy(BaseException)\n"
   ]
  },
  {
   "cell_type": "markdown",
   "id": "b89963d7-383d-4050-b1a5-ef8bf3b912f8",
   "metadata": {},
   "source": [
    "## Q3. What errors are defined in the ArithmeticError class? Explain any two with an example."
   ]
  },
  {
   "cell_type": "markdown",
   "id": "ad812498-2c30-4fcc-9afc-1e88624434bb",
   "metadata": {},
   "source": [
    "Ans= The ArithmeticError class in Python serves as the base class for exceptions that occur during arithmetic operations. It is a subclass of the Exception class and is used to handle errors related to arithmetic calculations.\n",
    "\n",
    "Two common errors defined in the ArithmeticError class are ZeroDivisionError and OverflowError.\n",
    "\n",
    "ZeroDivisionError:\n",
    "This error occurs when you try to divide a number by zero.\n",
    "It is raised when the divisor in a division or modulo operation is zero."
   ]
  },
  {
   "cell_type": "code",
   "execution_count": 2,
   "id": "3f45bfd5-c95b-4f0e-951f-8d9f990fd94c",
   "metadata": {},
   "outputs": [
    {
     "name": "stdout",
     "output_type": "stream",
     "text": [
      "Error: Division by zero!\n"
     ]
    }
   ],
   "source": [
    "try:\n",
    "    result = 10 / 0  \n",
    "except ZeroDivisionError:\n",
    "    print(\"Error: Division by zero!\")\n"
   ]
  },
  {
   "cell_type": "markdown",
   "id": "e29f6831-8f66-433f-9692-2a107d46a03d",
   "metadata": {},
   "source": [
    "OverflowError:\n",
    "This error occurs when the result of an arithmetic operation is too large to be represented.\n",
    "It is raised when the result of an arithmetic operation exceeds the maximum size that can be represented by the data type."
   ]
  },
  {
   "cell_type": "code",
   "execution_count": 4,
   "id": "44ed1406-b762-4121-8206-88eebfcfe45b",
   "metadata": {},
   "outputs": [],
   "source": [
    "import sys\n",
    "try:\n",
    "    result = sys.maxsize + 1 \n",
    "except OverflowError:\n",
    "    print(\"Error: Arithmetic overflow!\")\n"
   ]
  },
  {
   "cell_type": "markdown",
   "id": "fe544d7e-1431-449c-8961-88445b2b4f31",
   "metadata": {},
   "source": [
    "## Q4. Why LookupError class is used? Explain with an example KeyError and IndexError."
   ]
  },
  {
   "cell_type": "markdown",
   "id": "4477aef1-bbe9-44c0-947b-e24ab41aa71d",
   "metadata": {},
   "source": [
    "Ans= The LookupError class in Python serves as the base class for exceptions that occur when a key or index is not found during a lookup operation. It is a subclass of the Exception class and is used to handle errors related to key or index lookup operations.\n",
    "\n",
    "Two common errors defined in the LookupError class are KeyError and IndexError.\n",
    "\n",
    "KeyError:\n",
    "This error occurs when a dictionary key is not found during a key lookup operation.\n",
    "It is raised when you try to access a key that does not exist in a dictionary."
   ]
  },
  {
   "cell_type": "code",
   "execution_count": 5,
   "id": "9a8d1b40-f90e-4613-b163-d1e8cfeac8e8",
   "metadata": {},
   "outputs": [
    {
     "name": "stdout",
     "output_type": "stream",
     "text": [
      "Error: Key not found!\n"
     ]
    }
   ],
   "source": [
    "my_dict = {\"a\": 1, \"b\": 2, \"c\": 3}\n",
    "try:\n",
    "    value = my_dict[\"d\"]  # Accessing a non-existent key\n",
    "except KeyError:\n",
    "    print(\"Error: Key not found!\")\n"
   ]
  },
  {
   "cell_type": "markdown",
   "id": "27dbc17d-f51a-473e-bad7-71f63d976aad",
   "metadata": {},
   "source": [
    "IndexError:\n",
    "This error occurs when a list index is out of range during an index lookup operation.\n",
    "It is raised when you try to access an index that is beyond the bounds of a list or other sequence."
   ]
  },
  {
   "cell_type": "code",
   "execution_count": 6,
   "id": "dc3723d0-b50c-4ba5-a8c8-55dba375760e",
   "metadata": {},
   "outputs": [
    {
     "name": "stdout",
     "output_type": "stream",
     "text": [
      "Error: Index out of range!\n"
     ]
    }
   ],
   "source": [
    "my_list = [1, 2, 3]\n",
    "try:\n",
    "    value = my_list[3]  # Accessing an out-of-range index\n",
    "except IndexError:\n",
    "    print(\"Error: Index out of range!\")\n"
   ]
  },
  {
   "cell_type": "markdown",
   "id": "11b36d55-b1c9-45d8-ae72-7f495e0e3cb1",
   "metadata": {},
   "source": [
    "## Q5. Explain ImportError. What is ModuleNotFoundError?"
   ]
  },
  {
   "cell_type": "markdown",
   "id": "4079a057-4579-459f-942e-fa1a5389841c",
   "metadata": {},
   "source": [
    "Ans= In Python, ImportError is an exception that occurs when an import statement fails to find the module being imported or encounters an error while trying to import it. It is a subclass of the Exception class and is commonly raised when there is an issue with module loading during runtime.\n",
    "\n",
    "ImportError can occur due to various reasons, such as:\n",
    "\n",
    "- The module being imported does not exist.\n",
    "- The module being imported is not installed or cannot be found in the Python path.\n",
    "- There is a circular import dependency between modules.\n",
    "- There are syntax errors or other issues in the module being imported.\n",
    "\n",
    "ModuleNotFoundError is a subclass of ImportError introduced in Python 3.6. It specifically indicates that the module being imported could not be found. Prior to Python 3.6, ImportError was used for all import-related errors, including cases where the module was not found. To provide more clarity and granularity, Python 3.6 introduced ModuleNotFoundError to distinguish between general import errors and cases where the module is not found."
   ]
  },
  {
   "cell_type": "markdown",
   "id": "2fd8cdde-1162-424a-811d-cebe40ca439a",
   "metadata": {},
   "source": [
    "## Q6. List down some best practices for exception handling in python."
   ]
  },
  {
   "cell_type": "markdown",
   "id": "82130e64-c026-4445-aca5-7d16aa335bd9",
   "metadata": {},
   "source": [
    "Ans= Exception handling is a crucial aspect of writing robust and maintainable code in Python. Here are some best practices for exception handling:\n",
    "\n",
    "- Handle Specific Exceptions: Handle specific exceptions rather than catching all exceptions indiscriminately. This allows you to provide targeted error handling for different types of  errors and improves code readability.\n",
    "\n",
    "- Use Try-Except Blocks: Wrap code that may raise exceptions in try-except blocks. This allows you to catch and handle exceptions gracefully without crashing the program.\n",
    "\n",
    "- Avoid Bare Except Blocks: Avoid using bare except blocks without specifying the exception type. This can catch unexpected exceptions and make debugging difficult. Instead, catch specific exceptions or use a base exception like Exception if necessary.\n",
    "\n",
    "- Use Finally Blocks for Cleanup: Use finally blocks to ensure that cleanup code is executed regardless of whether an exception occurs. This is useful for releasing resources, closing files, or cleaning up after operations.\n",
    "\n",
    "- Provide Meaningful Error Messages: Provide meaningful error messages that describe the nature of the error and provide guidance on how to resolve it. This helps users understand what went wrong and how to address the issue.\n",
    "\n",
    "- Use Custom Exceptions: Define custom exceptions for specific error conditions in your application. This allows you to provide specialized error handling and makes it easier to differentiate between different types of errors.\n",
    "\n",
    "- Log Exceptions: Use logging to record exceptions and error messages for debugging purposes. Logging allows you to track down and diagnose issues in production environments.\n",
    "\n",
    "- Keep Exception Handling Minimal: Keep exception handling code minimal and focused on error recovery. Avoid placing too much logic inside try-except blocks, as this can make the code harder to understand and maintain.\n",
    "\n",
    "- Avoid Swallowing Exceptions: Avoid swallowing exceptions by catching them without taking any action. If you catch an exception, make sure to handle it appropriately or re-raise it if necessary.\n",
    "\n",
    "- Test Exception Handling: Test exception handling code to ensure that it behaves as expected under different error conditions. Use unit tests and integration tests to verify that exceptions are handled correctly."
   ]
  },
  {
   "cell_type": "code",
   "execution_count": null,
   "id": "1c6e2919-61fe-4f10-aefb-51541814f349",
   "metadata": {},
   "outputs": [],
   "source": []
  }
 ],
 "metadata": {
  "kernelspec": {
   "display_name": "Python 3 (ipykernel)",
   "language": "python",
   "name": "python3"
  },
  "language_info": {
   "codemirror_mode": {
    "name": "ipython",
    "version": 3
   },
   "file_extension": ".py",
   "mimetype": "text/x-python",
   "name": "python",
   "nbconvert_exporter": "python",
   "pygments_lexer": "ipython3",
   "version": "3.10.8"
  }
 },
 "nbformat": 4,
 "nbformat_minor": 5
}
