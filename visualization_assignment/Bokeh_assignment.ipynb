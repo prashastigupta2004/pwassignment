{
 "cells": [
  {
   "cell_type": "markdown",
   "id": "8bf343cf-6122-46a3-84c0-b89ee406a618",
   "metadata": {},
   "source": [
    "## Q1. How can you create a Bokeh plot using Python code?"
   ]
  },
  {
   "cell_type": "markdown",
   "id": "61a3f028-984d-4ae3-aee0-323283337d13",
   "metadata": {},
   "source": [
    "Ans= To create a Bokeh plot using Python code, you can follow these steps:\n",
    "\n",
    "1) Import the necessary modules: First, you need to import the bokeh.plotting module from the Bokeh library.\n",
    "\n",
    "2) Prepare your data: Organize your data that you want to visualize in the plot.\n",
    "\n",
    "3) Create a figure: Use the figure() function from bokeh.plotting to create a new figure for your plot. You can specify various attributes of the figure such as title, axis labels, and plot dimensions.\n",
    "\n",
    "4) Add glyphs: Use the various glyph methods such as circle(), line(), rect(), etc., to add glyphs (geometric shapes) to the plot. Each glyph represents a data point or a collection of data points.\n",
    "\n",
    "5) Customize the plot: You can further customize the plot by modifying its attributes such as colors, sizes, transparency, etc.\n",
    "\n",
    "6) Show the plot: Use the show() function to display the plot in the browser or save it to a file."
   ]
  },
  {
   "cell_type": "markdown",
   "id": "9802eb57-3ecd-4bbc-badb-e3c4f98ac68b",
   "metadata": {},
   "source": [
    "## Q2. What are glyphs in Bokeh, and how can you add them to a Bokeh plot? Explain with an example."
   ]
  },
  {
   "cell_type": "markdown",
   "id": "387970ab-6da7-48a5-a3eb-75b078ffb18c",
   "metadata": {},
   "source": [
    "Ans= In Bokeh, glyphs are geometric shapes or graphical elements used to represent data on plots. Glyphs can be added to Bokeh plots to visualize data points, lines, bars, patches, and more. Bokeh provides a variety of built-in glyph methods such as circle(), line(), rect(), vbar(), hbar(), etc., which can be used to add different types of glyphs to plots.\n",
    "\n",
    "To add glyphs to a Bokeh plot, you typically follow these steps:\n",
    "\n",
    "1. Import the necessary modules: Import the required modules from the Bokeh library.\n",
    "\n",
    "2. Prepare your data: Organize your data that you want to visualize in the plot.\n",
    "\n",
    "3. Create a figure: Use the figure() function to create a new figure for your plot. You can specify various attributes of the figure such as title, axis labels, and plot dimensions.\n",
    "\n",
    "4. Add glyphs: Use the glyph methods such as circle(), line(), rect(), etc., to add glyphs to the plot. Each glyph method takes parameters representing data coordinates, sizes, colors, etc., to customize the appearance of the glyph.\n",
    "\n",
    "5. Customize the plot: You can further customize the plot by modifying its attributes such as colors, sizes, transparency, etc.\n",
    "\n",
    "6. Show the plot: Use the show() function to display the plot in the browser or save it to a file.\n",
    "\n",
    "Here's a simple example demonstrating how to add glyphs to a Bokeh plot:"
   ]
  },
  {
   "cell_type": "code",
   "execution_count": null,
   "id": "781d92e5-bc4b-4a51-89c2-31a0ef92888e",
   "metadata": {},
   "outputs": [],
   "source": [
    "from bokeh.plotting import figure, output_file, show\n",
    "\n",
    "# Prepare your data\n",
    "x = [1, 2, 3, 4, 5]\n",
    "y = [6, 7, 2, 4, 5]\n",
    "\n",
    "# Create a new plot with title and axis labels\n",
    "p = figure(title=\"Glyph Example\", x_axis_label='x', y_axis_label='y')\n",
    "\n",
    "# Add a circle glyph representing data points\n",
    "p.circle(x, y, size=10, color=\"navy\", alpha=0.5)\n",
    "\n",
    "# Add a line glyph representing a line connecting data points\n",
    "p.line(x, y, line_width=2, color=\"red\", legend_label=\"Line\")\n",
    "\n",
    "# Output to static HTML file\n",
    "output_file(\"glyph_plot.html\")\n",
    "\n",
    "# Show the plot\n",
    "show(p)\n"
   ]
  },
  {
   "cell_type": "markdown",
   "id": "0608ec10-2cce-4d2e-aa87-492da96eecf4",
   "metadata": {},
   "source": [
    "## Q3. How can you customize the appearance of a Bokeh plot, including the axes, title, and legend?"
   ]
  },
  {
   "cell_type": "markdown",
   "id": "5c933702-0354-47ca-b4ed-46d87684929f",
   "metadata": {},
   "source": [
    "Ans= In Bokeh, we can customize the appearance of a plot by modifying various attributes such as axes, title, legend, colors, sizes, and more. Here's how you can customize the appearance of a Bokeh plot:\n",
    "\n",
    "Title: You can set the title of the plot using the title attribute of the figure object.\n",
    "\n",
    "Axes: You can customize the axes by setting attributes such as x_axis_label, y_axis_label, x_axis_location, y_axis_location, x_range, y_range, x_axis_type, and y_axis_type.\n",
    "\n",
    "Legend: You can add a legend to the plot to distinguish between different glyphs. You can customize the legend by setting attributes such as legend_location, legend_orientation, legend_label, legend_title, and legend_background_fill_color.\n",
    "\n",
    "Grid lines: You can control the visibility and appearance of grid lines using attributes such as xgrid, ygrid, grid_line_color, grid_line_width, grid_line_alpha, and more.\n",
    "\n",
    "Background: You can set the background color of the plot using the background_fill_color attribute.\n",
    "\n",
    "Border: You can customize the border of the plot using the border_fill_color, border_fill_alpha, outline_line_color, and outline_line_width attributes."
   ]
  },
  {
   "cell_type": "markdown",
   "id": "daf690a1-0ff1-433f-8e6d-30b784b1580b",
   "metadata": {},
   "source": [
    "## Q4. What is a Bokeh server, and how can you use it to create interactive plots that can be updated in real time?"
   ]
  },
  {
   "cell_type": "markdown",
   "id": "80379bde-9491-4b45-9d19-6b50a20f91da",
   "metadata": {},
   "source": [
    "Ans= A Bokeh server is a Python server that allows you to create and deploy interactive Bokeh plots and applications. It enables you to build dynamic and interactive web applications with Python. With Bokeh server, you can create plots that respond to user interactions, update in real-time, and synchronize data across multiple clients.\n",
    "\n",
    "Here's how we can use Bokeh server to create interactive plots that can be updated in real-time:\n",
    "\n",
    "1) Define the Plot: Start by defining your plot using Bokeh's plotting interface, as you would for any Bokeh plot.\n",
    "\n",
    "2) Define Callbacks: Define Python callback functions that are triggered by user interactions such as mouse clicks, keyboard inputs, or changes in widget values.\n",
    "\n",
    "3) Create Widgets: Create interactive widgets such as sliders, buttons, dropdown menus, etc., using Bokeh's widget interface. These widgets can be used to control the behavior of the plot or update the data.\n",
    "\n",
    "4) Link Callbacks and Widgets: Link the callback functions with the interactive widgets to update the plot based on user interactions.\n",
    "\n",
    "5) Deploy the Application: Deploy the Bokeh server application using the bokeh serve command. This command starts a local Bokeh server that serves the interactive plot or application.\n",
    "\n",
    "6) Access the Application: Access the interactive plot or application in a web browser by navigating to the URL provided by the Bokeh server."
   ]
  },
  {
   "cell_type": "markdown",
   "id": "87f64829-990c-454b-b526-7b5b45fbf188",
   "metadata": {},
   "source": [
    "## Q5. How can you embed a Bokeh plot into a web page or dashboard using Flask or Django?"
   ]
  },
  {
   "cell_type": "markdown",
   "id": "a7d587bb-80a1-4538-8125-ad06bc602cd8",
   "metadata": {},
   "source": [
    "Ans= Bokeh Server is a Python library that allows you to create and serve interactive Bokeh plots as standalone web applications. With Bokeh Server, you can build interactive plots that can be updated in real-time based on user interactions or data changes. It enables you to add widgets and callbacks to your plots, allowing users to interact with the data dynamically.\n",
    "\n",
    "Here's how we can use Bokeh Server to create interactive plots:\n",
    "\n",
    "- Define your Bokeh plot and widgets: Create your Bokeh plot as usual, and add any interactive widgets (e.g., sliders, dropdowns) that you want to use to control the plot.\n",
    "\n",
    "- Define callbacks: Define callback functions that will be triggered when the user interacts with the widgets. Inside the callbacks, update the plot based on the user's input.\n",
    "\n",
    "- Create Bokeh applications: Use the bokeh.application module to define Bokeh applications, which encapsulate your plot, widgets, and callbacks.\n",
    "\n",
    "- Run the Bokeh Server: Start the Bokeh Server and pass it your Bokeh applications. The server will host your interactive plots and handle communication between the plot and the widgets.\n"
   ]
  },
  {
   "cell_type": "code",
   "execution_count": null,
   "id": "66917a9d-f011-4d9b-8bc4-74116f1eef8f",
   "metadata": {},
   "outputs": [],
   "source": []
  }
 ],
 "metadata": {
  "kernelspec": {
   "display_name": "Python 3 (ipykernel)",
   "language": "python",
   "name": "python3"
  },
  "language_info": {
   "codemirror_mode": {
    "name": "ipython",
    "version": 3
   },
   "file_extension": ".py",
   "mimetype": "text/x-python",
   "name": "python",
   "nbconvert_exporter": "python",
   "pygments_lexer": "ipython3",
   "version": "3.10.8"
  }
 },
 "nbformat": 4,
 "nbformat_minor": 5
}
